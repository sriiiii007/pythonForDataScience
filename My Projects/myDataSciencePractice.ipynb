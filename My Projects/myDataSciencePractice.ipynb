{
 "cells": [
  {
   "cell_type": "markdown",
   "id": "fe9e8abd",
   "metadata": {},
   "source": [
    "# Theory"
   ]
  },
  {
   "cell_type": "code",
   "execution_count": 1,
   "id": "39879260",
   "metadata": {},
   "outputs": [
    {
     "data": {
      "text/plain": [
       "5"
      ]
     },
     "execution_count": 1,
     "metadata": {},
     "output_type": "execute_result"
    }
   ],
   "source": [
    "2 + 3"
   ]
  },
  {
   "cell_type": "code",
   "execution_count": 2,
   "id": "6e10be79",
   "metadata": {},
   "outputs": [
    {
     "data": {
      "text/plain": [
       "1"
      ]
     },
     "execution_count": 2,
     "metadata": {},
     "output_type": "execute_result"
    }
   ],
   "source": [
    "3 - 2"
   ]
  },
  {
   "cell_type": "code",
   "execution_count": 3,
   "id": "37552f56",
   "metadata": {},
   "outputs": [
    {
     "data": {
      "text/plain": [
       "96"
      ]
     },
     "execution_count": 3,
     "metadata": {},
     "output_type": "execute_result"
    }
   ],
   "source": [
    "8 * 12"
   ]
  },
  {
   "cell_type": "code",
   "execution_count": 4,
   "id": "8efe6aa0",
   "metadata": {},
   "outputs": [
    {
     "data": {
      "text/plain": [
       "14.285714285714286"
      ]
     },
     "execution_count": 4,
     "metadata": {},
     "output_type": "execute_result"
    }
   ],
   "source": [
    "100 / 7"
   ]
  },
  {
   "cell_type": "code",
   "execution_count": 5,
   "id": "212b540b",
   "metadata": {},
   "outputs": [
    {
     "data": {
      "text/plain": [
       "14"
      ]
     },
     "execution_count": 5,
     "metadata": {},
     "output_type": "execute_result"
    }
   ],
   "source": [
    "100 // 7"
   ]
  },
  {
   "cell_type": "code",
   "execution_count": 6,
   "id": "ca29d75a",
   "metadata": {},
   "outputs": [
    {
     "data": {
      "text/plain": [
       "100"
      ]
     },
     "execution_count": 6,
     "metadata": {},
     "output_type": "execute_result"
    }
   ],
   "source": [
    "2 + 14* 7"
   ]
  },
  {
   "cell_type": "code",
   "execution_count": 7,
   "id": "f9bcb969",
   "metadata": {},
   "outputs": [
    {
     "data": {
      "text/plain": [
       "3125"
      ]
     },
     "execution_count": 7,
     "metadata": {},
     "output_type": "execute_result"
    }
   ],
   "source": [
    "5 ** 5"
   ]
  },
  {
   "cell_type": "code",
   "execution_count": 8,
   "id": "4293d6fc",
   "metadata": {},
   "outputs": [
    {
     "data": {
      "text/plain": [
       "1.53125"
      ]
     },
     "execution_count": 8,
     "metadata": {},
     "output_type": "execute_result"
    }
   ],
   "source": [
    "((2 + 5)  * (17 - 3)) / (4**3)"
   ]
  },
  {
   "cell_type": "code",
   "execution_count": 9,
   "id": "0ffcd190",
   "metadata": {},
   "outputs": [],
   "source": [
    "cost_of_ice_bag = 1.25"
   ]
  },
  {
   "cell_type": "code",
   "execution_count": 10,
   "id": "4293614e",
   "metadata": {},
   "outputs": [],
   "source": [
    "profit_margin = .2"
   ]
  },
  {
   "cell_type": "code",
   "execution_count": 11,
   "id": "abd99607",
   "metadata": {},
   "outputs": [],
   "source": [
    "number_of_bags = 500 "
   ]
  },
  {
   "cell_type": "code",
   "execution_count": 12,
   "id": "e8442ca2",
   "metadata": {},
   "outputs": [],
   "source": [
    "total_profit = number_of_bags*(profit_margin*cost_of_ice_bag)"
   ]
  },
  {
   "cell_type": "code",
   "execution_count": 13,
   "id": "ca364129",
   "metadata": {},
   "outputs": [
    {
     "name": "stdout",
     "output_type": "stream",
     "text": [
      "125.0\n"
     ]
    }
   ],
   "source": [
    "print(total_profit)"
   ]
  },
  {
   "cell_type": "code",
   "execution_count": 14,
   "id": "e1f75c92",
   "metadata": {},
   "outputs": [
    {
     "name": "stdout",
     "output_type": "stream",
     "text": [
      "The grocery store makes a profit of $ 125.0\n"
     ]
    }
   ],
   "source": [
    "print(\"The grocery store makes a profit of $\", total_profit)"
   ]
  },
  {
   "cell_type": "code",
   "execution_count": 15,
   "id": "2cad9496",
   "metadata": {},
   "outputs": [
    {
     "name": "stdout",
     "output_type": "stream",
     "text": [
      "The grocery store makes a profit of $ 125.0\n"
     ]
    }
   ],
   "source": [
    "# Store input data in a variable\n",
    "cost_of_ice_bag = 1.25\n",
    "profit_margin = .2\n",
    "number_of_bags = 500\n",
    "\n",
    "# Perform the required calculations\n",
    "profit_per_bag = cost_of_ice_bag * profit_margin\n",
    "total_profit = number_of_bags * profit_per_bag\n",
    "\n",
    "# Display the result\n",
    "print(\"The grocery store makes a profit of $\", total_profit)"
   ]
  },
  {
   "cell_type": "markdown",
   "id": "3a38525a",
   "metadata": {},
   "source": [
    "# Operators\n"
   ]
  },
  {
   "cell_type": "markdown",
   "id": "592a009b",
   "metadata": {},
   "source": [
    "< , >, >= , <=, ==, and, or, not"
   ]
  },
  {
   "cell_type": "code",
   "execution_count": 16,
   "id": "d013ed2f",
   "metadata": {},
   "outputs": [
    {
     "data": {
      "text/plain": [
       "False"
      ]
     },
     "execution_count": 16,
     "metadata": {},
     "output_type": "execute_result"
    }
   ],
   "source": [
    "3 > 6"
   ]
  },
  {
   "cell_type": "code",
   "execution_count": 17,
   "id": "208d80a4",
   "metadata": {},
   "outputs": [
    {
     "data": {
      "text/plain": [
       "True"
      ]
     },
     "execution_count": 17,
     "metadata": {},
     "output_type": "execute_result"
    }
   ],
   "source": [
    "6 > 3"
   ]
  },
  {
   "cell_type": "markdown",
   "id": "58938d33",
   "metadata": {},
   "source": [
    "# Python variable and datatypes"
   ]
  },
  {
   "cell_type": "code",
   "execution_count": 18,
   "id": "b53d7ad4",
   "metadata": {},
   "outputs": [
    {
     "name": "stdout",
     "output_type": "stream",
     "text": [
      "green\n"
     ]
    }
   ],
   "source": [
    "color1, color2, color3 = \"red\", \"green\", \"blue\"\n",
    "print(color2)"
   ]
  },
  {
   "cell_type": "code",
   "execution_count": 19,
   "id": "ba881d3b",
   "metadata": {},
   "outputs": [
    {
     "name": "stdout",
     "output_type": "stream",
     "text": [
      "2\n"
     ]
    }
   ],
   "source": [
    "counter = 1\n",
    "counter = counter + 1\n",
    "print(counter)"
   ]
  },
  {
   "cell_type": "markdown",
   "id": "71e516cd",
   "metadata": {},
   "source": [
    "Intergers, Float, Boolean, None, String, List, Tuple, Set, Dict"
   ]
  },
  {
   "cell_type": "code",
   "execution_count": 20,
   "id": "a7c1423e",
   "metadata": {},
   "outputs": [
    {
     "data": {
      "text/plain": [
       "4"
      ]
     },
     "execution_count": 20,
     "metadata": {},
     "output_type": "execute_result"
    }
   ],
   "source": [
    "len(color3)"
   ]
  },
  {
   "cell_type": "code",
   "execution_count": 21,
   "id": "404a05b7",
   "metadata": {},
   "outputs": [
    {
     "data": {
      "text/plain": [
       "['r', 'e', 'd']"
      ]
     },
     "execution_count": 21,
     "metadata": {},
     "output_type": "execute_result"
    }
   ],
   "source": [
    "list(color1)"
   ]
  },
  {
   "cell_type": "code",
   "execution_count": 22,
   "id": "7bd49477",
   "metadata": {},
   "outputs": [],
   "source": [
    "today = \" Saturday \""
   ]
  },
  {
   "cell_type": "code",
   "execution_count": 23,
   "id": "a0cd63f8",
   "metadata": {},
   "outputs": [
    {
     "data": {
      "text/plain": [
       "'S'"
      ]
     },
     "execution_count": 23,
     "metadata": {},
     "output_type": "execute_result"
    }
   ],
   "source": [
    "today[1]"
   ]
  },
  {
   "cell_type": "code",
   "execution_count": 24,
   "id": "01dfd015",
   "metadata": {},
   "outputs": [
    {
     "data": {
      "text/plain": [
       "'turda'"
      ]
     },
     "execution_count": 24,
     "metadata": {},
     "output_type": "execute_result"
    }
   ],
   "source": [
    "today[3:8]"
   ]
  },
  {
   "cell_type": "code",
   "execution_count": 25,
   "id": "37d7c2c4",
   "metadata": {},
   "outputs": [
    {
     "data": {
      "text/plain": [
       "' yadrutaS '"
      ]
     },
     "execution_count": 25,
     "metadata": {},
     "output_type": "execute_result"
    }
   ],
   "source": [
    "today[::-1]"
   ]
  },
  {
   "cell_type": "code",
   "execution_count": 26,
   "id": "0cbfab6b",
   "metadata": {},
   "outputs": [
    {
     "data": {
      "text/plain": [
       "True"
      ]
     },
     "execution_count": 26,
     "metadata": {},
     "output_type": "execute_result"
    }
   ],
   "source": [
    "'day' in today"
   ]
  },
  {
   "cell_type": "code",
   "execution_count": 27,
   "id": "95d4ca80",
   "metadata": {},
   "outputs": [
    {
     "name": "stdout",
     "output_type": "stream",
     "text": [
      "Hello Derek\n"
     ]
    }
   ],
   "source": [
    "full_name = \"Derek\"\n",
    "greeting = \"Hello\"\n",
    "new_greeting = greeting +\" \"+full_name\n",
    "print(new_greeting)"
   ]
  },
  {
   "cell_type": "code",
   "execution_count": 28,
   "id": "f2548565",
   "metadata": {},
   "outputs": [
    {
     "data": {
      "text/plain": [
       "'hello derek'"
      ]
     },
     "execution_count": 28,
     "metadata": {},
     "output_type": "execute_result"
    }
   ],
   "source": [
    "new_greeting.lower()"
   ]
  },
  {
   "cell_type": "code",
   "execution_count": 29,
   "id": "66953f95",
   "metadata": {},
   "outputs": [
    {
     "data": {
      "text/plain": [
       "'Wednesday Derek'"
      ]
     },
     "execution_count": 29,
     "metadata": {},
     "output_type": "execute_result"
    }
   ],
   "source": [
    "new_greeting.replace(\"Hello\",\"Wednesday\")"
   ]
  },
  {
   "cell_type": "code",
   "execution_count": 30,
   "id": "7449096b",
   "metadata": {},
   "outputs": [
    {
     "data": {
      "text/plain": [
       "['Hello', 'Derek']"
      ]
     },
     "execution_count": 30,
     "metadata": {},
     "output_type": "execute_result"
    }
   ],
   "source": [
    "new_greeting.split(\" \")"
   ]
  },
  {
   "cell_type": "markdown",
   "id": "586b0c4b",
   "metadata": {},
   "source": [
    "# Lists in Python"
   ]
  },
  {
   "cell_type": "code",
   "execution_count": 31,
   "id": "c16c258c",
   "metadata": {},
   "outputs": [
    {
     "data": {
      "text/plain": [
       "['apple', 'banana', 'cherry']"
      ]
     },
     "execution_count": 31,
     "metadata": {},
     "output_type": "execute_result"
    }
   ],
   "source": [
    "fruits = ['apple','banana','cherry']\n",
    "fruits"
   ]
  },
  {
   "cell_type": "code",
   "execution_count": 32,
   "id": "21515964",
   "metadata": {},
   "outputs": [
    {
     "data": {
      "text/plain": [
       "list"
      ]
     },
     "execution_count": 32,
     "metadata": {},
     "output_type": "execute_result"
    }
   ],
   "source": [
    "type(fruits)"
   ]
  },
  {
   "cell_type": "code",
   "execution_count": 33,
   "id": "bba3ba70",
   "metadata": {},
   "outputs": [],
   "source": [
    "a_list = [23,\"hello\",None, 3.14,fruits, 3 <= 5]"
   ]
  },
  {
   "cell_type": "code",
   "execution_count": 34,
   "id": "a9b610dd",
   "metadata": {},
   "outputs": [
    {
     "data": {
      "text/plain": [
       "[23, 'hello', None, 3.14, ['apple', 'banana', 'cherry'], True]"
      ]
     },
     "execution_count": 34,
     "metadata": {},
     "output_type": "execute_result"
    }
   ],
   "source": [
    "a_list"
   ]
  },
  {
   "cell_type": "code",
   "execution_count": 35,
   "id": "c4049da8",
   "metadata": {},
   "outputs": [
    {
     "data": {
      "text/plain": [
       "6"
      ]
     },
     "execution_count": 35,
     "metadata": {},
     "output_type": "execute_result"
    }
   ],
   "source": [
    "empty_list = []\n",
    "len(a_list)"
   ]
  },
  {
   "cell_type": "code",
   "execution_count": 36,
   "id": "a32797e2",
   "metadata": {},
   "outputs": [
    {
     "data": {
      "text/plain": [
       "23"
      ]
     },
     "execution_count": 36,
     "metadata": {},
     "output_type": "execute_result"
    }
   ],
   "source": [
    "a_list[0]"
   ]
  },
  {
   "cell_type": "code",
   "execution_count": 37,
   "id": "5306b272",
   "metadata": {},
   "outputs": [
    {
     "data": {
      "text/plain": [
       "'hello'"
      ]
     },
     "execution_count": 37,
     "metadata": {},
     "output_type": "execute_result"
    }
   ],
   "source": [
    "a_list[1]"
   ]
  },
  {
   "cell_type": "code",
   "execution_count": 38,
   "id": "bd357251",
   "metadata": {},
   "outputs": [
    {
     "data": {
      "text/plain": [
       "True"
      ]
     },
     "execution_count": 38,
     "metadata": {},
     "output_type": "execute_result"
    }
   ],
   "source": [
    "a_list[-1]"
   ]
  },
  {
   "cell_type": "code",
   "execution_count": 39,
   "id": "46ae59f9",
   "metadata": {},
   "outputs": [
    {
     "data": {
      "text/plain": [
       "[None, 3.14, ['apple', 'banana', 'cherry']]"
      ]
     },
     "execution_count": 39,
     "metadata": {},
     "output_type": "execute_result"
    }
   ],
   "source": [
    "a_list[2:5] "
   ]
  },
  {
   "cell_type": "code",
   "execution_count": 40,
   "id": "8fec348d",
   "metadata": {},
   "outputs": [
    {
     "name": "stdout",
     "output_type": "stream",
     "text": [
      "23\n",
      "hello\n",
      "None\n",
      "3.14\n",
      "['apple', 'banana', 'cherry']\n",
      "True\n"
     ]
    }
   ],
   "source": [
    "for i in a_list:\n",
    "    print(i)"
   ]
  },
  {
   "cell_type": "code",
   "execution_count": 41,
   "id": "f7f10f83",
   "metadata": {},
   "outputs": [],
   "source": [
    "fruits.append(\"dates\")"
   ]
  },
  {
   "cell_type": "code",
   "execution_count": 42,
   "id": "c18fb3e1",
   "metadata": {},
   "outputs": [
    {
     "data": {
      "text/plain": [
       "['apple', 'banana', 'cherry', 'dates']"
      ]
     },
     "execution_count": 42,
     "metadata": {},
     "output_type": "execute_result"
    }
   ],
   "source": [
    "fruits"
   ]
  },
  {
   "cell_type": "code",
   "execution_count": 43,
   "id": "42f90e1a",
   "metadata": {},
   "outputs": [],
   "source": [
    "fruits.insert(3,\"Strawberry\")"
   ]
  },
  {
   "cell_type": "code",
   "execution_count": 44,
   "id": "9996bb94",
   "metadata": {},
   "outputs": [
    {
     "data": {
      "text/plain": [
       "['apple', 'banana', 'cherry', 'Strawberry', 'dates']"
      ]
     },
     "execution_count": 44,
     "metadata": {},
     "output_type": "execute_result"
    }
   ],
   "source": [
    "fruits"
   ]
  },
  {
   "cell_type": "code",
   "execution_count": 45,
   "id": "283b433c",
   "metadata": {},
   "outputs": [
    {
     "data": {
      "text/plain": [
       "True"
      ]
     },
     "execution_count": 45,
     "metadata": {},
     "output_type": "execute_result"
    }
   ],
   "source": [
    "'cherry' in fruits"
   ]
  },
  {
   "cell_type": "code",
   "execution_count": 46,
   "id": "4b4e1376",
   "metadata": {},
   "outputs": [],
   "source": [
    "more_fruits = fruits + fruits"
   ]
  },
  {
   "cell_type": "code",
   "execution_count": 47,
   "id": "6bc39ee7",
   "metadata": {},
   "outputs": [
    {
     "data": {
      "text/plain": [
       "['apple',\n",
       " 'banana',\n",
       " 'cherry',\n",
       " 'Strawberry',\n",
       " 'dates',\n",
       " 'apple',\n",
       " 'banana',\n",
       " 'cherry',\n",
       " 'Strawberry',\n",
       " 'dates']"
      ]
     },
     "execution_count": 47,
     "metadata": {},
     "output_type": "execute_result"
    }
   ],
   "source": [
    "more_fruits"
   ]
  },
  {
   "cell_type": "code",
   "execution_count": 48,
   "id": "98a5b482",
   "metadata": {},
   "outputs": [],
   "source": [
    "more_fruits1 = more_fruits.copy()"
   ]
  },
  {
   "cell_type": "code",
   "execution_count": 49,
   "id": "a1177f85",
   "metadata": {},
   "outputs": [
    {
     "data": {
      "text/plain": [
       "['apple',\n",
       " 'banana',\n",
       " 'cherry',\n",
       " 'Strawberry',\n",
       " 'dates',\n",
       " 'apple',\n",
       " 'banana',\n",
       " 'cherry',\n",
       " 'Strawberry',\n",
       " 'dates']"
      ]
     },
     "execution_count": 49,
     "metadata": {},
     "output_type": "execute_result"
    }
   ],
   "source": [
    "more_fruits1"
   ]
  },
  {
   "cell_type": "code",
   "execution_count": 50,
   "id": "d4f3e20e",
   "metadata": {},
   "outputs": [
    {
     "data": {
      "text/plain": [
       "tuple"
      ]
     },
     "execution_count": 50,
     "metadata": {},
     "output_type": "execute_result"
    }
   ],
   "source": [
    "#Tuples can't be modified once they are created\n",
    "tuple1 = (\"apple\",\"banana\" \"cherry\")\n",
    "type(tuple1)"
   ]
  },
  {
   "cell_type": "code",
   "execution_count": 51,
   "id": "e6b397b1",
   "metadata": {},
   "outputs": [],
   "source": [
    "person = {\n",
    "    'name':'Srinidhi',\n",
    "    'age': 24,\n",
    "    'gender':'Male'\n",
    "}"
   ]
  },
  {
   "cell_type": "code",
   "execution_count": 52,
   "id": "2c3ac035",
   "metadata": {},
   "outputs": [
    {
     "data": {
      "text/plain": [
       "dict_keys(['name', 'age', 'gender'])"
      ]
     },
     "execution_count": 52,
     "metadata": {},
     "output_type": "execute_result"
    }
   ],
   "source": [
    "person.keys()"
   ]
  },
  {
   "cell_type": "code",
   "execution_count": 53,
   "id": "6bc3f407",
   "metadata": {},
   "outputs": [
    {
     "data": {
      "text/plain": [
       "'Srinidhi'"
      ]
     },
     "execution_count": 53,
     "metadata": {},
     "output_type": "execute_result"
    }
   ],
   "source": [
    "person['name']"
   ]
  },
  {
   "cell_type": "code",
   "execution_count": 54,
   "id": "b0453ab6",
   "metadata": {},
   "outputs": [
    {
     "data": {
      "text/plain": [
       "'Srinidhi'"
      ]
     },
     "execution_count": 54,
     "metadata": {},
     "output_type": "execute_result"
    }
   ],
   "source": [
    "person.get('name')"
   ]
  },
  {
   "cell_type": "code",
   "execution_count": 55,
   "id": "a13fb566",
   "metadata": {},
   "outputs": [
    {
     "name": "stdout",
     "output_type": "stream",
     "text": [
      "{'name': 'Srinidhi', 'age': 24, 'gender': 'Male', 26: 'Sannidhi'}\n"
     ]
    }
   ],
   "source": [
    "person[26] = \"Sannidhi\"\n",
    "print(person)"
   ]
  },
  {
   "cell_type": "code",
   "execution_count": 56,
   "id": "e8cf60d5",
   "metadata": {},
   "outputs": [
    {
     "data": {
      "text/plain": [
       "dict_values(['Srinidhi', 24, 'Male', 'Sannidhi'])"
      ]
     },
     "execution_count": 56,
     "metadata": {},
     "output_type": "execute_result"
    }
   ],
   "source": [
    "person.values()"
   ]
  },
  {
   "cell_type": "code",
   "execution_count": 57,
   "id": "e7907a07",
   "metadata": {},
   "outputs": [
    {
     "data": {
      "text/plain": [
       "dict_items([('name', 'Srinidhi'), ('age', 24), ('gender', 'Male'), (26, 'Sannidhi')])"
      ]
     },
     "execution_count": 57,
     "metadata": {},
     "output_type": "execute_result"
    }
   ],
   "source": [
    "person.items()"
   ]
  },
  {
   "cell_type": "code",
   "execution_count": 58,
   "id": "5409428b",
   "metadata": {},
   "outputs": [
    {
     "name": "stdout",
     "output_type": "stream",
     "text": [
      "name Srinidhi\n",
      "age 24\n",
      "gender Male\n",
      "26 Sannidhi\n"
     ]
    }
   ],
   "source": [
    "for i,j in person.items():\n",
    "    print(i,j)"
   ]
  },
  {
   "cell_type": "markdown",
   "id": "68c8a7f0",
   "metadata": {},
   "source": [
    "### Conditional Statements"
   ]
  },
  {
   "cell_type": "code",
   "execution_count": 59,
   "id": "1a53fab1",
   "metadata": {},
   "outputs": [
    {
     "name": "stdout",
     "output_type": "stream",
     "text": [
      "Even\n"
     ]
    }
   ],
   "source": [
    "a_number = 34\n",
    "if a_number % 2 == 0:\n",
    "    print(\"Even\")\n",
    "else:\n",
    "    print(\"Odd\")"
   ]
  },
  {
   "cell_type": "markdown",
   "id": "4cee46a9",
   "metadata": {},
   "source": [
    "# El-if is used a lot to check multiple statements"
   ]
  },
  {
   "cell_type": "markdown",
   "id": "813c8f5f",
   "metadata": {},
   "source": [
    "# Nested if can also be used to check diff \n"
   ]
  },
  {
   "cell_type": "code",
   "execution_count": 60,
   "id": "c753f766",
   "metadata": {},
   "outputs": [],
   "source": [
    "# While and for - loops in Python"
   ]
  },
  {
   "cell_type": "code",
   "execution_count": 61,
   "id": "59867a2d",
   "metadata": {},
   "outputs": [
    {
     "name": "stdout",
     "output_type": "stream",
     "text": [
      "The factorial of the number is 120\n"
     ]
    }
   ],
   "source": [
    "#factorial \n",
    "result = 1\n",
    "i = 1\n",
    "while i <= 5:\n",
    "    result = result * i\n",
    "    i += 1   #i = i + 1\n",
    "print(\"The factorial of the number is {}\".format(result))"
   ]
  },
  {
   "cell_type": "code",
   "execution_count": 62,
   "id": "46cf36cf",
   "metadata": {},
   "outputs": [
    {
     "name": "stdout",
     "output_type": "stream",
     "text": [
      "93326215443944152681699238856266700490715968264381621468592963895217599993229915608941463976156518286253697920827223758251185210916864000000000000000000000000\n",
      "CPU times: total: 15.6 ms\n",
      "Wall time: 1.08 ms\n"
     ]
    }
   ],
   "source": [
    "%%time\n",
    "result = 1\n",
    "i = 1\n",
    "while i <= 100:\n",
    "    result = result * i\n",
    "    i += 1   #i = i + 1\n",
    "print(result)"
   ]
  },
  {
   "cell_type": "code",
   "execution_count": 63,
   "id": "1bf333fd",
   "metadata": {},
   "outputs": [
    {
     "name": "stdout",
     "output_type": "stream",
     "text": [
      "*\n",
      "**\n",
      "***\n",
      "****\n",
      "*****\n",
      "******\n",
      "*******\n",
      "********\n",
      "*********\n",
      "**********\n",
      "***********\n",
      "**********\n",
      "*********\n",
      "********\n",
      "*******\n",
      "******\n",
      "*****\n",
      "****\n",
      "***\n",
      "**\n",
      "*\n"
     ]
    }
   ],
   "source": [
    "line = '*'\n",
    "max_len = 10\n",
    "while len(line) <= max_len:\n",
    "    print(line)\n",
    "    line += '*'\n",
    "while len(line) > 0:\n",
    "    print(line)\n",
    "    line = line[:-1]"
   ]
  },
  {
   "cell_type": "markdown",
   "id": "b7b46f2f",
   "metadata": {},
   "source": [
    "# Break and Continue statements "
   ]
  },
  {
   "cell_type": "code",
   "execution_count": 76,
   "id": "dca81cb4",
   "metadata": {},
   "outputs": [
    {
     "name": "stdout",
     "output_type": "stream",
     "text": [
      "1\n",
      "Number is even\n",
      "3\n",
      "Number is even\n",
      "5\n",
      "Number is even\n",
      "7\n",
      "Number is even\n",
      "9\n",
      "Number is even\n",
      "11\n"
     ]
    }
   ],
   "source": [
    "i = 0\n",
    "while i <= 10:\n",
    "    i += 1\n",
    "    if i % 2 == 0:\n",
    "        print(\"Number is even\")\n",
    "        continue\n",
    "    print(i)\n",
    "   "
   ]
  },
  {
   "cell_type": "code",
   "execution_count": 65,
   "id": "a07cd856",
   "metadata": {},
   "outputs": [
    {
     "name": "stdout",
     "output_type": "stream",
     "text": [
      "SUnday\n",
      "Monday\n",
      "Tuesday\n",
      "Wednesday\n",
      "Thursday\n",
      "Friday\n",
      "Saturday\n"
     ]
    }
   ],
   "source": [
    "days = [\"SUnday\", \"Monday\", \"Tuesday\", \"Wednesday\", \"Thursday\",\"Friday\", \"Saturday\"]\n",
    "for day in days:\n",
    "    print(day)"
   ]
  },
  {
   "cell_type": "code",
   "execution_count": 70,
   "id": "de4dad2b",
   "metadata": {},
   "outputs": [
    {
     "name": "stdout",
     "output_type": "stream",
     "text": [
      "The name has Srinidhi\n",
      "The sex has Male\n",
      "The age has 24\n",
      "The married has False\n"
     ]
    }
   ],
   "source": [
    "person = {\n",
    "    'name':'Srinidhi',\n",
    "    'sex': 'Male',\n",
    "    'age':24,\n",
    "    'married': False    \n",
    "}\n",
    "for key in person:\n",
    "    print(\"The {} has {}\".format(key,person[key]))"
   ]
  },
  {
   "cell_type": "code",
   "execution_count": 71,
   "id": "b9a21fe0",
   "metadata": {},
   "outputs": [
    {
     "data": {
      "text/plain": [
       "range(0, 100)"
      ]
     },
     "execution_count": 71,
     "metadata": {},
     "output_type": "execute_result"
    }
   ],
   "source": [
    "range(100)"
   ]
  },
  {
   "cell_type": "code",
   "execution_count": 72,
   "id": "c10df43d",
   "metadata": {},
   "outputs": [
    {
     "data": {
      "text/plain": [
       "[0, 1, 2, 3, 4, 5, 6, 7, 8, 9]"
      ]
     },
     "execution_count": 72,
     "metadata": {},
     "output_type": "execute_result"
    }
   ],
   "source": [
    "list(range(10))"
   ]
  },
  {
   "cell_type": "code",
   "execution_count": 73,
   "id": "2342b5d7",
   "metadata": {},
   "outputs": [
    {
     "name": "stdout",
     "output_type": "stream",
     "text": [
      "0\n",
      "1\n",
      "2\n",
      "3\n",
      "4\n",
      "5\n",
      "6\n"
     ]
    }
   ],
   "source": [
    "for i in range(7):\n",
    "    print(i)"
   ]
  },
  {
   "cell_type": "code",
   "execution_count": 74,
   "id": "fb4688af",
   "metadata": {},
   "outputs": [
    {
     "name": "stdout",
     "output_type": "stream",
     "text": [
      "1\n",
      "3\n",
      "5\n",
      "7\n",
      "9\n"
     ]
    }
   ],
   "source": [
    "for i in range(1, 10, 2):\n",
    "    print(i)"
   ]
  },
  {
   "cell_type": "code",
   "execution_count": 77,
   "id": "69f0c161",
   "metadata": {},
   "outputs": [
    {
     "name": "stdout",
     "output_type": "stream",
     "text": [
      "SUnday\n",
      "Monday\n",
      "Tuesday\n",
      "Not work wednesday\n",
      "Thursday\n",
      "Friday\n",
      "Saturday\n"
     ]
    }
   ],
   "source": [
    "for day in days:\n",
    "    if day == 'Wednesday':\n",
    "        print(\"Not work wednesday\")\n",
    "        continue\n",
    "    print(day)"
   ]
  },
  {
   "cell_type": "code",
   "execution_count": 78,
   "id": "403f22ab",
   "metadata": {},
   "outputs": [],
   "source": [
    "for day in days:\n",
    "    pass"
   ]
  },
  {
   "cell_type": "markdown",
   "id": "76f65d32",
   "metadata": {},
   "source": [
    "# Functions in Python"
   ]
  },
  {
   "cell_type": "code",
   "execution_count": 79,
   "id": "17974a02",
   "metadata": {},
   "outputs": [],
   "source": [
    "def say_hello():\n",
    "    print(\"Hey!! how are you ??\")"
   ]
  },
  {
   "cell_type": "code",
   "execution_count": 80,
   "id": "63c57fdc",
   "metadata": {},
   "outputs": [
    {
     "name": "stdout",
     "output_type": "stream",
     "text": [
      "Hey!! how are you ??\n"
     ]
    }
   ],
   "source": [
    "say_hello()"
   ]
  },
  {
   "cell_type": "code",
   "execution_count": 81,
   "id": "ab9f3227",
   "metadata": {},
   "outputs": [],
   "source": [
    "def filter_even(number_list):\n",
    "    result_list = []\n",
    "    for number in number_list:\n",
    "        if number % 2 == 0:\n",
    "            result_list.append(number)\n",
    "    return result_list\n",
    "        "
   ]
  },
  {
   "cell_type": "code",
   "execution_count": 82,
   "id": "a6141857",
   "metadata": {},
   "outputs": [
    {
     "data": {
      "text/plain": [
       "[2, 4, 6, 8, 10]"
      ]
     },
     "execution_count": 82,
     "metadata": {},
     "output_type": "execute_result"
    }
   ],
   "source": [
    "list1 = [1,2,3,4,5,6,7,8,9,10]\n",
    "filter_even(list1)"
   ]
  },
  {
   "cell_type": "code",
   "execution_count": 89,
   "id": "cfe56677",
   "metadata": {},
   "outputs": [],
   "source": [
    "def filter_odd(list1):\n",
    "    result_odd = []\n",
    "    for i in list1:\n",
    "        if i % 2 != 0:\n",
    "            result_odd.append(i)\n",
    "    return result_odd"
   ]
  },
  {
   "cell_type": "code",
   "execution_count": 90,
   "id": "a279d3fb",
   "metadata": {},
   "outputs": [
    {
     "data": {
      "text/plain": [
       "[1, 3, 5, 7, 9]"
      ]
     },
     "execution_count": 90,
     "metadata": {},
     "output_type": "execute_result"
    }
   ],
   "source": [
    "list1 = [1,2,3,4,5,6,7,8,9,10]\n",
    "filter_odd(list1)"
   ]
  },
  {
   "cell_type": "code",
   "execution_count": 97,
   "id": "ef023184",
   "metadata": {},
   "outputs": [],
   "source": [
    "def loan_emi(amount):\n",
    "    emi = amount/12\n",
    "    print('The EMI is {}'.format(emi))"
   ]
  },
  {
   "cell_type": "code",
   "execution_count": 98,
   "id": "ebfdc2b7",
   "metadata": {},
   "outputs": [
    {
     "name": "stdout",
     "output_type": "stream",
     "text": [
      "The EMI is 105000.0\n"
     ]
    }
   ],
   "source": [
    "loan_emi(1260000)"
   ]
  },
  {
   "cell_type": "code",
   "execution_count": 99,
   "id": "c1e3dd11",
   "metadata": {},
   "outputs": [],
   "source": [
    "def loan_emi(amount, duration):\n",
    "    emi = amount/ duration\n",
    "    print(\"The EMI is ${}\".format(emi))"
   ]
  },
  {
   "cell_type": "code",
   "execution_count": 100,
   "id": "3ec10d74",
   "metadata": {},
   "outputs": [
    {
     "name": "stdout",
     "output_type": "stream",
     "text": [
      "The EMI is $21000.0\n"
     ]
    }
   ],
   "source": [
    "loan_emi(1260000,60)"
   ]
  },
  {
   "cell_type": "code",
   "execution_count": 101,
   "id": "7fce728d",
   "metadata": {},
   "outputs": [],
   "source": [
    "def loan_emi(amount, duration):\n",
    "    emi = amount/ duration\n",
    "    return (\"The EMI is ${}\".format(emi))"
   ]
  },
  {
   "cell_type": "code",
   "execution_count": 102,
   "id": "8f349a97",
   "metadata": {},
   "outputs": [
    {
     "data": {
      "text/plain": [
       "'The EMI is $21000.0'"
      ]
     },
     "execution_count": 102,
     "metadata": {},
     "output_type": "execute_result"
    }
   ],
   "source": [
    "loan_emi(1260000,60)"
   ]
  },
  {
   "cell_type": "code",
   "execution_count": 105,
   "id": "eedaa698",
   "metadata": {},
   "outputs": [],
   "source": [
    "def loan_emi(amount, duration, down_payment =0):\n",
    "    loan_amount = amount - down_payment\n",
    "    emi = loan_amount / duration\n",
    "    return emi"
   ]
  },
  {
   "cell_type": "code",
   "execution_count": 108,
   "id": "550d2c01",
   "metadata": {},
   "outputs": [
    {
     "name": "stdout",
     "output_type": "stream",
     "text": [
      "10000.0\n"
     ]
    }
   ],
   "source": [
    "emil = loan_emi(1260000,8*12,3e5)\n",
    "print(emil)"
   ]
  },
  {
   "cell_type": "code",
   "execution_count": 109,
   "id": "5e496563",
   "metadata": {},
   "outputs": [],
   "source": [
    "def loan_emi(amount, duration,rate, down_payment=0):\n",
    "    loan_amount = amount -down_payment\n",
    "    emi = loan_amount *rate *((1+rate)**duration) / (((1+rate)**duration))\n",
    "    return emi"
   ]
  },
  {
   "cell_type": "code",
   "execution_count": 111,
   "id": "2d9accb4",
   "metadata": {},
   "outputs": [
    {
     "data": {
      "text/plain": [
       "6400.0"
      ]
     },
     "execution_count": 111,
     "metadata": {},
     "output_type": "execute_result"
    }
   ],
   "source": [
    "loan_emi(1260000, 10*12,0.08/12,3e5)"
   ]
  },
  {
   "cell_type": "code",
   "execution_count": 112,
   "id": "cba19189",
   "metadata": {},
   "outputs": [
    {
     "data": {
      "text/plain": [
       "8400.0"
      ]
     },
     "execution_count": 112,
     "metadata": {},
     "output_type": "execute_result"
    }
   ],
   "source": [
    "loan_emi(1260000, 10*12,0.08/12)"
   ]
  },
  {
   "cell_type": "code",
   "execution_count": 113,
   "id": "93786966",
   "metadata": {},
   "outputs": [],
   "source": [
    "emil = loan_emi(amount = 1260000, duration = 8*12, rate= 0.1/12,down_payment=3e5)"
   ]
  },
  {
   "cell_type": "code",
   "execution_count": 114,
   "id": "f6b6e8b8",
   "metadata": {},
   "outputs": [
    {
     "data": {
      "text/plain": [
       "7999.999999999999"
      ]
     },
     "execution_count": 114,
     "metadata": {},
     "output_type": "execute_result"
    }
   ],
   "source": [
    "emil"
   ]
  },
  {
   "cell_type": "code",
   "execution_count": 115,
   "id": "7f22072f",
   "metadata": {},
   "outputs": [],
   "source": [
    "def round_up(x):\n",
    "    return round(x)"
   ]
  },
  {
   "cell_type": "code",
   "execution_count": 116,
   "id": "126d98af",
   "metadata": {},
   "outputs": [
    {
     "data": {
      "text/plain": [
       "7"
      ]
     },
     "execution_count": 116,
     "metadata": {},
     "output_type": "execute_result"
    }
   ],
   "source": [
    "round_up(6.7778)"
   ]
  },
  {
   "cell_type": "code",
   "execution_count": 117,
   "id": "13879ae8",
   "metadata": {},
   "outputs": [
    {
     "name": "stdout",
     "output_type": "stream",
     "text": [
      "Help on built-in function ceil in module math:\n",
      "\n",
      "ceil(x, /)\n",
      "    Return the ceiling of x as an Integral.\n",
      "    \n",
      "    This is the smallest integer >= x.\n",
      "\n"
     ]
    }
   ],
   "source": [
    "import math\n",
    "help(math.ceil)"
   ]
  },
  {
   "cell_type": "code",
   "execution_count": 121,
   "id": "f763e97a",
   "metadata": {},
   "outputs": [
    {
     "data": {
      "text/plain": [
       "350.0"
      ]
     },
     "execution_count": 121,
     "metadata": {},
     "output_type": "execute_result"
    }
   ],
   "source": [
    "cost_of_house = 80000\n",
    "home_loan_duration = 6*12\n",
    "home_loan_rate = 0.07/12\n",
    "home_down_payment = 0.25 * 80000\n",
    "emi_house = loan_emi(amount=cost_of_house,\n",
    "                    duration=home_loan_duration,\n",
    "                    rate=home_loan_rate,\n",
    "                    down_payment=home_down_payment)\n",
    "emi_house"
   ]
  },
  {
   "cell_type": "markdown",
   "id": "e8f7e5e4",
   "metadata": {},
   "source": [
    "# Exception Handling"
   ]
  },
  {
   "cell_type": "code",
   "execution_count": 123,
   "id": "400f5f59",
   "metadata": {},
   "outputs": [
    {
     "name": "stdout",
     "output_type": "stream",
     "text": [
      "Now computing result\n",
      "Failed to compute result because you were trying to divide by Zero\n",
      "None\n"
     ]
    }
   ],
   "source": [
    "try:\n",
    "    print(\"Now computing result\")\n",
    "    result = 5 / 0 # Blowingup code\n",
    "    print(\"Computation was completed successfully\")\n",
    "except ZeroDivisionError:\n",
    "    print(\"Failed to compute result because you were trying to divide by Zero\")\n",
    "    result = None\n",
    "print(result)"
   ]
  },
  {
   "cell_type": "code",
   "execution_count": 124,
   "id": "f7374d5d",
   "metadata": {},
   "outputs": [],
   "source": [
    "def loan_emi(amount, duration, rate, down_payment=0):\n",
    "    \"\"\"Calculates the equal monthly installments for a loan\"\"\"\n",
    "    loan_amount = amount - down_payment\n",
    "    try:\n",
    "        emi = loan_amount * rate * ((1+rate)**duration)/(((1+rate)**duration))\n",
    "    except ZeroDivisionError:\n",
    "        emi = loan_amount / duration\n",
    "    emi = math.ceil(emi)\n",
    "    return emi"
   ]
  },
  {
   "cell_type": "markdown",
   "id": "0aa37bcb",
   "metadata": {},
   "source": [
    "# Numerical Cpmputing with Numpy Tutorial \n",
    "    "
   ]
  },
  {
   "cell_type": "code",
   "execution_count": 127,
   "id": "dd405a8c",
   "metadata": {},
   "outputs": [],
   "source": [
    "w1, w2, w3 = 0.3, 0.2, 0.5\n",
    "kanto_temp = 73\n",
    "kanto_rainfall = 67\n",
    "kanto_humidity = 43"
   ]
  },
  {
   "cell_type": "code",
   "execution_count": 129,
   "id": "d31b6956",
   "metadata": {},
   "outputs": [
    {
     "data": {
      "text/plain": [
       "56.8"
      ]
     },
     "execution_count": 129,
     "metadata": {},
     "output_type": "execute_result"
    }
   ],
   "source": [
    "kanto_yield_apples = kanto_temp * w1 + kanto_rainfall * w2 + kanto_humidity * w3\n",
    "kanto_yield_apples"
   ]
  },
  {
   "cell_type": "code",
   "execution_count": 130,
   "id": "1a891b12",
   "metadata": {},
   "outputs": [],
   "source": [
    "weight = [w1, w2, w3]\n",
    "kanto = [73, 67, 43]\n",
    "johto = [91, 88, 64]\n",
    "hoen = [87, 134, 58]\n",
    "sinnoh = [102, 43, 37]\n",
    "unova = [69,96,70]"
   ]
  },
  {
   "cell_type": "code",
   "execution_count": 131,
   "id": "339d9110",
   "metadata": {},
   "outputs": [],
   "source": [
    "def crop_yield(region,weights):\n",
    "    result = 0\n",
    "    for x,w in zip(region,weight):\n",
    "        result += x * w\n",
    "    return result"
   ]
  },
  {
   "cell_type": "code",
   "execution_count": 134,
   "id": "afff00d8",
   "metadata": {},
   "outputs": [
    {
     "name": "stdout",
     "output_type": "stream",
     "text": [
      "(73, 0.3)\n",
      "(67, 0.2)\n",
      "(43, 0.5)\n"
     ]
    }
   ],
   "source": [
    "for i in zip(kanto, weight):\n",
    "    print(i)"
   ]
  },
  {
   "cell_type": "code",
   "execution_count": 135,
   "id": "0d060c8a",
   "metadata": {},
   "outputs": [
    {
     "name": "stdout",
     "output_type": "stream",
     "text": [
      "73\n",
      "0.3\n",
      "67\n",
      "0.2\n",
      "43\n",
      "0.5\n"
     ]
    }
   ],
   "source": [
    "for a,b in zip(kanto,weight):\n",
    "    print(a)\n",
    "    print(b)"
   ]
  },
  {
   "cell_type": "code",
   "execution_count": 136,
   "id": "1bc8371a",
   "metadata": {},
   "outputs": [
    {
     "data": {
      "text/plain": [
       "56.8"
      ]
     },
     "execution_count": 136,
     "metadata": {},
     "output_type": "execute_result"
    }
   ],
   "source": [
    "crop_yield(kanto,weight)"
   ]
  },
  {
   "cell_type": "code",
   "execution_count": 137,
   "id": "601b9fed",
   "metadata": {},
   "outputs": [
    {
     "data": {
      "text/plain": [
       "76.9"
      ]
     },
     "execution_count": 137,
     "metadata": {},
     "output_type": "execute_result"
    }
   ],
   "source": [
    "crop_yield(johto,weight)"
   ]
  },
  {
   "cell_type": "code",
   "execution_count": 138,
   "id": "cc593733",
   "metadata": {},
   "outputs": [
    {
     "data": {
      "text/plain": [
       "74.9"
      ]
     },
     "execution_count": 138,
     "metadata": {},
     "output_type": "execute_result"
    }
   ],
   "source": [
    "crop_yield(unova,weight)"
   ]
  },
  {
   "cell_type": "code",
   "execution_count": 139,
   "id": "f2d5c843",
   "metadata": {},
   "outputs": [],
   "source": [
    "import numpy as np\n",
    "kanto = np.array([73,67,43])"
   ]
  },
  {
   "cell_type": "code",
   "execution_count": 140,
   "id": "f9a9f721",
   "metadata": {},
   "outputs": [
    {
     "data": {
      "text/plain": [
       "array([73, 67, 43])"
      ]
     },
     "execution_count": 140,
     "metadata": {},
     "output_type": "execute_result"
    }
   ],
   "source": [
    "kanto"
   ]
  },
  {
   "cell_type": "code",
   "execution_count": 141,
   "id": "03314416",
   "metadata": {},
   "outputs": [],
   "source": [
    "weight = np.array([w1, w2, w3])"
   ]
  },
  {
   "cell_type": "code",
   "execution_count": 142,
   "id": "c3014ac4",
   "metadata": {},
   "outputs": [
    {
     "data": {
      "text/plain": [
       "array([0.3, 0.2, 0.5])"
      ]
     },
     "execution_count": 142,
     "metadata": {},
     "output_type": "execute_result"
    }
   ],
   "source": [
    "weight"
   ]
  },
  {
   "cell_type": "code",
   "execution_count": 143,
   "id": "61c5ca24",
   "metadata": {},
   "outputs": [
    {
     "data": {
      "text/plain": [
       "numpy.ndarray"
      ]
     },
     "execution_count": 143,
     "metadata": {},
     "output_type": "execute_result"
    }
   ],
   "source": [
    "type(kanto)"
   ]
  },
  {
   "cell_type": "code",
   "execution_count": 144,
   "id": "f3428758",
   "metadata": {},
   "outputs": [
    {
     "data": {
      "text/plain": [
       "1"
      ]
     },
     "execution_count": 144,
     "metadata": {},
     "output_type": "execute_result"
    }
   ],
   "source": [
    "kanto.ndim"
   ]
  },
  {
   "cell_type": "code",
   "execution_count": 145,
   "id": "0c0c4dce",
   "metadata": {},
   "outputs": [
    {
     "data": {
      "text/plain": [
       "(3,)"
      ]
     },
     "execution_count": 145,
     "metadata": {},
     "output_type": "execute_result"
    }
   ],
   "source": [
    "kanto.shape"
   ]
  },
  {
   "cell_type": "code",
   "execution_count": 146,
   "id": "4d4a2093",
   "metadata": {},
   "outputs": [
    {
     "data": {
      "text/plain": [
       "3"
      ]
     },
     "execution_count": 146,
     "metadata": {},
     "output_type": "execute_result"
    }
   ],
   "source": [
    "kanto.size"
   ]
  },
  {
   "cell_type": "code",
   "execution_count": 147,
   "id": "86d806f4",
   "metadata": {},
   "outputs": [
    {
     "data": {
      "text/plain": [
       "<function ndarray.all>"
      ]
     },
     "execution_count": 147,
     "metadata": {},
     "output_type": "execute_result"
    }
   ],
   "source": [
    "kanto.all"
   ]
  },
  {
   "cell_type": "code",
   "execution_count": 148,
   "id": "9e63eb4f",
   "metadata": {},
   "outputs": [
    {
     "data": {
      "text/plain": [
       "dtype('int32')"
      ]
     },
     "execution_count": 148,
     "metadata": {},
     "output_type": "execute_result"
    }
   ],
   "source": [
    "kanto.dtype"
   ]
  },
  {
   "cell_type": "code",
   "execution_count": 149,
   "id": "4af8b869",
   "metadata": {},
   "outputs": [
    {
     "data": {
      "text/plain": [
       "43"
      ]
     },
     "execution_count": 149,
     "metadata": {},
     "output_type": "execute_result"
    }
   ],
   "source": [
    "kanto[2]"
   ]
  },
  {
   "cell_type": "code",
   "execution_count": 150,
   "id": "201566ce",
   "metadata": {},
   "outputs": [
    {
     "data": {
      "text/plain": [
       "67"
      ]
     },
     "execution_count": 150,
     "metadata": {},
     "output_type": "execute_result"
    }
   ],
   "source": [
    "kanto[1]"
   ]
  },
  {
   "cell_type": "code",
   "execution_count": 151,
   "id": "724a87c8",
   "metadata": {},
   "outputs": [
    {
     "name": "stdout",
     "output_type": "stream",
     "text": [
      "Help on function dot in module numpy:\n",
      "\n",
      "dot(...)\n",
      "    dot(a, b, out=None)\n",
      "    \n",
      "    Dot product of two arrays. Specifically,\n",
      "    \n",
      "    - If both `a` and `b` are 1-D arrays, it is inner product of vectors\n",
      "      (without complex conjugation).\n",
      "    \n",
      "    - If both `a` and `b` are 2-D arrays, it is matrix multiplication,\n",
      "      but using :func:`matmul` or ``a @ b`` is preferred.\n",
      "    \n",
      "    - If either `a` or `b` is 0-D (scalar), it is equivalent to\n",
      "      :func:`multiply` and using ``numpy.multiply(a, b)`` or ``a * b`` is\n",
      "      preferred.\n",
      "    \n",
      "    - If `a` is an N-D array and `b` is a 1-D array, it is a sum product over\n",
      "      the last axis of `a` and `b`.\n",
      "    \n",
      "    - If `a` is an N-D array and `b` is an M-D array (where ``M>=2``), it is a\n",
      "      sum product over the last axis of `a` and the second-to-last axis of\n",
      "      `b`::\n",
      "    \n",
      "        dot(a, b)[i,j,k,m] = sum(a[i,j,:] * b[k,:,m])\n",
      "    \n",
      "    It uses an optimized BLAS library when possible (see `numpy.linalg`).\n",
      "    \n",
      "    Parameters\n",
      "    ----------\n",
      "    a : array_like\n",
      "        First argument.\n",
      "    b : array_like\n",
      "        Second argument.\n",
      "    out : ndarray, optional\n",
      "        Output argument. This must have the exact kind that would be returned\n",
      "        if it was not used. In particular, it must have the right type, must be\n",
      "        C-contiguous, and its dtype must be the dtype that would be returned\n",
      "        for `dot(a,b)`. This is a performance feature. Therefore, if these\n",
      "        conditions are not met, an exception is raised, instead of attempting\n",
      "        to be flexible.\n",
      "    \n",
      "    Returns\n",
      "    -------\n",
      "    output : ndarray\n",
      "        Returns the dot product of `a` and `b`.  If `a` and `b` are both\n",
      "        scalars or both 1-D arrays then a scalar is returned; otherwise\n",
      "        an array is returned.\n",
      "        If `out` is given, then it is returned.\n",
      "    \n",
      "    Raises\n",
      "    ------\n",
      "    ValueError\n",
      "        If the last dimension of `a` is not the same size as\n",
      "        the second-to-last dimension of `b`.\n",
      "    \n",
      "    See Also\n",
      "    --------\n",
      "    vdot : Complex-conjugating dot product.\n",
      "    tensordot : Sum products over arbitrary axes.\n",
      "    einsum : Einstein summation convention.\n",
      "    matmul : '@' operator as method with out parameter.\n",
      "    linalg.multi_dot : Chained dot product.\n",
      "    \n",
      "    Examples\n",
      "    --------\n",
      "    >>> np.dot(3, 4)\n",
      "    12\n",
      "    \n",
      "    Neither argument is complex-conjugated:\n",
      "    \n",
      "    >>> np.dot([2j, 3j], [2j, 3j])\n",
      "    (-13+0j)\n",
      "    \n",
      "    For 2-D arrays it is the matrix product:\n",
      "    \n",
      "    >>> a = [[1, 0], [0, 1]]\n",
      "    >>> b = [[4, 1], [2, 2]]\n",
      "    >>> np.dot(a, b)\n",
      "    array([[4, 1],\n",
      "           [2, 2]])\n",
      "    \n",
      "    >>> a = np.arange(3*4*5*6).reshape((3,4,5,6))\n",
      "    >>> b = np.arange(3*4*5*6)[::-1].reshape((5,4,6,3))\n",
      "    >>> np.dot(a, b)[2,3,2,1,2,2]\n",
      "    499128\n",
      "    >>> sum(a[2,3,2,:] * b[1,2,:,2])\n",
      "    499128\n",
      "\n"
     ]
    }
   ],
   "source": [
    "help(np.dot)"
   ]
  },
  {
   "cell_type": "code",
   "execution_count": 152,
   "id": "922b21d8",
   "metadata": {},
   "outputs": [
    {
     "data": {
      "text/plain": [
       "numpy.ndarray"
      ]
     },
     "execution_count": 152,
     "metadata": {},
     "output_type": "execute_result"
    }
   ],
   "source": [
    "type(kanto)"
   ]
  },
  {
   "cell_type": "code",
   "execution_count": 153,
   "id": "41027d7b",
   "metadata": {},
   "outputs": [
    {
     "data": {
      "text/plain": [
       "56.8"
      ]
     },
     "execution_count": 153,
     "metadata": {},
     "output_type": "execute_result"
    }
   ],
   "source": [
    "np.dot(kanto,weight)"
   ]
  },
  {
   "cell_type": "code",
   "execution_count": 154,
   "id": "f408ed50",
   "metadata": {},
   "outputs": [
    {
     "data": {
      "text/plain": [
       "56.8"
      ]
     },
     "execution_count": 154,
     "metadata": {},
     "output_type": "execute_result"
    }
   ],
   "source": [
    "(kanto * weight).sum()"
   ]
  },
  {
   "cell_type": "code",
   "execution_count": 155,
   "id": "cce94e36",
   "metadata": {},
   "outputs": [
    {
     "data": {
      "text/plain": [
       "array([21.9, 13.4, 21.5])"
      ]
     },
     "execution_count": 155,
     "metadata": {},
     "output_type": "execute_result"
    }
   ],
   "source": [
    "kanto * weight"
   ]
  },
  {
   "cell_type": "code",
   "execution_count": 200,
   "id": "207e5a00",
   "metadata": {},
   "outputs": [],
   "source": [
    "arr1 = list(range(100000))"
   ]
  },
  {
   "cell_type": "code",
   "execution_count": 201,
   "id": "5116d72a",
   "metadata": {},
   "outputs": [],
   "source": [
    "arr2 = list(range(100000,200000))"
   ]
  },
  {
   "cell_type": "code",
   "execution_count": 202,
   "id": "e4811355",
   "metadata": {},
   "outputs": [],
   "source": [
    "arr1_np = np.array(arr1)"
   ]
  },
  {
   "cell_type": "code",
   "execution_count": 203,
   "id": "8fe02e20",
   "metadata": {},
   "outputs": [],
   "source": [
    "arr2_np = np.array(arr2)"
   ]
  },
  {
   "cell_type": "code",
   "execution_count": 204,
   "id": "b835a5ae",
   "metadata": {},
   "outputs": [
    {
     "name": "stdout",
     "output_type": "stream",
     "text": [
      "CPU times: total: 0 ns\n",
      "Wall time: 35.5 ms\n"
     ]
    },
    {
     "data": {
      "text/plain": [
       "833323333350000"
      ]
     },
     "execution_count": 204,
     "metadata": {},
     "output_type": "execute_result"
    }
   ],
   "source": [
    "%%time\n",
    "result = 0\n",
    "for a,b in zip(arr1,arr2):\n",
    "    result += a * b\n",
    "result"
   ]
  },
  {
   "cell_type": "code",
   "execution_count": 205,
   "id": "bf9ce3bd",
   "metadata": {},
   "outputs": [
    {
     "name": "stdout",
     "output_type": "stream",
     "text": [
      "CPU times: total: 0 ns\n",
      "Wall time: 0 ns\n"
     ]
    },
    {
     "data": {
      "text/plain": [
       "893678192"
      ]
     },
     "execution_count": 205,
     "metadata": {},
     "output_type": "execute_result"
    }
   ],
   "source": [
    "%%time\n",
    "np.dot(arr1_np, arr2_np)"
   ]
  },
  {
   "cell_type": "code",
   "execution_count": 206,
   "id": "1a9b2728",
   "metadata": {},
   "outputs": [
    {
     "data": {
      "text/plain": [
       "893678192"
      ]
     },
     "execution_count": 206,
     "metadata": {},
     "output_type": "execute_result"
    }
   ],
   "source": [
    "(arr1_np * arr2_np).sum()"
   ]
  },
  {
   "cell_type": "markdown",
   "id": "da8658fe",
   "metadata": {},
   "source": [
    "# Multi-dimension array"
   ]
  },
  {
   "cell_type": "code",
   "execution_count": 208,
   "id": "b6cc9166",
   "metadata": {},
   "outputs": [],
   "source": [
    "climate_data =np.array([[73,67,43],\n",
    "                      [91,88,64],\n",
    "                      [87,134,58],\n",
    "                      [102,43,37],\n",
    "                      [69,96,70]])"
   ]
  },
  {
   "cell_type": "code",
   "execution_count": 209,
   "id": "190ec65e",
   "metadata": {},
   "outputs": [
    {
     "data": {
      "text/plain": [
       "dtype('int32')"
      ]
     },
     "execution_count": 209,
     "metadata": {},
     "output_type": "execute_result"
    }
   ],
   "source": [
    "climate_data.dtype"
   ]
  },
  {
   "cell_type": "code",
   "execution_count": 210,
   "id": "e763131d",
   "metadata": {},
   "outputs": [
    {
     "data": {
      "text/plain": [
       "2"
      ]
     },
     "execution_count": 210,
     "metadata": {},
     "output_type": "execute_result"
    }
   ],
   "source": [
    "climate_data.ndim"
   ]
  },
  {
   "cell_type": "code",
   "execution_count": 211,
   "id": "ae792de6",
   "metadata": {},
   "outputs": [
    {
     "data": {
      "text/plain": [
       "(5, 3)"
      ]
     },
     "execution_count": 211,
     "metadata": {},
     "output_type": "execute_result"
    }
   ],
   "source": [
    "climate_data.shape"
   ]
  },
  {
   "cell_type": "code",
   "execution_count": 212,
   "id": "4d79c08e",
   "metadata": {},
   "outputs": [
    {
     "data": {
      "text/plain": [
       "15"
      ]
     },
     "execution_count": 212,
     "metadata": {},
     "output_type": "execute_result"
    }
   ],
   "source": [
    "climate_data.size"
   ]
  },
  {
   "cell_type": "code",
   "execution_count": 213,
   "id": "324ab9f0",
   "metadata": {},
   "outputs": [
    {
     "data": {
      "text/plain": [
       "<function ndarray.sum>"
      ]
     },
     "execution_count": 213,
     "metadata": {},
     "output_type": "execute_result"
    }
   ],
   "source": [
    "climate_data.sum"
   ]
  },
  {
   "cell_type": "code",
   "execution_count": 214,
   "id": "7af669ed",
   "metadata": {},
   "outputs": [],
   "source": [
    "arr3 = np.array([[[11,12,13],\n",
    "                 [13,14,15]],\n",
    "                \n",
    "                [[15,16,17],\n",
    "                [17,18,19]]])"
   ]
  },
  {
   "cell_type": "code",
   "execution_count": 215,
   "id": "72b1fcc4",
   "metadata": {},
   "outputs": [
    {
     "data": {
      "text/plain": [
       "array([[[11, 12, 13],\n",
       "        [13, 14, 15]],\n",
       "\n",
       "       [[15, 16, 17],\n",
       "        [17, 18, 19]]])"
      ]
     },
     "execution_count": 215,
     "metadata": {},
     "output_type": "execute_result"
    }
   ],
   "source": [
    "arr3"
   ]
  },
  {
   "cell_type": "code",
   "execution_count": 216,
   "id": "43af8ae8",
   "metadata": {},
   "outputs": [
    {
     "data": {
      "text/plain": [
       "3"
      ]
     },
     "execution_count": 216,
     "metadata": {},
     "output_type": "execute_result"
    }
   ],
   "source": [
    "arr3.ndim"
   ]
  },
  {
   "cell_type": "code",
   "execution_count": 217,
   "id": "ea233357",
   "metadata": {},
   "outputs": [
    {
     "data": {
      "text/plain": [
       "(2, 2, 3)"
      ]
     },
     "execution_count": 217,
     "metadata": {},
     "output_type": "execute_result"
    }
   ],
   "source": [
    "arr3.shape"
   ]
  },
  {
   "cell_type": "code",
   "execution_count": 218,
   "id": "373e6283",
   "metadata": {},
   "outputs": [
    {
     "data": {
      "text/plain": [
       "dtype('int32')"
      ]
     },
     "execution_count": 218,
     "metadata": {},
     "output_type": "execute_result"
    }
   ],
   "source": [
    "arr3.dtype"
   ]
  },
  {
   "cell_type": "code",
   "execution_count": 219,
   "id": "81f0af9a",
   "metadata": {},
   "outputs": [
    {
     "data": {
      "text/plain": [
       "dtype('float64')"
      ]
     },
     "execution_count": 219,
     "metadata": {},
     "output_type": "execute_result"
    }
   ],
   "source": [
    "weight.dtype"
   ]
  },
  {
   "cell_type": "code",
   "execution_count": 220,
   "id": "203f1f2a",
   "metadata": {},
   "outputs": [
    {
     "data": {
      "text/plain": [
       "dtype('int32')"
      ]
     },
     "execution_count": 220,
     "metadata": {},
     "output_type": "execute_result"
    }
   ],
   "source": [
    "climate_data.dtype"
   ]
  },
  {
   "cell_type": "code",
   "execution_count": 235,
   "id": "ded1d9a5",
   "metadata": {},
   "outputs": [],
   "source": [
    "arr4 = np.array([[[11,12,13],\n",
    "                 [13,14,15]],\n",
    "                \n",
    "                [[15,16,17],\n",
    "                [17,18,19.4]]])"
   ]
  },
  {
   "cell_type": "code",
   "execution_count": 222,
   "id": "c8263cd9",
   "metadata": {},
   "outputs": [
    {
     "data": {
      "text/plain": [
       "numpy.ndarray"
      ]
     },
     "execution_count": 222,
     "metadata": {},
     "output_type": "execute_result"
    }
   ],
   "source": [
    "type(arr4)"
   ]
  },
  {
   "cell_type": "code",
   "execution_count": 223,
   "id": "9e0fcbad",
   "metadata": {},
   "outputs": [
    {
     "data": {
      "text/plain": [
       "3"
      ]
     },
     "execution_count": 223,
     "metadata": {},
     "output_type": "execute_result"
    }
   ],
   "source": [
    "arr4.ndim"
   ]
  },
  {
   "cell_type": "code",
   "execution_count": 234,
   "id": "03c5601f",
   "metadata": {},
   "outputs": [
    {
     "data": {
      "text/plain": [
       "dtype('int32')"
      ]
     },
     "execution_count": 234,
     "metadata": {},
     "output_type": "execute_result"
    }
   ],
   "source": [
    "arr4.dtype # when last element was just 19 "
   ]
  },
  {
   "cell_type": "code",
   "execution_count": 236,
   "id": "a6697bfe",
   "metadata": {},
   "outputs": [
    {
     "data": {
      "text/plain": [
       "dtype('float64')"
      ]
     },
     "execution_count": 236,
     "metadata": {},
     "output_type": "execute_result"
    }
   ],
   "source": [
    "arr4.dtype"
   ]
  },
  {
   "cell_type": "code",
   "execution_count": 240,
   "id": "c30eaef9",
   "metadata": {},
   "outputs": [
    {
     "data": {
      "text/plain": [
       "array([56.8, 76.9, 81.9, 57.7, 74.9])"
      ]
     },
     "execution_count": 240,
     "metadata": {},
     "output_type": "execute_result"
    }
   ],
   "source": [
    "np.matmul(climate_data,weight)"
   ]
  },
  {
   "cell_type": "code",
   "execution_count": 241,
   "id": "1a33cec4",
   "metadata": {},
   "outputs": [
    {
     "data": {
      "text/plain": [
       "348.20000000000005"
      ]
     },
     "execution_count": 241,
     "metadata": {},
     "output_type": "execute_result"
    }
   ],
   "source": [
    "np.matmul(climate_data,weight).sum()"
   ]
  },
  {
   "cell_type": "code",
   "execution_count": 359,
   "id": "e4fd4a67",
   "metadata": {},
   "outputs": [
    {
     "data": {
      "text/plain": [
       "array([2.2, 5.2, 8.2, 2.2, 5.2, 8.2, 2.2, 5.2, 8.2, 2.2, 5.2, 8.2, 2.2,\n",
       "       5.2, 8.2, 2.2, 5.2, 8.2, 2.2, 5.2, 8.2, 2.2, 5.2, 8.2, 2.2, 5.2,\n",
       "       8.2, 2.2, 5.2, 8.2, 2.2, 5.2, 8.2, 2.2, 5.2, 8.2, 2.2, 5.2, 8.2,\n",
       "       5.2, 8.2, 5.2, 8.2, 5.2, 8.2, 2.2, 5.2, 8.2, 2.2, 5.2, 8.2, 2.2,\n",
       "       5.2, 8.2, 2.2, 5.2, 8.2, 2.2, 5.2, 8.2, 2.2, 5.2, 8.2, 2.2, 5.2,\n",
       "       8.2, 2.2, 5.2, 8.2, 2.2, 5.2, 8.2, 2.2, 5.2, 8.2, 2.2, 5.2, 8.2,\n",
       "       2.2, 5.2, 8.2, 2.2, 5.2, 8.2, 2.2, 5.2, 8.2, 2.2, 5.2, 8.2, 2.2,\n",
       "       5.2, 8.2, 2.2, 5.2, 8.2, 2.2, 5.2, 8.2, 2.2, 5.2, 8.2, 2.2, 5.2,\n",
       "       8.2, 2.2, 5.2, 8.2, 2.2, 5.2, 8.2, 2.2, 5.2, 8.2, 2.2, 5.2, 8.2,\n",
       "       2.2, 5.2, 8.2, 2.2, 5.2, 8.2, 2.2, 5.2, 8.2, 2.2, 5.2, 8.2, 2.2,\n",
       "       5.2, 8.2, 2.2, 5.2, 8.2, 2.2, 5.2, 8.2])"
      ]
     },
     "execution_count": 359,
     "metadata": {},
     "output_type": "execute_result"
    }
   ],
   "source": [
    "np.dot(climate_data,weight)"
   ]
  },
  {
   "cell_type": "code",
   "execution_count": 242,
   "id": "671e17b2",
   "metadata": {},
   "outputs": [
    {
     "data": {
      "text/plain": [
       "array([56.8, 76.9, 81.9, 57.7, 74.9])"
      ]
     },
     "execution_count": 242,
     "metadata": {},
     "output_type": "execute_result"
    }
   ],
   "source": [
    "climate_data @ weight"
   ]
  },
  {
   "cell_type": "markdown",
   "id": "5bd703fd",
   "metadata": {},
   "source": [
    "# Working with CSV data files"
   ]
  },
  {
   "cell_type": "code",
   "execution_count": 258,
   "id": "1f35c851",
   "metadata": {},
   "outputs": [
    {
     "data": {
      "text/plain": [
       "array([[1., 2., 3.],\n",
       "       [4., 5., 6.],\n",
       "       [7., 8., 9.],\n",
       "       [1., 2., 3.],\n",
       "       [4., 5., 6.],\n",
       "       [7., 8., 9.],\n",
       "       [1., 2., 3.],\n",
       "       [4., 5., 6.],\n",
       "       [7., 8., 9.],\n",
       "       [1., 2., 3.],\n",
       "       [4., 5., 6.],\n",
       "       [7., 8., 9.],\n",
       "       [1., 2., 3.],\n",
       "       [4., 5., 6.],\n",
       "       [7., 8., 9.],\n",
       "       [1., 2., 3.],\n",
       "       [4., 5., 6.],\n",
       "       [7., 8., 9.],\n",
       "       [1., 2., 3.],\n",
       "       [4., 5., 6.],\n",
       "       [7., 8., 9.],\n",
       "       [1., 2., 3.],\n",
       "       [4., 5., 6.],\n",
       "       [7., 8., 9.],\n",
       "       [1., 2., 3.],\n",
       "       [4., 5., 6.],\n",
       "       [7., 8., 9.],\n",
       "       [1., 2., 3.],\n",
       "       [4., 5., 6.],\n",
       "       [7., 8., 9.],\n",
       "       [1., 2., 3.],\n",
       "       [4., 5., 6.],\n",
       "       [7., 8., 9.],\n",
       "       [1., 2., 3.],\n",
       "       [4., 5., 6.],\n",
       "       [7., 8., 9.],\n",
       "       [1., 2., 3.],\n",
       "       [4., 5., 6.],\n",
       "       [7., 8., 9.],\n",
       "       [4., 5., 6.],\n",
       "       [7., 8., 9.],\n",
       "       [4., 5., 6.],\n",
       "       [7., 8., 9.],\n",
       "       [4., 5., 6.],\n",
       "       [7., 8., 9.],\n",
       "       [1., 2., 3.],\n",
       "       [4., 5., 6.],\n",
       "       [7., 8., 9.],\n",
       "       [1., 2., 3.],\n",
       "       [4., 5., 6.],\n",
       "       [7., 8., 9.],\n",
       "       [1., 2., 3.],\n",
       "       [4., 5., 6.],\n",
       "       [7., 8., 9.],\n",
       "       [1., 2., 3.],\n",
       "       [4., 5., 6.],\n",
       "       [7., 8., 9.],\n",
       "       [1., 2., 3.],\n",
       "       [4., 5., 6.],\n",
       "       [7., 8., 9.],\n",
       "       [1., 2., 3.],\n",
       "       [4., 5., 6.],\n",
       "       [7., 8., 9.],\n",
       "       [1., 2., 3.],\n",
       "       [4., 5., 6.],\n",
       "       [7., 8., 9.],\n",
       "       [1., 2., 3.],\n",
       "       [4., 5., 6.],\n",
       "       [7., 8., 9.],\n",
       "       [1., 2., 3.],\n",
       "       [4., 5., 6.],\n",
       "       [7., 8., 9.],\n",
       "       [1., 2., 3.],\n",
       "       [4., 5., 6.],\n",
       "       [7., 8., 9.],\n",
       "       [1., 2., 3.],\n",
       "       [4., 5., 6.],\n",
       "       [7., 8., 9.],\n",
       "       [1., 2., 3.],\n",
       "       [4., 5., 6.],\n",
       "       [7., 8., 9.],\n",
       "       [1., 2., 3.],\n",
       "       [4., 5., 6.],\n",
       "       [7., 8., 9.],\n",
       "       [1., 2., 3.],\n",
       "       [4., 5., 6.],\n",
       "       [7., 8., 9.],\n",
       "       [1., 2., 3.],\n",
       "       [4., 5., 6.],\n",
       "       [7., 8., 9.],\n",
       "       [1., 2., 3.],\n",
       "       [4., 5., 6.],\n",
       "       [7., 8., 9.],\n",
       "       [1., 2., 3.],\n",
       "       [4., 5., 6.],\n",
       "       [7., 8., 9.],\n",
       "       [1., 2., 3.],\n",
       "       [4., 5., 6.],\n",
       "       [7., 8., 9.],\n",
       "       [1., 2., 3.],\n",
       "       [4., 5., 6.],\n",
       "       [7., 8., 9.],\n",
       "       [1., 2., 3.],\n",
       "       [4., 5., 6.],\n",
       "       [7., 8., 9.],\n",
       "       [1., 2., 3.],\n",
       "       [4., 5., 6.],\n",
       "       [7., 8., 9.],\n",
       "       [1., 2., 3.],\n",
       "       [4., 5., 6.],\n",
       "       [7., 8., 9.],\n",
       "       [1., 2., 3.],\n",
       "       [4., 5., 6.],\n",
       "       [7., 8., 9.],\n",
       "       [1., 2., 3.],\n",
       "       [4., 5., 6.],\n",
       "       [7., 8., 9.],\n",
       "       [1., 2., 3.],\n",
       "       [4., 5., 6.],\n",
       "       [7., 8., 9.],\n",
       "       [1., 2., 3.],\n",
       "       [4., 5., 6.],\n",
       "       [7., 8., 9.],\n",
       "       [1., 2., 3.],\n",
       "       [4., 5., 6.],\n",
       "       [7., 8., 9.],\n",
       "       [1., 2., 3.],\n",
       "       [4., 5., 6.],\n",
       "       [7., 8., 9.],\n",
       "       [1., 2., 3.],\n",
       "       [4., 5., 6.],\n",
       "       [7., 8., 9.],\n",
       "       [1., 2., 3.],\n",
       "       [4., 5., 6.],\n",
       "       [7., 8., 9.],\n",
       "       [1., 2., 3.],\n",
       "       [4., 5., 6.],\n",
       "       [7., 8., 9.]])"
      ]
     },
     "execution_count": 258,
     "metadata": {},
     "output_type": "execute_result"
    }
   ],
   "source": [
    "import urllib.request\n",
    "urllib.request.urlretrieve(\n",
    "'https://corgis-edu.github.io/corgis/datasets/csv/weather/weather.csv','climate2.txt')\n",
    "climate_data = np.genfromtxt('climate.txt',delimiter=',',skip_header=0)\n",
    "climate_data"
   ]
  },
  {
   "cell_type": "code",
   "execution_count": 259,
   "id": "a850b603",
   "metadata": {},
   "outputs": [
    {
     "data": {
      "text/plain": [
       "(138, 3)"
      ]
     },
     "execution_count": 259,
     "metadata": {},
     "output_type": "execute_result"
    }
   ],
   "source": [
    "climate_data.shape"
   ]
  },
  {
   "cell_type": "code",
   "execution_count": 261,
   "id": "27be7cc2",
   "metadata": {},
   "outputs": [],
   "source": [
    "weight = np.array([0.3,0.2,0.5])"
   ]
  },
  {
   "cell_type": "code",
   "execution_count": 262,
   "id": "229ce3e4",
   "metadata": {},
   "outputs": [],
   "source": [
    "yields = climate_data @ weight"
   ]
  },
  {
   "cell_type": "code",
   "execution_count": 265,
   "id": "32e6e369",
   "metadata": {},
   "outputs": [
    {
     "data": {
      "text/plain": [
       "726.5999999999999"
      ]
     },
     "execution_count": 265,
     "metadata": {},
     "output_type": "execute_result"
    }
   ],
   "source": [
    "yields.sum()"
   ]
  },
  {
   "cell_type": "code",
   "execution_count": 266,
   "id": "063e99e7",
   "metadata": {},
   "outputs": [
    {
     "data": {
      "text/plain": [
       "(138,)"
      ]
     },
     "execution_count": 266,
     "metadata": {},
     "output_type": "execute_result"
    }
   ],
   "source": [
    "yields.shape"
   ]
  },
  {
   "cell_type": "code",
   "execution_count": 267,
   "id": "ba1a4aac",
   "metadata": {},
   "outputs": [],
   "source": [
    "climate_results = np.concatenate((climate_data,yields.reshape(138,1)),axis= 1)"
   ]
  },
  {
   "cell_type": "code",
   "execution_count": 268,
   "id": "131b982b",
   "metadata": {},
   "outputs": [
    {
     "data": {
      "text/plain": [
       "array([[1. , 2. , 3. , 2.2],\n",
       "       [4. , 5. , 6. , 5.2],\n",
       "       [7. , 8. , 9. , 8.2],\n",
       "       [1. , 2. , 3. , 2.2],\n",
       "       [4. , 5. , 6. , 5.2],\n",
       "       [7. , 8. , 9. , 8.2],\n",
       "       [1. , 2. , 3. , 2.2],\n",
       "       [4. , 5. , 6. , 5.2],\n",
       "       [7. , 8. , 9. , 8.2],\n",
       "       [1. , 2. , 3. , 2.2],\n",
       "       [4. , 5. , 6. , 5.2],\n",
       "       [7. , 8. , 9. , 8.2],\n",
       "       [1. , 2. , 3. , 2.2],\n",
       "       [4. , 5. , 6. , 5.2],\n",
       "       [7. , 8. , 9. , 8.2],\n",
       "       [1. , 2. , 3. , 2.2],\n",
       "       [4. , 5. , 6. , 5.2],\n",
       "       [7. , 8. , 9. , 8.2],\n",
       "       [1. , 2. , 3. , 2.2],\n",
       "       [4. , 5. , 6. , 5.2],\n",
       "       [7. , 8. , 9. , 8.2],\n",
       "       [1. , 2. , 3. , 2.2],\n",
       "       [4. , 5. , 6. , 5.2],\n",
       "       [7. , 8. , 9. , 8.2],\n",
       "       [1. , 2. , 3. , 2.2],\n",
       "       [4. , 5. , 6. , 5.2],\n",
       "       [7. , 8. , 9. , 8.2],\n",
       "       [1. , 2. , 3. , 2.2],\n",
       "       [4. , 5. , 6. , 5.2],\n",
       "       [7. , 8. , 9. , 8.2],\n",
       "       [1. , 2. , 3. , 2.2],\n",
       "       [4. , 5. , 6. , 5.2],\n",
       "       [7. , 8. , 9. , 8.2],\n",
       "       [1. , 2. , 3. , 2.2],\n",
       "       [4. , 5. , 6. , 5.2],\n",
       "       [7. , 8. , 9. , 8.2],\n",
       "       [1. , 2. , 3. , 2.2],\n",
       "       [4. , 5. , 6. , 5.2],\n",
       "       [7. , 8. , 9. , 8.2],\n",
       "       [4. , 5. , 6. , 5.2],\n",
       "       [7. , 8. , 9. , 8.2],\n",
       "       [4. , 5. , 6. , 5.2],\n",
       "       [7. , 8. , 9. , 8.2],\n",
       "       [4. , 5. , 6. , 5.2],\n",
       "       [7. , 8. , 9. , 8.2],\n",
       "       [1. , 2. , 3. , 2.2],\n",
       "       [4. , 5. , 6. , 5.2],\n",
       "       [7. , 8. , 9. , 8.2],\n",
       "       [1. , 2. , 3. , 2.2],\n",
       "       [4. , 5. , 6. , 5.2],\n",
       "       [7. , 8. , 9. , 8.2],\n",
       "       [1. , 2. , 3. , 2.2],\n",
       "       [4. , 5. , 6. , 5.2],\n",
       "       [7. , 8. , 9. , 8.2],\n",
       "       [1. , 2. , 3. , 2.2],\n",
       "       [4. , 5. , 6. , 5.2],\n",
       "       [7. , 8. , 9. , 8.2],\n",
       "       [1. , 2. , 3. , 2.2],\n",
       "       [4. , 5. , 6. , 5.2],\n",
       "       [7. , 8. , 9. , 8.2],\n",
       "       [1. , 2. , 3. , 2.2],\n",
       "       [4. , 5. , 6. , 5.2],\n",
       "       [7. , 8. , 9. , 8.2],\n",
       "       [1. , 2. , 3. , 2.2],\n",
       "       [4. , 5. , 6. , 5.2],\n",
       "       [7. , 8. , 9. , 8.2],\n",
       "       [1. , 2. , 3. , 2.2],\n",
       "       [4. , 5. , 6. , 5.2],\n",
       "       [7. , 8. , 9. , 8.2],\n",
       "       [1. , 2. , 3. , 2.2],\n",
       "       [4. , 5. , 6. , 5.2],\n",
       "       [7. , 8. , 9. , 8.2],\n",
       "       [1. , 2. , 3. , 2.2],\n",
       "       [4. , 5. , 6. , 5.2],\n",
       "       [7. , 8. , 9. , 8.2],\n",
       "       [1. , 2. , 3. , 2.2],\n",
       "       [4. , 5. , 6. , 5.2],\n",
       "       [7. , 8. , 9. , 8.2],\n",
       "       [1. , 2. , 3. , 2.2],\n",
       "       [4. , 5. , 6. , 5.2],\n",
       "       [7. , 8. , 9. , 8.2],\n",
       "       [1. , 2. , 3. , 2.2],\n",
       "       [4. , 5. , 6. , 5.2],\n",
       "       [7. , 8. , 9. , 8.2],\n",
       "       [1. , 2. , 3. , 2.2],\n",
       "       [4. , 5. , 6. , 5.2],\n",
       "       [7. , 8. , 9. , 8.2],\n",
       "       [1. , 2. , 3. , 2.2],\n",
       "       [4. , 5. , 6. , 5.2],\n",
       "       [7. , 8. , 9. , 8.2],\n",
       "       [1. , 2. , 3. , 2.2],\n",
       "       [4. , 5. , 6. , 5.2],\n",
       "       [7. , 8. , 9. , 8.2],\n",
       "       [1. , 2. , 3. , 2.2],\n",
       "       [4. , 5. , 6. , 5.2],\n",
       "       [7. , 8. , 9. , 8.2],\n",
       "       [1. , 2. , 3. , 2.2],\n",
       "       [4. , 5. , 6. , 5.2],\n",
       "       [7. , 8. , 9. , 8.2],\n",
       "       [1. , 2. , 3. , 2.2],\n",
       "       [4. , 5. , 6. , 5.2],\n",
       "       [7. , 8. , 9. , 8.2],\n",
       "       [1. , 2. , 3. , 2.2],\n",
       "       [4. , 5. , 6. , 5.2],\n",
       "       [7. , 8. , 9. , 8.2],\n",
       "       [1. , 2. , 3. , 2.2],\n",
       "       [4. , 5. , 6. , 5.2],\n",
       "       [7. , 8. , 9. , 8.2],\n",
       "       [1. , 2. , 3. , 2.2],\n",
       "       [4. , 5. , 6. , 5.2],\n",
       "       [7. , 8. , 9. , 8.2],\n",
       "       [1. , 2. , 3. , 2.2],\n",
       "       [4. , 5. , 6. , 5.2],\n",
       "       [7. , 8. , 9. , 8.2],\n",
       "       [1. , 2. , 3. , 2.2],\n",
       "       [4. , 5. , 6. , 5.2],\n",
       "       [7. , 8. , 9. , 8.2],\n",
       "       [1. , 2. , 3. , 2.2],\n",
       "       [4. , 5. , 6. , 5.2],\n",
       "       [7. , 8. , 9. , 8.2],\n",
       "       [1. , 2. , 3. , 2.2],\n",
       "       [4. , 5. , 6. , 5.2],\n",
       "       [7. , 8. , 9. , 8.2],\n",
       "       [1. , 2. , 3. , 2.2],\n",
       "       [4. , 5. , 6. , 5.2],\n",
       "       [7. , 8. , 9. , 8.2],\n",
       "       [1. , 2. , 3. , 2.2],\n",
       "       [4. , 5. , 6. , 5.2],\n",
       "       [7. , 8. , 9. , 8.2],\n",
       "       [1. , 2. , 3. , 2.2],\n",
       "       [4. , 5. , 6. , 5.2],\n",
       "       [7. , 8. , 9. , 8.2],\n",
       "       [1. , 2. , 3. , 2.2],\n",
       "       [4. , 5. , 6. , 5.2],\n",
       "       [7. , 8. , 9. , 8.2],\n",
       "       [1. , 2. , 3. , 2.2],\n",
       "       [4. , 5. , 6. , 5.2],\n",
       "       [7. , 8. , 9. , 8.2]])"
      ]
     },
     "execution_count": 268,
     "metadata": {},
     "output_type": "execute_result"
    }
   ],
   "source": [
    "climate_results"
   ]
  },
  {
   "cell_type": "code",
   "execution_count": 270,
   "id": "01a85074",
   "metadata": {},
   "outputs": [],
   "source": [
    "np.savetxt('climate_results.txt', climate_results, fmt='%.2f',header='temp,rainfall,humidity,yield_calc',comments = '')"
   ]
  },
  {
   "cell_type": "code",
   "execution_count": 273,
   "id": "2967d45b",
   "metadata": {},
   "outputs": [
    {
     "data": {
      "text/plain": [
       "9.0"
      ]
     },
     "execution_count": 273,
     "metadata": {},
     "output_type": "execute_result"
    }
   ],
   "source": [
    "np.max(climate_results)"
   ]
  },
  {
   "cell_type": "code",
   "execution_count": 278,
   "id": "a11b189e",
   "metadata": {},
   "outputs": [
    {
     "data": {
      "text/plain": [
       "5.1152173913043475"
      ]
     },
     "execution_count": 278,
     "metadata": {},
     "output_type": "execute_result"
    }
   ],
   "source": [
    "np.mean(climate_results)"
   ]
  },
  {
   "cell_type": "code",
   "execution_count": 279,
   "id": "40266b9f",
   "metadata": {},
   "outputs": [
    {
     "data": {
      "text/plain": [
       "array([    0,     1,     2, ..., 99997, 99998, 99999])"
      ]
     },
     "execution_count": 279,
     "metadata": {},
     "output_type": "execute_result"
    }
   ],
   "source": [
    "arr1_np"
   ]
  },
  {
   "cell_type": "code",
   "execution_count": 280,
   "id": "eeabe293",
   "metadata": {},
   "outputs": [
    {
     "data": {
      "text/plain": [
       "array([100000, 100002, 100004, ..., 299994, 299996, 299998])"
      ]
     },
     "execution_count": 280,
     "metadata": {},
     "output_type": "execute_result"
    }
   ],
   "source": [
    "arr1_np + arr2_np"
   ]
  },
  {
   "cell_type": "code",
   "execution_count": 281,
   "id": "7f33e0ed",
   "metadata": {},
   "outputs": [
    {
     "data": {
      "text/plain": [
       "array([     3,      4,      5, ..., 100000, 100001, 100002])"
      ]
     },
     "execution_count": 281,
     "metadata": {},
     "output_type": "execute_result"
    }
   ],
   "source": [
    "arr1_np + 3"
   ]
  },
  {
   "cell_type": "code",
   "execution_count": 282,
   "id": "efcb2772",
   "metadata": {},
   "outputs": [
    {
     "data": {
      "text/plain": [
       "array([100000, 100000, 100000, ..., 100000, 100000, 100000])"
      ]
     },
     "execution_count": 282,
     "metadata": {},
     "output_type": "execute_result"
    }
   ],
   "source": [
    "arr2_np - arr1_np"
   ]
  },
  {
   "cell_type": "code",
   "execution_count": 283,
   "id": "11304e4c",
   "metadata": {},
   "outputs": [
    {
     "data": {
      "text/plain": [
       "array([50000. , 50000.5, 50001. , ..., 99998.5, 99999. , 99999.5])"
      ]
     },
     "execution_count": 283,
     "metadata": {},
     "output_type": "execute_result"
    }
   ],
   "source": [
    "arr2_np / 2"
   ]
  },
  {
   "cell_type": "code",
   "execution_count": 284,
   "id": "b48b41d1",
   "metadata": {},
   "outputs": [
    {
     "data": {
      "text/plain": [
       "array([          0,      100001,      200004, ..., -1475736471,\n",
       "       -1475436476, -1475136479])"
      ]
     },
     "execution_count": 284,
     "metadata": {},
     "output_type": "execute_result"
    }
   ],
   "source": [
    "arr1_np * arr2_np"
   ]
  },
  {
   "cell_type": "code",
   "execution_count": 286,
   "id": "8cb87131",
   "metadata": {},
   "outputs": [
    {
     "ename": "ValueError",
     "evalue": "operands could not be broadcast together with shapes (3,) (2,2) ",
     "output_type": "error",
     "traceback": [
      "\u001b[1;31m---------------------------------------------------------------------------\u001b[0m",
      "\u001b[1;31mValueError\u001b[0m                                Traceback (most recent call last)",
      "Cell \u001b[1;32mIn[286], line 4\u001b[0m\n\u001b[0;32m      1\u001b[0m arr1 \u001b[38;5;241m=\u001b[39m np\u001b[38;5;241m.\u001b[39marray([\u001b[38;5;241m1\u001b[39m,\u001b[38;5;241m2\u001b[39m,\u001b[38;5;241m3\u001b[39m])\n\u001b[0;32m      2\u001b[0m arr2 \u001b[38;5;241m=\u001b[39m np\u001b[38;5;241m.\u001b[39marray([[\u001b[38;5;241m1\u001b[39m,\u001b[38;5;241m2\u001b[39m],\n\u001b[0;32m      3\u001b[0m                 [\u001b[38;5;241m3\u001b[39m,\u001b[38;5;241m4\u001b[39m]])\n\u001b[1;32m----> 4\u001b[0m arr1 \u001b[38;5;241m+\u001b[39m arr2\n",
      "\u001b[1;31mValueError\u001b[0m: operands could not be broadcast together with shapes (3,) (2,2) "
     ]
    }
   ],
   "source": [
    "arr1 = np.array([1,2,3])\n",
    "arr2 = np.array([[1,2],\n",
    "                [3,4]])\n",
    "arr1 + arr2"
   ]
  },
  {
   "cell_type": "code",
   "execution_count": 289,
   "id": "347acbfd",
   "metadata": {},
   "outputs": [
    {
     "data": {
      "text/plain": [
       "array([[2, 4],\n",
       "       [4, 6]])"
      ]
     },
     "execution_count": 289,
     "metadata": {},
     "output_type": "execute_result"
    }
   ],
   "source": [
    "arr1 = np.array([1,2])\n",
    "arr2 = np.array([[1,2],\n",
    "                [3,4]])\n",
    "arr1 + arr2"
   ]
  },
  {
   "cell_type": "code",
   "execution_count": 291,
   "id": "6bea5bb3",
   "metadata": {},
   "outputs": [
    {
     "data": {
      "text/plain": [
       "array([[False, False],\n",
       "       [False, False]])"
      ]
     },
     "execution_count": 291,
     "metadata": {},
     "output_type": "execute_result"
    }
   ],
   "source": [
    "arr1 > arr2"
   ]
  },
  {
   "cell_type": "code",
   "execution_count": 292,
   "id": "4e1abef1",
   "metadata": {},
   "outputs": [
    {
     "data": {
      "text/plain": [
       "array([[ True,  True],\n",
       "       [False, False]])"
      ]
     },
     "execution_count": 292,
     "metadata": {},
     "output_type": "execute_result"
    }
   ],
   "source": [
    "arr1 == arr2"
   ]
  },
  {
   "cell_type": "code",
   "execution_count": 293,
   "id": "2d325777",
   "metadata": {},
   "outputs": [
    {
     "data": {
      "text/plain": [
       "2"
      ]
     },
     "execution_count": 293,
     "metadata": {},
     "output_type": "execute_result"
    }
   ],
   "source": [
    "(arr1 == arr2).sum()"
   ]
  },
  {
   "cell_type": "code",
   "execution_count": 322,
   "id": "94775f4a",
   "metadata": {},
   "outputs": [],
   "source": [
    "arr3 = np.array([[[11,12,13,14],\n",
    "                [15,16,17,18]],\n",
    "                \n",
    "               [[15,16,23,24],\n",
    "                [19,20,21,22]]])"
   ]
  },
  {
   "cell_type": "code",
   "execution_count": 323,
   "id": "1300835a",
   "metadata": {},
   "outputs": [
    {
     "data": {
      "text/plain": [
       "(2, 2, 4)"
      ]
     },
     "execution_count": 323,
     "metadata": {},
     "output_type": "execute_result"
    }
   ],
   "source": [
    "arr3.shape"
   ]
  },
  {
   "cell_type": "code",
   "execution_count": 328,
   "id": "2cc485fe",
   "metadata": {},
   "outputs": [
    {
     "data": {
      "text/plain": [
       "22"
      ]
     },
     "execution_count": 328,
     "metadata": {},
     "output_type": "execute_result"
    }
   ],
   "source": [
    "arr3[1,1,3]"
   ]
  },
  {
   "cell_type": "code",
   "execution_count": 325,
   "id": "103b1b54",
   "metadata": {},
   "outputs": [
    {
     "name": "stdout",
     "output_type": "stream",
     "text": [
      "[[11 12 13 14]\n",
      " [15 16 17 18]]\n",
      "[[15 16 23 24]\n",
      " [19 20 21 22]]\n"
     ]
    }
   ],
   "source": [
    "for i in arr3:\n",
    "    print(i)"
   ]
  },
  {
   "cell_type": "code",
   "execution_count": 329,
   "id": "53e4e0b9",
   "metadata": {},
   "outputs": [
    {
     "data": {
      "text/plain": [
       "array([[[15, 16, 23, 24],\n",
       "        [19, 20, 21, 22]]])"
      ]
     },
     "execution_count": 329,
     "metadata": {},
     "output_type": "execute_result"
    }
   ],
   "source": [
    "arr3[1:]"
   ]
  },
  {
   "cell_type": "code",
   "execution_count": 331,
   "id": "d5d3fe85",
   "metadata": {},
   "outputs": [
    {
     "data": {
      "text/plain": [
       "(1, 1, 2)"
      ]
     },
     "execution_count": 331,
     "metadata": {},
     "output_type": "execute_result"
    }
   ],
   "source": [
    "arr3[1:,0:1,:2].shape"
   ]
  },
  {
   "cell_type": "code",
   "execution_count": 332,
   "id": "ec86ae72",
   "metadata": {},
   "outputs": [
    {
     "data": {
      "text/plain": [
       "array([[[15, 16]]])"
      ]
     },
     "execution_count": 332,
     "metadata": {},
     "output_type": "execute_result"
    }
   ],
   "source": [
    "arr3[1:,0:1,:2]"
   ]
  },
  {
   "cell_type": "code",
   "execution_count": 334,
   "id": "92d528e9",
   "metadata": {},
   "outputs": [
    {
     "data": {
      "text/plain": [
       "array([[0., 0., 0., 0.],\n",
       "       [0., 0., 0., 0.],\n",
       "       [0., 0., 0., 0.]])"
      ]
     },
     "execution_count": 334,
     "metadata": {},
     "output_type": "execute_result"
    }
   ],
   "source": [
    "np.zeros((3,4))"
   ]
  },
  {
   "cell_type": "code",
   "execution_count": 335,
   "id": "ffdf1440",
   "metadata": {},
   "outputs": [
    {
     "data": {
      "text/plain": [
       "array([[[1., 1., 1., 1.],\n",
       "        [1., 1., 1., 1.]],\n",
       "\n",
       "       [[1., 1., 1., 1.],\n",
       "        [1., 1., 1., 1.]]])"
      ]
     },
     "execution_count": 335,
     "metadata": {},
     "output_type": "execute_result"
    }
   ],
   "source": [
    "np.ones([2,2,4])"
   ]
  },
  {
   "cell_type": "code",
   "execution_count": 336,
   "id": "f0f22fb1",
   "metadata": {},
   "outputs": [
    {
     "data": {
      "text/plain": [
       "4"
      ]
     },
     "execution_count": 336,
     "metadata": {},
     "output_type": "execute_result"
    }
   ],
   "source": [
    "np.random.randint(5)"
   ]
  },
  {
   "cell_type": "code",
   "execution_count": 339,
   "id": "1bbde5ed",
   "metadata": {},
   "outputs": [],
   "source": [
    "g = np.random.randn(5,6)"
   ]
  },
  {
   "cell_type": "code",
   "execution_count": 340,
   "id": "7e465b5a",
   "metadata": {},
   "outputs": [
    {
     "data": {
      "text/plain": [
       "0.10149940568536933"
      ]
     },
     "execution_count": 340,
     "metadata": {},
     "output_type": "execute_result"
    }
   ],
   "source": [
    "np.mean(g)"
   ]
  },
  {
   "cell_type": "code",
   "execution_count": 341,
   "id": "6ef7586e",
   "metadata": {},
   "outputs": [
    {
     "data": {
      "text/plain": [
       "array([[56, 56, 56],\n",
       "       [56, 56, 56]])"
      ]
     },
     "execution_count": 341,
     "metadata": {},
     "output_type": "execute_result"
    }
   ],
   "source": [
    "np.full([2,3],56)"
   ]
  },
  {
   "cell_type": "code",
   "execution_count": 343,
   "id": "5f3f186c",
   "metadata": {},
   "outputs": [
    {
     "data": {
      "text/plain": [
       "array([10, 18, 26, 34, 42, 50, 58, 66, 74, 82])"
      ]
     },
     "execution_count": 343,
     "metadata": {},
     "output_type": "execute_result"
    }
   ],
   "source": [
    "np.arange(10,90,8)"
   ]
  },
  {
   "cell_type": "code",
   "execution_count": 345,
   "id": "1074fb3c",
   "metadata": {},
   "outputs": [
    {
     "data": {
      "text/plain": [
       "(10,)"
      ]
     },
     "execution_count": 345,
     "metadata": {},
     "output_type": "execute_result"
    }
   ],
   "source": [
    "np.arange(10,90,8).shape"
   ]
  },
  {
   "cell_type": "code",
   "execution_count": 352,
   "id": "da649340",
   "metadata": {},
   "outputs": [
    {
     "data": {
      "text/plain": [
       "array([[10, 18, 26, 34, 42],\n",
       "       [50, 58, 66, 74, 82]])"
      ]
     },
     "execution_count": 352,
     "metadata": {},
     "output_type": "execute_result"
    }
   ],
   "source": [
    "np.arange(10,90,8).reshape(2,5)"
   ]
  },
  {
   "cell_type": "code",
   "execution_count": 353,
   "id": "5d6a9e98",
   "metadata": {},
   "outputs": [
    {
     "data": {
      "text/plain": [
       "array([ 3.,  6.,  9., 12., 15., 18., 21., 24., 27.])"
      ]
     },
     "execution_count": 353,
     "metadata": {},
     "output_type": "execute_result"
    }
   ],
   "source": [
    "np.linspace(3,27,9)"
   ]
  },
  {
   "cell_type": "code",
   "execution_count": 355,
   "id": "905a7252",
   "metadata": {},
   "outputs": [
    {
     "name": "stdout",
     "output_type": "stream",
     "text": [
      "CPU times: total: 0 ns\n",
      "Wall time: 0 ns\n"
     ]
    }
   ],
   "source": []
  },
  {
   "cell_type": "markdown",
   "id": "e2204bae",
   "metadata": {},
   "source": [
    "# Reading feom and writing to files using Python"
   ]
  },
  {
   "cell_type": "code",
   "execution_count": 360,
   "id": "e0b12cc8",
   "metadata": {},
   "outputs": [],
   "source": [
    "import os"
   ]
  },
  {
   "cell_type": "code",
   "execution_count": 361,
   "id": "b349de4e",
   "metadata": {},
   "outputs": [
    {
     "data": {
      "text/plain": [
       "'C:\\\\Users\\\\10693867\\\\Downloads\\\\My Projects'"
      ]
     },
     "execution_count": 361,
     "metadata": {},
     "output_type": "execute_result"
    }
   ],
   "source": [
    "os.getcwd()"
   ]
  },
  {
   "cell_type": "code",
   "execution_count": 363,
   "id": "ca4dc651",
   "metadata": {},
   "outputs": [
    {
     "name": "stdout",
     "output_type": "stream",
     "text": [
      "Help on built-in function listdir in module nt:\n",
      "\n",
      "listdir(path=None)\n",
      "    Return a list containing the names of the files in the directory.\n",
      "    \n",
      "    path can be specified as either str, bytes, or a path-like object.  If path is bytes,\n",
      "      the filenames returned will also be bytes; in all other circumstances\n",
      "      the filenames returned will be str.\n",
      "    If path is None, uses the path='.'.\n",
      "    On some platforms, path may also be specified as an open file descriptor;\\\n",
      "      the file descriptor must refer to a directory.\n",
      "      If this functionality is unavailable, using it raises NotImplementedError.\n",
      "    \n",
      "    The list is in arbitrary order.  It does not include the special\n",
      "    entries '.' and '..' even if they are present in the directory.\n",
      "\n"
     ]
    }
   ],
   "source": [
    "help(os.listdir)"
   ]
  },
  {
   "cell_type": "code",
   "execution_count": 364,
   "id": "a02e42e5",
   "metadata": {},
   "outputs": [
    {
     "data": {
      "text/plain": [
       "['.git',\n",
       " '.ipynb_checkpoints',\n",
       " 'climate.txt',\n",
       " 'climate_results.txt',\n",
       " 'Covid-19 Data Analysis.ipynb',\n",
       " 'MasteringPythonDataSciencePackages.ipynb',\n",
       " 'MasteringPythonZeroToHero.ipynb',\n",
       " 'myDataSciencePractice.ipynb',\n",
       " 'myUniversalFunctions.ipynb']"
      ]
     },
     "execution_count": 364,
     "metadata": {},
     "output_type": "execute_result"
    }
   ],
   "source": [
    "os.listdir('.')"
   ]
  },
  {
   "cell_type": "code",
   "execution_count": 366,
   "id": "d545f6d4",
   "metadata": {},
   "outputs": [],
   "source": [
    "os.makedirs('./data',exist_ok=True)"
   ]
  },
  {
   "cell_type": "code",
   "execution_count": 367,
   "id": "385f294f",
   "metadata": {},
   "outputs": [
    {
     "data": {
      "text/plain": [
       "True"
      ]
     },
     "execution_count": 367,
     "metadata": {},
     "output_type": "execute_result"
    }
   ],
   "source": [
    "'data' in os.listdir('.')"
   ]
  },
  {
   "cell_type": "code",
   "execution_count": 368,
   "id": "0475da0c",
   "metadata": {},
   "outputs": [
    {
     "data": {
      "text/plain": [
       "[]"
      ]
     },
     "execution_count": 368,
     "metadata": {},
     "output_type": "execute_result"
    }
   ],
   "source": [
    "os.listdir('./data')"
   ]
  },
  {
   "cell_type": "code",
   "execution_count": 369,
   "id": "8c09a537",
   "metadata": {},
   "outputs": [],
   "source": [
    "url3 = 'https://filesamples.com/samples/document/txt/sample3.txt'\n",
    "url2 ='https://filesamples.com/samples/document/txt/sample2.txt'\n",
    "url1 ='https://filesamples.com/samples/document/txt/sample1.txt'"
   ]
  },
  {
   "cell_type": "code",
   "execution_count": 370,
   "id": "eb481087",
   "metadata": {},
   "outputs": [],
   "source": [
    "import urllib.request"
   ]
  },
  {
   "cell_type": "code",
   "execution_count": 372,
   "id": "725b99d3",
   "metadata": {},
   "outputs": [
    {
     "ename": "HTTPError",
     "evalue": "HTTP Error 403: Forbidden",
     "output_type": "error",
     "traceback": [
      "\u001b[1;31m---------------------------------------------------------------------------\u001b[0m",
      "\u001b[1;31mHTTPError\u001b[0m                                 Traceback (most recent call last)",
      "Cell \u001b[1;32mIn[372], line 1\u001b[0m\n\u001b[1;32m----> 1\u001b[0m urllib\u001b[38;5;241m.\u001b[39mrequest\u001b[38;5;241m.\u001b[39murlretrieve(url1,\u001b[38;5;124m'\u001b[39m\u001b[38;5;124m./data/sample1.txt\u001b[39m\u001b[38;5;124m'\u001b[39m)\n\u001b[0;32m      2\u001b[0m urllib\u001b[38;5;241m.\u001b[39mrequest\u001b[38;5;241m.\u001b[39murlretrieve(url2,\u001b[38;5;124m'\u001b[39m\u001b[38;5;124m./data/sample2.txt\u001b[39m\u001b[38;5;124m'\u001b[39m)\n\u001b[0;32m      3\u001b[0m urllib\u001b[38;5;241m.\u001b[39mrequest\u001b[38;5;241m.\u001b[39murlretrieve(url3,\u001b[38;5;124m'\u001b[39m\u001b[38;5;124m./data/sample3.txt\u001b[39m\u001b[38;5;124m'\u001b[39m)\n",
      "File \u001b[1;32m~\\AppData\\Local\\anaconda3\\Lib\\urllib\\request.py:241\u001b[0m, in \u001b[0;36murlretrieve\u001b[1;34m(url, filename, reporthook, data)\u001b[0m\n\u001b[0;32m    224\u001b[0m \u001b[38;5;250m\u001b[39m\u001b[38;5;124;03m\"\"\"\u001b[39;00m\n\u001b[0;32m    225\u001b[0m \u001b[38;5;124;03mRetrieve a URL into a temporary location on disk.\u001b[39;00m\n\u001b[0;32m    226\u001b[0m \n\u001b[1;32m   (...)\u001b[0m\n\u001b[0;32m    237\u001b[0m \u001b[38;5;124;03mdata file as well as the resulting HTTPMessage object.\u001b[39;00m\n\u001b[0;32m    238\u001b[0m \u001b[38;5;124;03m\"\"\"\u001b[39;00m\n\u001b[0;32m    239\u001b[0m url_type, path \u001b[38;5;241m=\u001b[39m _splittype(url)\n\u001b[1;32m--> 241\u001b[0m \u001b[38;5;28;01mwith\u001b[39;00m contextlib\u001b[38;5;241m.\u001b[39mclosing(urlopen(url, data)) \u001b[38;5;28;01mas\u001b[39;00m fp:\n\u001b[0;32m    242\u001b[0m     headers \u001b[38;5;241m=\u001b[39m fp\u001b[38;5;241m.\u001b[39minfo()\n\u001b[0;32m    244\u001b[0m     \u001b[38;5;66;03m# Just return the local path and the \"headers\" for file://\u001b[39;00m\n\u001b[0;32m    245\u001b[0m     \u001b[38;5;66;03m# URLs. No sense in performing a copy unless requested.\u001b[39;00m\n",
      "File \u001b[1;32m~\\AppData\\Local\\anaconda3\\Lib\\urllib\\request.py:216\u001b[0m, in \u001b[0;36murlopen\u001b[1;34m(url, data, timeout, cafile, capath, cadefault, context)\u001b[0m\n\u001b[0;32m    214\u001b[0m \u001b[38;5;28;01melse\u001b[39;00m:\n\u001b[0;32m    215\u001b[0m     opener \u001b[38;5;241m=\u001b[39m _opener\n\u001b[1;32m--> 216\u001b[0m \u001b[38;5;28;01mreturn\u001b[39;00m opener\u001b[38;5;241m.\u001b[39mopen(url, data, timeout)\n",
      "File \u001b[1;32m~\\AppData\\Local\\anaconda3\\Lib\\urllib\\request.py:525\u001b[0m, in \u001b[0;36mOpenerDirector.open\u001b[1;34m(self, fullurl, data, timeout)\u001b[0m\n\u001b[0;32m    523\u001b[0m \u001b[38;5;28;01mfor\u001b[39;00m processor \u001b[38;5;129;01min\u001b[39;00m \u001b[38;5;28mself\u001b[39m\u001b[38;5;241m.\u001b[39mprocess_response\u001b[38;5;241m.\u001b[39mget(protocol, []):\n\u001b[0;32m    524\u001b[0m     meth \u001b[38;5;241m=\u001b[39m \u001b[38;5;28mgetattr\u001b[39m(processor, meth_name)\n\u001b[1;32m--> 525\u001b[0m     response \u001b[38;5;241m=\u001b[39m meth(req, response)\n\u001b[0;32m    527\u001b[0m \u001b[38;5;28;01mreturn\u001b[39;00m response\n",
      "File \u001b[1;32m~\\AppData\\Local\\anaconda3\\Lib\\urllib\\request.py:634\u001b[0m, in \u001b[0;36mHTTPErrorProcessor.http_response\u001b[1;34m(self, request, response)\u001b[0m\n\u001b[0;32m    631\u001b[0m \u001b[38;5;66;03m# According to RFC 2616, \"2xx\" code indicates that the client's\u001b[39;00m\n\u001b[0;32m    632\u001b[0m \u001b[38;5;66;03m# request was successfully received, understood, and accepted.\u001b[39;00m\n\u001b[0;32m    633\u001b[0m \u001b[38;5;28;01mif\u001b[39;00m \u001b[38;5;129;01mnot\u001b[39;00m (\u001b[38;5;241m200\u001b[39m \u001b[38;5;241m<\u001b[39m\u001b[38;5;241m=\u001b[39m code \u001b[38;5;241m<\u001b[39m \u001b[38;5;241m300\u001b[39m):\n\u001b[1;32m--> 634\u001b[0m     response \u001b[38;5;241m=\u001b[39m \u001b[38;5;28mself\u001b[39m\u001b[38;5;241m.\u001b[39mparent\u001b[38;5;241m.\u001b[39merror(\n\u001b[0;32m    635\u001b[0m         \u001b[38;5;124m'\u001b[39m\u001b[38;5;124mhttp\u001b[39m\u001b[38;5;124m'\u001b[39m, request, response, code, msg, hdrs)\n\u001b[0;32m    637\u001b[0m \u001b[38;5;28;01mreturn\u001b[39;00m response\n",
      "File \u001b[1;32m~\\AppData\\Local\\anaconda3\\Lib\\urllib\\request.py:563\u001b[0m, in \u001b[0;36mOpenerDirector.error\u001b[1;34m(self, proto, *args)\u001b[0m\n\u001b[0;32m    561\u001b[0m \u001b[38;5;28;01mif\u001b[39;00m http_err:\n\u001b[0;32m    562\u001b[0m     args \u001b[38;5;241m=\u001b[39m (\u001b[38;5;28mdict\u001b[39m, \u001b[38;5;124m'\u001b[39m\u001b[38;5;124mdefault\u001b[39m\u001b[38;5;124m'\u001b[39m, \u001b[38;5;124m'\u001b[39m\u001b[38;5;124mhttp_error_default\u001b[39m\u001b[38;5;124m'\u001b[39m) \u001b[38;5;241m+\u001b[39m orig_args\n\u001b[1;32m--> 563\u001b[0m     \u001b[38;5;28;01mreturn\u001b[39;00m \u001b[38;5;28mself\u001b[39m\u001b[38;5;241m.\u001b[39m_call_chain(\u001b[38;5;241m*\u001b[39margs)\n",
      "File \u001b[1;32m~\\AppData\\Local\\anaconda3\\Lib\\urllib\\request.py:496\u001b[0m, in \u001b[0;36mOpenerDirector._call_chain\u001b[1;34m(self, chain, kind, meth_name, *args)\u001b[0m\n\u001b[0;32m    494\u001b[0m \u001b[38;5;28;01mfor\u001b[39;00m handler \u001b[38;5;129;01min\u001b[39;00m handlers:\n\u001b[0;32m    495\u001b[0m     func \u001b[38;5;241m=\u001b[39m \u001b[38;5;28mgetattr\u001b[39m(handler, meth_name)\n\u001b[1;32m--> 496\u001b[0m     result \u001b[38;5;241m=\u001b[39m func(\u001b[38;5;241m*\u001b[39margs)\n\u001b[0;32m    497\u001b[0m     \u001b[38;5;28;01mif\u001b[39;00m result \u001b[38;5;129;01mis\u001b[39;00m \u001b[38;5;129;01mnot\u001b[39;00m \u001b[38;5;28;01mNone\u001b[39;00m:\n\u001b[0;32m    498\u001b[0m         \u001b[38;5;28;01mreturn\u001b[39;00m result\n",
      "File \u001b[1;32m~\\AppData\\Local\\anaconda3\\Lib\\urllib\\request.py:643\u001b[0m, in \u001b[0;36mHTTPDefaultErrorHandler.http_error_default\u001b[1;34m(self, req, fp, code, msg, hdrs)\u001b[0m\n\u001b[0;32m    642\u001b[0m \u001b[38;5;28;01mdef\u001b[39;00m \u001b[38;5;21mhttp_error_default\u001b[39m(\u001b[38;5;28mself\u001b[39m, req, fp, code, msg, hdrs):\n\u001b[1;32m--> 643\u001b[0m     \u001b[38;5;28;01mraise\u001b[39;00m HTTPError(req\u001b[38;5;241m.\u001b[39mfull_url, code, msg, hdrs, fp)\n",
      "\u001b[1;31mHTTPError\u001b[0m: HTTP Error 403: Forbidden"
     ]
    }
   ],
   "source": [
    "urllib.request.urlretrieve(url1,'./data/sample1.txt')\n",
    "urllib.request.urlretrieve(url2,'./data/sample2.txt')\n",
    "urllib.request.urlretrieve(url3,'./data/sample3.txt')"
   ]
  },
  {
   "cell_type": "code",
   "execution_count": 388,
   "id": "9ffb65e1",
   "metadata": {},
   "outputs": [],
   "source": [
    "file1 = open('./data/sample1.txt',mode= 'r')"
   ]
  },
  {
   "cell_type": "code",
   "execution_count": 389,
   "id": "919c4ca5",
   "metadata": {},
   "outputs": [],
   "source": [
    "file1_contents = file1.read()"
   ]
  },
  {
   "cell_type": "code",
   "execution_count": 390,
   "id": "0ba71d03",
   "metadata": {},
   "outputs": [
    {
     "name": "stdout",
     "output_type": "stream",
     "text": [
      "My Name is Pythonnnnnnnnn\n",
      "\n"
     ]
    }
   ],
   "source": [
    "print(file1_contents)\n"
   ]
  },
  {
   "cell_type": "code",
   "execution_count": 392,
   "id": "dc51e0ee",
   "metadata": {},
   "outputs": [
    {
     "data": {
      "text/plain": [
       "''"
      ]
     },
     "execution_count": 392,
     "metadata": {},
     "output_type": "execute_result"
    }
   ],
   "source": [
    "file1.read()"
   ]
  },
  {
   "cell_type": "code",
   "execution_count": 393,
   "id": "d5db021d",
   "metadata": {},
   "outputs": [],
   "source": [
    "file1.close()"
   ]
  },
  {
   "cell_type": "code",
   "execution_count": 395,
   "id": "06ef1e44",
   "metadata": {},
   "outputs": [
    {
     "name": "stdout",
     "output_type": "stream",
     "text": [
      "My Name is Pythonnnnnnnnn\n",
      "\n"
     ]
    }
   ],
   "source": [
    "with open('./data/sample1.txt','r') as file2:\n",
    "    file2_contents = file2.read()\n",
    "    print(file2_contents)"
   ]
  },
  {
   "cell_type": "code",
   "execution_count": 396,
   "id": "6ca3f627",
   "metadata": {},
   "outputs": [],
   "source": [
    "with open('./data/sample1.txt','r') as file3:\n",
    "    file3_lines = file3.readlines()"
   ]
  },
  {
   "cell_type": "code",
   "execution_count": 397,
   "id": "447af6d8",
   "metadata": {},
   "outputs": [
    {
     "data": {
      "text/plain": [
       "['My Name is Pythonnnnnnnnn\\n']"
      ]
     },
     "execution_count": 397,
     "metadata": {},
     "output_type": "execute_result"
    }
   ],
   "source": [
    "file3_lines"
   ]
  },
  {
   "cell_type": "code",
   "execution_count": 398,
   "id": "c80da03d",
   "metadata": {},
   "outputs": [
    {
     "data": {
      "text/plain": [
       "'My Name is Pythonnnnnnnnn'"
      ]
     },
     "execution_count": 398,
     "metadata": {},
     "output_type": "execute_result"
    }
   ],
   "source": [
    "file3_lines[0].strip()"
   ]
  },
  {
   "cell_type": "code",
   "execution_count": 399,
   "id": "6eafd1e1",
   "metadata": {},
   "outputs": [],
   "source": [
    "os.makedirs('./data/sample2.txt',exist_ok=True)"
   ]
  },
  {
   "cell_type": "code",
   "execution_count": 408,
   "id": "3eb1794d",
   "metadata": {},
   "outputs": [
    {
     "data": {
      "text/plain": [
       "8"
      ]
     },
     "execution_count": 408,
     "metadata": {},
     "output_type": "execute_result"
    }
   ],
   "source": [
    "file4 = open('./data/sample2.txt','w')\n",
    "file4.write(\"Srinidhi\")"
   ]
  },
  {
   "cell_type": "code",
   "execution_count": 410,
   "id": "dbcc0d4b",
   "metadata": {},
   "outputs": [
    {
     "name": "stdout",
     "output_type": "stream",
     "text": [
      "Srinidhi\n"
     ]
    }
   ],
   "source": [
    "file4 = open('./data/sample2.txt','r')\n",
    "print(file4.read())\n",
    "file4.close()"
   ]
  },
  {
   "cell_type": "code",
   "execution_count": 446,
   "id": "a21c18f6",
   "metadata": {},
   "outputs": [
    {
     "name": "stdout",
     "output_type": "stream",
     "text": [
      "['amount,duration,rate,down_payment,\\n', '828400,120,0.11,100000,\\n', '4633400,240,0.06,\\n', '42900,90,0.08,8900,\\n', '983000,16,0.14,\\n', '15230,48,0.07,4300,\\n']\n"
     ]
    }
   ],
   "source": [
    "with open('./data/data3.txt','r') as file5:\n",
    "    file5_cont = file5.readlines()\n",
    "    print(file5_cont)"
   ]
  },
  {
   "cell_type": "code",
   "execution_count": 455,
   "id": "e3f75206",
   "metadata": {},
   "outputs": [
    {
     "name": "stdout",
     "output_type": "stream",
     "text": [
      "amount,duration,rate,down_payment,\n",
      "\n",
      "828400,120,0.11,100000,\n",
      "\n",
      "4633400,240,0.06,\n",
      "\n",
      "42900,90,0.08,8900,\n",
      "\n",
      "983000,16,0.14,\n",
      "\n",
      "15230,48,0.07,4300,\n",
      "\n"
     ]
    }
   ],
   "source": [
    "for i in file5_cont:\n",
    "    print(i)"
   ]
  },
  {
   "cell_type": "code",
   "execution_count": 456,
   "id": "5653bda2",
   "metadata": {},
   "outputs": [
    {
     "data": {
      "text/plain": [
       "'amount,duration,rate,down_payment,\\n'"
      ]
     },
     "execution_count": 456,
     "metadata": {},
     "output_type": "execute_result"
    }
   ],
   "source": [
    " file#file5_cont[0]"
   ]
  },
  {
   "cell_type": "code",
   "execution_count": 448,
   "id": "37e46125",
   "metadata": {},
   "outputs": [
    {
     "name": "stdout",
     "output_type": "stream",
     "text": [
      "['amount,duration,rate,down_payment,\\n', '828400,120,0.11,100000,\\n', '4633400,240,0.06,\\n', '42900,90,0.08,8900,\\n', '983000,16,0.14,\\n', '15230,48,0.07,4300,\\n']\n"
     ]
    }
   ],
   "source": [
    "print(file5_cont)"
   ]
  },
  {
   "cell_type": "code",
   "execution_count": 434,
   "id": "72599bc2",
   "metadata": {},
   "outputs": [
    {
     "data": {
      "text/plain": [
       "['amount,duration,rate,down_payment\\n',\n",
       " '828400,120,0.11,100000\\n',\n",
       " '4633400,240,0.06\\n',\n",
       " '42900,90,0.08,8900\\n',\n",
       " '983000,16,0.14\\n',\n",
       " '15230,48,0.07,4300\\n']"
      ]
     },
     "execution_count": 434,
     "metadata": {},
     "output_type": "execute_result"
    }
   ],
   "source": [
    "f3 = open('./data/data3.txt','r')\n",
    "f2 = f3.readlines()\n",
    "f2"
   ]
  },
  {
   "cell_type": "code",
   "execution_count": 435,
   "id": "f75b85f2",
   "metadata": {},
   "outputs": [],
   "source": [
    "f4 =f2[0].strip()"
   ]
  },
  {
   "cell_type": "code",
   "execution_count": 437,
   "id": "8321eaa3",
   "metadata": {},
   "outputs": [
    {
     "data": {
      "text/plain": [
       "['amount,duration,rate,down_payment\\n',\n",
       " '828400,120,0.11,100000\\n',\n",
       " '4633400,240,0.06\\n',\n",
       " '42900,90,0.08,8900\\n',\n",
       " '983000,16,0.14\\n',\n",
       " '15230,48,0.07,4300\\n']"
      ]
     },
     "execution_count": 437,
     "metadata": {},
     "output_type": "execute_result"
    }
   ],
   "source": [
    "f2"
   ]
  },
  {
   "cell_type": "code",
   "execution_count": 459,
   "id": "badfd0ca",
   "metadata": {},
   "outputs": [
    {
     "data": {
      "text/plain": [
       "['amount', 'duration', 'rate', 'down_payment\\n']"
      ]
     },
     "execution_count": 459,
     "metadata": {},
     "output_type": "execute_result"
    }
   ],
   "source": [
    "f2[0].split(',')"
   ]
  },
  {
   "cell_type": "code",
   "execution_count": 460,
   "id": "ee9caf75",
   "metadata": {},
   "outputs": [],
   "source": [
    "def parse_headers(header_line):\n",
    "    return header_line.strip().split(',')"
   ]
  },
  {
   "cell_type": "code",
   "execution_count": 461,
   "id": "5ca66235",
   "metadata": {},
   "outputs": [
    {
     "data": {
      "text/plain": [
       "'amount,duration,rate,down_payment\\n'"
      ]
     },
     "execution_count": 461,
     "metadata": {},
     "output_type": "execute_result"
    }
   ],
   "source": [
    "f2[0]"
   ]
  },
  {
   "cell_type": "code",
   "execution_count": 462,
   "id": "644be1fc",
   "metadata": {},
   "outputs": [
    {
     "data": {
      "text/plain": [
       "['amount', 'duration', 'rate', 'down_payment']"
      ]
     },
     "execution_count": 462,
     "metadata": {},
     "output_type": "execute_result"
    }
   ],
   "source": [
    "headers = parse_headers(f2[0])\n",
    "headers"
   ]
  },
  {
   "cell_type": "code",
   "execution_count": 463,
   "id": "5b346b0f",
   "metadata": {},
   "outputs": [],
   "source": [
    "def parse_values(data_line):\n",
    "    values = []\n",
    "    for item in data_line.strip().split(','):\n",
    "        values.append(float(item))\n",
    "    return values"
   ]
  },
  {
   "cell_type": "code",
   "execution_count": 464,
   "id": "a423fbcd",
   "metadata": {},
   "outputs": [
    {
     "data": {
      "text/plain": [
       "'4633400,240,0.06\\n'"
      ]
     },
     "execution_count": 464,
     "metadata": {},
     "output_type": "execute_result"
    }
   ],
   "source": [
    "f2[2]"
   ]
  },
  {
   "cell_type": "code",
   "execution_count": 465,
   "id": "7701bdaa",
   "metadata": {},
   "outputs": [
    {
     "data": {
      "text/plain": [
       "[4633400.0, 240.0, 0.06]"
      ]
     },
     "execution_count": 465,
     "metadata": {},
     "output_type": "execute_result"
    }
   ],
   "source": [
    "parse_values(f2[2])"
   ]
  },
  {
   "cell_type": "code",
   "execution_count": 466,
   "id": "776a85b8",
   "metadata": {},
   "outputs": [
    {
     "data": {
      "text/plain": [
       "[828400.0, 120.0, 0.11, 100000.0]"
      ]
     },
     "execution_count": 466,
     "metadata": {},
     "output_type": "execute_result"
    }
   ],
   "source": [
    "parse_values(f2[1])"
   ]
  },
  {
   "cell_type": "markdown",
   "id": "95a1a2d2",
   "metadata": {},
   "source": [
    "# Analyzing tabular data using Pandas"
   ]
  },
  {
   "cell_type": "code",
   "execution_count": 473,
   "id": "484dd820",
   "metadata": {},
   "outputs": [],
   "source": [
    "from urllib.request import urlretrieve"
   ]
  },
  {
   "cell_type": "code",
   "execution_count": 474,
   "id": "f13a027f",
   "metadata": {},
   "outputs": [
    {
     "data": {
      "text/plain": [
       "('C:\\\\Users\\\\10693867\\\\AppData\\\\Local\\\\Temp\\\\tmpmyw25vca',\n",
       " <http.client.HTTPMessage at 0x1f664e9da10>)"
      ]
     },
     "execution_count": 474,
     "metadata": {},
     "output_type": "execute_result"
    }
   ],
   "source": [
    "urlretrieve('https://github.com/nlihin/data-analytics/blob/main/datasets/italy-covid-daywise.csv')\n",
    "#https://github.com/nlihin/data-analytics/blob/main/datasets/italy-covid-daywise.csv"
   ]
  },
  {
   "cell_type": "code",
   "execution_count": 475,
   "id": "9b436a4c",
   "metadata": {},
   "outputs": [
    {
     "data": {
      "text/plain": [
       "<function urllib.request.urlretrieve(url, filename=None, reporthook=None, data=None)>"
      ]
     },
     "execution_count": 475,
     "metadata": {},
     "output_type": "execute_result"
    }
   ],
   "source": [
    "urlretrieve"
   ]
  },
  {
   "cell_type": "code",
   "execution_count": 476,
   "id": "e2a46fcb",
   "metadata": {},
   "outputs": [],
   "source": [
    "import pandas as pd"
   ]
  },
  {
   "cell_type": "code",
   "execution_count": null,
   "id": "a525c76e",
   "metadata": {},
   "outputs": [],
   "source": [
    "covid_df"
   ]
  },
  {
   "cell_type": "code",
   "execution_count": null,
   "id": "87185fe4",
   "metadata": {},
   "outputs": [],
   "source": []
  }
 ],
 "metadata": {
  "kernelspec": {
   "display_name": "Python 3 (ipykernel)",
   "language": "python",
   "name": "python3"
  },
  "language_info": {
   "codemirror_mode": {
    "name": "ipython",
    "version": 3
   },
   "file_extension": ".py",
   "mimetype": "text/x-python",
   "name": "python",
   "nbconvert_exporter": "python",
   "pygments_lexer": "ipython3",
   "version": "3.11.4"
  }
 },
 "nbformat": 4,
 "nbformat_minor": 5
}
