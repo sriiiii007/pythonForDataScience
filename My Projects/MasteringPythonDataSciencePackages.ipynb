{
 "cells": [
  {
   "cell_type": "markdown",
   "id": "b143f5e8",
   "metadata": {},
   "source": [
    "# Numpy Library"
   ]
  },
  {
   "cell_type": "code",
   "execution_count": 1,
   "id": "d269cd02",
   "metadata": {},
   "outputs": [],
   "source": [
    "import numpy as np"
   ]
  },
  {
   "cell_type": "code",
   "execution_count": 3,
   "id": "43951a7d",
   "metadata": {},
   "outputs": [],
   "source": [
    "a = np.array([1,2,3,4,5])"
   ]
  },
  {
   "cell_type": "code",
   "execution_count": 10,
   "id": "6f6a88e0",
   "metadata": {},
   "outputs": [],
   "source": [
    "b = np.array((2,3,5),dtype = 'f')"
   ]
  },
  {
   "cell_type": "code",
   "execution_count": 5,
   "id": "bfe054c6",
   "metadata": {},
   "outputs": [
    {
     "name": "stdout",
     "output_type": "stream",
     "text": [
      "[1 2 3 4 5]\n"
     ]
    }
   ],
   "source": [
    "print(a)"
   ]
  },
  {
   "cell_type": "code",
   "execution_count": 6,
   "id": "6875c04b",
   "metadata": {},
   "outputs": [
    {
     "data": {
      "text/plain": [
       "numpy.ndarray"
      ]
     },
     "execution_count": 6,
     "metadata": {},
     "output_type": "execute_result"
    }
   ],
   "source": [
    "type(a)"
   ]
  },
  {
   "cell_type": "code",
   "execution_count": 8,
   "id": "345e62c0",
   "metadata": {},
   "outputs": [
    {
     "data": {
      "text/plain": [
       "dtype('int32')"
      ]
     },
     "execution_count": 8,
     "metadata": {},
     "output_type": "execute_result"
    }
   ],
   "source": [
    "a.dtype"
   ]
  },
  {
   "cell_type": "code",
   "execution_count": 11,
   "id": "a4602d9f",
   "metadata": {},
   "outputs": [
    {
     "data": {
      "text/plain": [
       "dtype('float32')"
      ]
     },
     "execution_count": 11,
     "metadata": {},
     "output_type": "execute_result"
    }
   ],
   "source": [
    "b.dtype"
   ]
  },
  {
   "cell_type": "code",
   "execution_count": 15,
   "id": "0739a64a",
   "metadata": {},
   "outputs": [
    {
     "name": "stdout",
     "output_type": "stream",
     "text": [
      "3\n"
     ]
    }
   ],
   "source": [
    "a = np.array([[1,2,3],[4,5,6]])\n",
    "print(a[0,2])"
   ]
  },
  {
   "cell_type": "code",
   "execution_count": 16,
   "id": "2ad01391",
   "metadata": {},
   "outputs": [],
   "source": [
    "a = np.array([8])"
   ]
  },
  {
   "cell_type": "code",
   "execution_count": 17,
   "id": "b56d0b0b",
   "metadata": {},
   "outputs": [
    {
     "data": {
      "text/plain": [
       "1"
      ]
     },
     "execution_count": 17,
     "metadata": {},
     "output_type": "execute_result"
    }
   ],
   "source": [
    "a.ndim"
   ]
  },
  {
   "cell_type": "code",
   "execution_count": 18,
   "id": "984a88cf",
   "metadata": {},
   "outputs": [],
   "source": [
    "b = np.array(9)"
   ]
  },
  {
   "cell_type": "code",
   "execution_count": 19,
   "id": "01f9edb2",
   "metadata": {},
   "outputs": [
    {
     "data": {
      "text/plain": [
       "0"
      ]
     },
     "execution_count": 19,
     "metadata": {},
     "output_type": "execute_result"
    }
   ],
   "source": [
    "b.ndim"
   ]
  },
  {
   "cell_type": "code",
   "execution_count": 20,
   "id": "517592f4",
   "metadata": {},
   "outputs": [
    {
     "data": {
      "text/plain": [
       "1"
      ]
     },
     "execution_count": 20,
     "metadata": {},
     "output_type": "execute_result"
    }
   ],
   "source": [
    "a.size"
   ]
  },
  {
   "cell_type": "code",
   "execution_count": 21,
   "id": "779eb91c",
   "metadata": {},
   "outputs": [
    {
     "data": {
      "text/plain": [
       "4"
      ]
     },
     "execution_count": 21,
     "metadata": {},
     "output_type": "execute_result"
    }
   ],
   "source": [
    "a.nbytes"
   ]
  },
  {
   "cell_type": "code",
   "execution_count": 22,
   "id": "2a6fb573",
   "metadata": {},
   "outputs": [],
   "source": [
    "A = np.arange(100)"
   ]
  },
  {
   "cell_type": "code",
   "execution_count": 23,
   "id": "cf7a9a16",
   "metadata": {},
   "outputs": [
    {
     "name": "stdout",
     "output_type": "stream",
     "text": [
      "[ 0  1  2  3  4  5  6  7  8  9 10 11 12 13 14 15 16 17 18 19 20 21 22 23\n",
      " 24 25 26 27 28 29 30 31 32 33 34 35 36 37 38 39 40 41 42 43 44 45 46 47\n",
      " 48 49 50 51 52 53 54 55 56 57 58 59 60 61 62 63 64 65 66 67 68 69 70 71\n",
      " 72 73 74 75 76 77 78 79 80 81 82 83 84 85 86 87 88 89 90 91 92 93 94 95\n",
      " 96 97 98 99]\n"
     ]
    }
   ],
   "source": [
    "print(A)"
   ]
  },
  {
   "cell_type": "code",
   "execution_count": 24,
   "id": "383bbcef",
   "metadata": {},
   "outputs": [],
   "source": [
    "A = np.arange(20,100,2)"
   ]
  },
  {
   "cell_type": "code",
   "execution_count": 25,
   "id": "653f4aec",
   "metadata": {},
   "outputs": [
    {
     "name": "stdout",
     "output_type": "stream",
     "text": [
      "[20 22 24 26 28 30 32 34 36 38 40 42 44 46 48 50 52 54 56 58 60 62 64 66\n",
      " 68 70 72 74 76 78 80 82 84 86 88 90 92 94 96 98]\n"
     ]
    }
   ],
   "source": [
    "print(A)"
   ]
  },
  {
   "cell_type": "code",
   "execution_count": 26,
   "id": "17b1897a",
   "metadata": {},
   "outputs": [],
   "source": [
    "A = np.random.permutation(np.arange(10))"
   ]
  },
  {
   "cell_type": "code",
   "execution_count": 29,
   "id": "bafde07d",
   "metadata": {},
   "outputs": [
    {
     "data": {
      "text/plain": [
       "array([4, 6, 8, 0, 7, 2, 1, 5, 3, 9])"
      ]
     },
     "execution_count": 29,
     "metadata": {},
     "output_type": "execute_result"
    }
   ],
   "source": [
    "A"
   ]
  },
  {
   "cell_type": "code",
   "execution_count": 33,
   "id": "caba37b7",
   "metadata": {},
   "outputs": [],
   "source": [
    "v = np.random.randint(20,30)"
   ]
  },
  {
   "cell_type": "code",
   "execution_count": 34,
   "id": "986fbbc3",
   "metadata": {},
   "outputs": [
    {
     "data": {
      "text/plain": [
       "int"
      ]
     },
     "execution_count": 34,
     "metadata": {},
     "output_type": "execute_result"
    }
   ],
   "source": [
    "type(v)"
   ]
  },
  {
   "cell_type": "code",
   "execution_count": 35,
   "id": "290b1f14",
   "metadata": {},
   "outputs": [],
   "source": [
    "A = np.random.rand(1000)"
   ]
  },
  {
   "cell_type": "code",
   "execution_count": 44,
   "id": "04bd2a53",
   "metadata": {},
   "outputs": [
    {
     "data": {
      "text/plain": [
       "(array([16.,  7.,  8., 10., 10.,  8., 12., 10., 12., 10., 14., 11., 10.,\n",
       "        14.,  9., 12.,  7., 14., 12., 10.,  9., 11.,  8., 10., 12.,  9.,\n",
       "        11.,  3., 15., 13., 11., 11., 11., 15.,  7.,  9.,  8., 12., 12.,\n",
       "        11.,  7.,  9.,  8.,  8., 14.,  8., 11.,  6., 13., 14.,  6.,  9.,\n",
       "         8., 10.,  8.,  9.,  9.,  9., 10., 10.,  9.,  9., 14., 12., 16.,\n",
       "         5., 12.,  7.,  8., 13.,  9., 18.,  7.,  8., 10., 11., 13.,  9.,\n",
       "         4.,  8.,  8.,  7., 10.,  7., 13.,  8.,  5., 13., 12., 16.,  9.,\n",
       "        14., 11., 10.,  3.,  8.,  9., 11.,  6.,  8.]),\n",
       " array([6.05696625e-05, 1.00479193e-02, 2.00352689e-02, 3.00226185e-02,\n",
       "        4.00099681e-02, 4.99973177e-02, 5.99846672e-02, 6.99720168e-02,\n",
       "        7.99593664e-02, 8.99467160e-02, 9.99340656e-02, 1.09921415e-01,\n",
       "        1.19908765e-01, 1.29896114e-01, 1.39883464e-01, 1.49870814e-01,\n",
       "        1.59858163e-01, 1.69845513e-01, 1.79832862e-01, 1.89820212e-01,\n",
       "        1.99807562e-01, 2.09794911e-01, 2.19782261e-01, 2.29769610e-01,\n",
       "        2.39756960e-01, 2.49744310e-01, 2.59731659e-01, 2.69719009e-01,\n",
       "        2.79706358e-01, 2.89693708e-01, 2.99681058e-01, 3.09668407e-01,\n",
       "        3.19655757e-01, 3.29643106e-01, 3.39630456e-01, 3.49617806e-01,\n",
       "        3.59605155e-01, 3.69592505e-01, 3.79579854e-01, 3.89567204e-01,\n",
       "        3.99554554e-01, 4.09541903e-01, 4.19529253e-01, 4.29516602e-01,\n",
       "        4.39503952e-01, 4.49491302e-01, 4.59478651e-01, 4.69466001e-01,\n",
       "        4.79453350e-01, 4.89440700e-01, 4.99428050e-01, 5.09415399e-01,\n",
       "        5.19402749e-01, 5.29390098e-01, 5.39377448e-01, 5.49364798e-01,\n",
       "        5.59352147e-01, 5.69339497e-01, 5.79326846e-01, 5.89314196e-01,\n",
       "        5.99301546e-01, 6.09288895e-01, 6.19276245e-01, 6.29263594e-01,\n",
       "        6.39250944e-01, 6.49238294e-01, 6.59225643e-01, 6.69212993e-01,\n",
       "        6.79200342e-01, 6.89187692e-01, 6.99175042e-01, 7.09162391e-01,\n",
       "        7.19149741e-01, 7.29137090e-01, 7.39124440e-01, 7.49111790e-01,\n",
       "        7.59099139e-01, 7.69086489e-01, 7.79073838e-01, 7.89061188e-01,\n",
       "        7.99048537e-01, 8.09035887e-01, 8.19023237e-01, 8.29010586e-01,\n",
       "        8.38997936e-01, 8.48985285e-01, 8.58972635e-01, 8.68959985e-01,\n",
       "        8.78947334e-01, 8.88934684e-01, 8.98922033e-01, 9.08909383e-01,\n",
       "        9.18896733e-01, 9.28884082e-01, 9.38871432e-01, 9.48858781e-01,\n",
       "        9.58846131e-01, 9.68833481e-01, 9.78820830e-01, 9.88808180e-01,\n",
       "        9.98795529e-01]),\n",
       " <BarContainer object of 100 artists>)"
      ]
     },
     "execution_count": 44,
     "metadata": {},
     "output_type": "execute_result"
    },
    {
     "data": {
      "image/png": "[encoded data removed]",
      "text/plain": [
       "<Figure size 640x480 with 1 Axes>"
      ]
     },
     "metadata": {},
     "output_type": "display_data"
    }
   ],
   "source": [
    "import matplotlib.pyplot as plt\n",
    "# plt.hist(A)\n",
    "plt.hist(A,bins= 100)"
   ]
  },
  {
   "cell_type": "code",
   "execution_count": 46,
   "id": "2226c5d6",
   "metadata": {},
   "outputs": [
    {
     "data": {
      "text/plain": [
       "(array([  1.,   0.,   0.,   0.,   0.,   0.,   0.,   0.,   0.,   0.,   1.,\n",
       "          1.,   1.,   1.,   0.,   0.,   0.,   0.,   0.,   0.,   0.,   2.,\n",
       "          1.,   1.,   3.,   2.,   2.,   1.,   2.,   4.,   4.,   2.,   5.,\n",
       "          8.,   3.,   4.,   5.,   5.,   5.,  12.,   6.,   7.,  11.,  10.,\n",
       "         13.,  21.,  18.,  16.,  17.,  17.,  19.,   9.,  23.,  33.,  18.,\n",
       "         29.,  34.,  18.,  38.,  40.,  38.,  41.,  42.,  43.,  40.,  42.,\n",
       "         50.,  66.,  53.,  53.,  60.,  61.,  62.,  60.,  74.,  70.,  70.,\n",
       "         82.,  87.,  82.,  90., 102.,  97., 102.,  91., 128., 103., 119.,\n",
       "         98., 124., 122., 123., 121., 119., 131., 140., 145., 138., 135.,\n",
       "        146., 141., 140., 149., 145., 149., 150., 133., 144., 129., 140.,\n",
       "        157., 143., 149., 133., 133., 163., 146., 143., 129., 126., 146.,\n",
       "        121., 132., 117., 113., 120., 116., 103., 102.,  93.,  90.,  93.,\n",
       "         91.,  84.,  88.,  81.,  85.,  77.,  75.,  89.,  69.,  67.,  56.,\n",
       "         66.,  67.,  58.,  40.,  49.,  33.,  49.,  36.,  33.,  37.,  28.,\n",
       "         35.,  19.,  27.,  27.,  17.,  33.,  16.,  27.,  18.,  21.,  14.,\n",
       "         18.,  12.,  12.,  12.,  17.,  10.,   9.,   7.,   9.,   2.,   7.,\n",
       "          6.,   8.,   9.,   8.,   4.,   3.,   4.,   0.,   1.,   4.,   1.,\n",
       "          2.,   3.,   1.,   0.,   1.,   0.,   0.,   1.,   2.,   2.,   0.,\n",
       "          0.,   2.]),\n",
       " array([-3.86206693, -3.82582609, -3.78958525, -3.75334441, -3.71710357,\n",
       "        -3.68086273, -3.64462189, -3.60838105, -3.57214021, -3.53589936,\n",
       "        -3.49965852, -3.46341768, -3.42717684, -3.390936  , -3.35469516,\n",
       "        -3.31845432, -3.28221348, -3.24597264, -3.2097318 , -3.17349096,\n",
       "        -3.13725012, -3.10100928, -3.06476844, -3.0285276 , -2.99228676,\n",
       "        -2.95604592, -2.91980508, -2.88356423, -2.84732339, -2.81108255,\n",
       "        -2.77484171, -2.73860087, -2.70236003, -2.66611919, -2.62987835,\n",
       "        -2.59363751, -2.55739667, -2.52115583, -2.48491499, -2.44867415,\n",
       "        -2.41243331, -2.37619247, -2.33995163, -2.30371079, -2.26746994,\n",
       "        -2.2312291 , -2.19498826, -2.15874742, -2.12250658, -2.08626574,\n",
       "        -2.0500249 , -2.01378406, -1.97754322, -1.94130238, -1.90506154,\n",
       "        -1.8688207 , -1.83257986, -1.79633902, -1.76009818, -1.72385734,\n",
       "        -1.6876165 , -1.65137566, -1.61513481, -1.57889397, -1.54265313,\n",
       "        -1.50641229, -1.47017145, -1.43393061, -1.39768977, -1.36144893,\n",
       "        -1.32520809, -1.28896725, -1.25272641, -1.21648557, -1.18024473,\n",
       "        -1.14400389, -1.10776305, -1.07152221, -1.03528137, -0.99904053,\n",
       "        -0.96279968, -0.92655884, -0.890318  , -0.85407716, -0.81783632,\n",
       "        -0.78159548, -0.74535464, -0.7091138 , -0.67287296, -0.63663212,\n",
       "        -0.60039128, -0.56415044, -0.5279096 , -0.49166876, -0.45542792,\n",
       "        -0.41918708, -0.38294624, -0.34670539, -0.31046455, -0.27422371,\n",
       "        -0.23798287, -0.20174203, -0.16550119, -0.12926035, -0.09301951,\n",
       "        -0.05677867, -0.02053783,  0.01570301,  0.05194385,  0.08818469,\n",
       "         0.12442553,  0.16066637,  0.19690721,  0.23314805,  0.26938889,\n",
       "         0.30562974,  0.34187058,  0.37811142,  0.41435226,  0.4505931 ,\n",
       "         0.48683394,  0.52307478,  0.55931562,  0.59555646,  0.6317973 ,\n",
       "         0.66803814,  0.70427898,  0.74051982,  0.77676066,  0.8130015 ,\n",
       "         0.84924234,  0.88548318,  0.92172402,  0.95796487,  0.99420571,\n",
       "         1.03044655,  1.06668739,  1.10292823,  1.13916907,  1.17540991,\n",
       "         1.21165075,  1.24789159,  1.28413243,  1.32037327,  1.35661411,\n",
       "         1.39285495,  1.42909579,  1.46533663,  1.50157747,  1.53781831,\n",
       "         1.57405915,  1.6103    ,  1.64654084,  1.68278168,  1.71902252,\n",
       "         1.75526336,  1.7915042 ,  1.82774504,  1.86398588,  1.90022672,\n",
       "         1.93646756,  1.9727084 ,  2.00894924,  2.04519008,  2.08143092,\n",
       "         2.11767176,  2.1539126 ,  2.19015344,  2.22639429,  2.26263513,\n",
       "         2.29887597,  2.33511681,  2.37135765,  2.40759849,  2.44383933,\n",
       "         2.48008017,  2.51632101,  2.55256185,  2.58880269,  2.62504353,\n",
       "         2.66128437,  2.69752521,  2.73376605,  2.77000689,  2.80624773,\n",
       "         2.84248857,  2.87872942,  2.91497026,  2.9512111 ,  2.98745194,\n",
       "         3.02369278,  3.05993362,  3.09617446,  3.1324153 ,  3.16865614,\n",
       "         3.20489698,  3.24113782,  3.27737866,  3.3136195 ,  3.34986034,\n",
       "         3.38610118]),\n",
       " <BarContainer object of 200 artists>)"
      ]
     },
     "execution_count": 46,
     "metadata": {},
     "output_type": "execute_result"
    },
    {
     "data": {
      "image/png": "[encoded data removed]",
      "text/plain": [
       "<Figure size 640x480 with 1 Axes>"
      ]
     },
     "metadata": {},
     "output_type": "display_data"
    }
   ],
   "source": [
    "B = np.random.randn(10000)\n",
    "plt.hist(B,bins=200)"
   ]
  },
  {
   "cell_type": "code",
   "execution_count": 47,
   "id": "431f9408",
   "metadata": {},
   "outputs": [
    {
     "data": {
      "text/plain": [
       "array([[[[0.39108789, 0.48203427],\n",
       "         [0.61195226, 0.43781705],\n",
       "         [0.28581257, 0.07131351],\n",
       "         [0.5698553 , 0.68812926]],\n",
       "\n",
       "        [[0.38142941, 0.77651487],\n",
       "         [0.03163377, 0.16068514],\n",
       "         [0.16856189, 0.98898497],\n",
       "         [0.70170291, 0.76557299]],\n",
       "\n",
       "        [[0.78587725, 0.51339989],\n",
       "         [0.49692823, 0.56880376],\n",
       "         [0.15108997, 0.66784094],\n",
       "         [0.06461458, 0.00287969]]],\n",
       "\n",
       "\n",
       "       [[[0.01102896, 0.01205793],\n",
       "         [0.90509232, 0.62216155],\n",
       "         [0.00679649, 0.71175985],\n",
       "         [0.7640578 , 0.11240105]],\n",
       "\n",
       "        [[0.07878518, 0.70923968],\n",
       "         [0.24678892, 0.80082421],\n",
       "         [0.4908062 , 0.79158457],\n",
       "         [0.89865293, 0.42903156]],\n",
       "\n",
       "        [[0.25706041, 0.43689508],\n",
       "         [0.96708575, 0.48003662],\n",
       "         [0.08589836, 0.93772613],\n",
       "         [0.22829326, 0.67680857]]]])"
      ]
     },
     "execution_count": 47,
     "metadata": {},
     "output_type": "execute_result"
    }
   ],
   "source": [
    "c = np.random.rand(2,3,4,2)\n",
    "c"
   ]
  },
  {
   "cell_type": "code",
   "execution_count": 52,
   "id": "691a6379",
   "metadata": {},
   "outputs": [
    {
     "data": {
      "text/plain": [
       "<function numpy.zeros>"
      ]
     },
     "execution_count": 52,
     "metadata": {},
     "output_type": "execute_result"
    }
   ],
   "source": [
    "a = np.zeros\n",
    "a"
   ]
  },
  {
   "cell_type": "code",
   "execution_count": 58,
   "id": "5fe91d9b",
   "metadata": {},
   "outputs": [
    {
     "name": "stdout",
     "output_type": "stream",
     "text": [
      "[   80    81    82    83    84    85    86    87    88    89    90    91\n",
      "    92    93    94 -1200    96    97    98    99]\n",
      "[    0     1     2     3     4     5     6     7     8     9    10    11\n",
      "    12    13    14    15    16    17    18    19    20    21    22    23\n",
      "    24    25    26    27    28    29    30    31    32    33    34    35\n",
      "    36    37    38    39    40    41    42    43    44    45    46    47\n",
      "    48    49    50    51    52    53    54    55    56    57    58    59\n",
      "    60    61    62    63    64    65    66    67    68    69    70    71\n",
      "    72    73    74    75    76    77    78    79    80    81    82    83\n",
      "    84    85    86    87    88    89    90    91    92    93    94 -1200\n",
      "    96    97    98    99]\n"
     ]
    }
   ],
   "source": [
    "A = np.arange(100)\n",
    "b = A[80:100]\n",
    "b[15] = -1200\n",
    "print(b)\n",
    "print(A)"
   ]
  },
  {
   "cell_type": "code",
   "execution_count": 59,
   "id": "44cb6aeb",
   "metadata": {},
   "outputs": [
    {
     "data": {
      "text/plain": [
       "array([    0,     5,    10,    15,    20,    25,    30,    35,    40,\n",
       "          45,    50,    55,    60,    65,    70,    75,    80,    85,\n",
       "          90, -1200])"
      ]
     },
     "execution_count": 59,
     "metadata": {},
     "output_type": "execute_result"
    }
   ],
   "source": [
    "A[::5]"
   ]
  },
  {
   "cell_type": "code",
   "execution_count": 60,
   "id": "9f1d819b",
   "metadata": {},
   "outputs": [
    {
     "data": {
      "text/plain": [
       "array([   99,    98,    97,    96, -1200,    94,    93,    92,    91,\n",
       "          90,    89,    88,    87,    86,    85,    84,    83,    82,\n",
       "          81,    80,    79,    78,    77,    76,    75,    74,    73,\n",
       "          72,    71,    70,    69,    68,    67,    66,    65,    64,\n",
       "          63,    62,    61,    60,    59,    58,    57,    56,    55,\n",
       "          54,    53,    52,    51,    50,    49,    48,    47,    46,\n",
       "          45,    44,    43,    42,    41,    40,    39,    38,    37,\n",
       "          36,    35,    34,    33,    32,    31,    30,    29,    28,\n",
       "          27,    26,    25,    24,    23,    22,    21,    20,    19,\n",
       "          18,    17,    16,    15,    14,    13,    12,    11,    10,\n",
       "           9,     8,     7,     6,     5,     4,     3,     2,     1,\n",
       "           0])"
      ]
     },
     "execution_count": 60,
     "metadata": {},
     "output_type": "execute_result"
    }
   ],
   "source": [
    "A[::-1]"
   ]
  },
  {
   "cell_type": "code",
   "execution_count": 66,
   "id": "1e5073d2",
   "metadata": {},
   "outputs": [],
   "source": [
    "idx = np.argwhere(A == -1200)[0][0]"
   ]
  },
  {
   "cell_type": "code",
   "execution_count": 67,
   "id": "9ff6605f",
   "metadata": {},
   "outputs": [
    {
     "data": {
      "text/plain": [
       "95"
      ]
     },
     "execution_count": 67,
     "metadata": {},
     "output_type": "execute_result"
    }
   ],
   "source": [
    "idx"
   ]
  },
  {
   "cell_type": "code",
   "execution_count": 68,
   "id": "76294a26",
   "metadata": {},
   "outputs": [],
   "source": [
    "A[idx] = 95"
   ]
  },
  {
   "cell_type": "code",
   "execution_count": 69,
   "id": "a853a146",
   "metadata": {},
   "outputs": [
    {
     "data": {
      "text/plain": [
       "array([ 0,  1,  2,  3,  4,  5,  6,  7,  8,  9, 10, 11, 12, 13, 14, 15, 16,\n",
       "       17, 18, 19, 20, 21, 22, 23, 24, 25, 26, 27, 28, 29, 30, 31, 32, 33,\n",
       "       34, 35, 36, 37, 38, 39, 40, 41, 42, 43, 44, 45, 46, 47, 48, 49, 50,\n",
       "       51, 52, 53, 54, 55, 56, 57, 58, 59, 60, 61, 62, 63, 64, 65, 66, 67,\n",
       "       68, 69, 70, 71, 72, 73, 74, 75, 76, 77, 78, 79, 80, 81, 82, 83, 84,\n",
       "       85, 86, 87, 88, 89, 90, 91, 92, 93, 94, 95, 96, 97, 98, 99])"
      ]
     },
     "execution_count": 69,
     "metadata": {},
     "output_type": "execute_result"
    }
   ],
   "source": [
    "A"
   ]
  },
  {
   "cell_type": "code",
   "execution_count": 70,
   "id": "60a24e7d",
   "metadata": {},
   "outputs": [
    {
     "data": {
      "text/plain": [
       "array([[6., 9., 3., 2.],\n",
       "       [6., 9., 3., 6.],\n",
       "       [6., 4., 4., 4.],\n",
       "       [8., 8., 0., 5.],\n",
       "       [3., 8., 0., 7.]])"
      ]
     },
     "execution_count": 70,
     "metadata": {},
     "output_type": "execute_result"
    }
   ],
   "source": [
    "A = np.round(10*np.random.rand(5,4))\n",
    "A"
   ]
  },
  {
   "cell_type": "code",
   "execution_count": 71,
   "id": "8f30adfd",
   "metadata": {},
   "outputs": [
    {
     "data": {
      "text/plain": [
       "3.0"
      ]
     },
     "execution_count": 71,
     "metadata": {},
     "output_type": "execute_result"
    }
   ],
   "source": [
    "A[1,2]"
   ]
  },
  {
   "cell_type": "code",
   "execution_count": 73,
   "id": "d36cf352",
   "metadata": {},
   "outputs": [
    {
     "data": {
      "text/plain": [
       "array([6., 9., 3., 6.])"
      ]
     },
     "execution_count": 73,
     "metadata": {},
     "output_type": "execute_result"
    }
   ],
   "source": [
    "A[1,:]"
   ]
  },
  {
   "cell_type": "code",
   "execution_count": 74,
   "id": "3112b324",
   "metadata": {},
   "outputs": [
    {
     "data": {
      "text/plain": [
       "array([3., 3., 4., 0., 0.])"
      ]
     },
     "execution_count": 74,
     "metadata": {},
     "output_type": "execute_result"
    }
   ],
   "source": [
    "A[:,2]"
   ]
  },
  {
   "cell_type": "code",
   "execution_count": 75,
   "id": "b2aa5b5f",
   "metadata": {},
   "outputs": [
    {
     "data": {
      "text/plain": [
       "array([[6., 6., 6., 8., 3.],\n",
       "       [9., 9., 4., 8., 8.],\n",
       "       [3., 3., 4., 0., 0.],\n",
       "       [2., 6., 4., 5., 7.]])"
      ]
     },
     "execution_count": 75,
     "metadata": {},
     "output_type": "execute_result"
    }
   ],
   "source": [
    "A.T"
   ]
  },
  {
   "cell_type": "code",
   "execution_count": 76,
   "id": "d3f97ff1",
   "metadata": {},
   "outputs": [
    {
     "data": {
      "text/plain": [
       "array([[ 2.36009966,  4.74583571, -9.73054068,  4.32107498],\n",
       "       [-1.05117014, -2.04751356,  2.50566787,  0.15910141],\n",
       "       [ 0.27688505,  2.42373495, -0.70332422, -0.2346863 ],\n",
       "       [-0.04273565, -2.46041086,  4.35833504, -1.87404222]])"
      ]
     },
     "execution_count": 76,
     "metadata": {},
     "output_type": "execute_result"
    }
   ],
   "source": [
    "import numpy.linalg as la\n",
    "la.inv(np.random.rand(4,4))"
   ]
  },
  {
   "cell_type": "code",
   "execution_count": 77,
   "id": "6af65b1f",
   "metadata": {},
   "outputs": [],
   "source": [
    "A.sort(axis = 0)"
   ]
  },
  {
   "cell_type": "code",
   "execution_count": 78,
   "id": "f5149afb",
   "metadata": {},
   "outputs": [
    {
     "data": {
      "text/plain": [
       "array([[3., 4., 0., 2.],\n",
       "       [6., 8., 0., 4.],\n",
       "       [6., 8., 3., 5.],\n",
       "       [6., 9., 3., 6.],\n",
       "       [8., 9., 4., 7.]])"
      ]
     },
     "execution_count": 78,
     "metadata": {},
     "output_type": "execute_result"
    }
   ],
   "source": [
    "A"
   ]
  },
  {
   "cell_type": "code",
   "execution_count": 80,
   "id": "a71be793",
   "metadata": {},
   "outputs": [
    {
     "data": {
      "text/plain": [
       "array([3., 4., 0., 2., 6., 0., 4., 6., 3., 5., 6., 3., 6., 4., 7.])"
      ]
     },
     "execution_count": 80,
     "metadata": {},
     "output_type": "execute_result"
    }
   ],
   "source": [
    "A[A<8]"
   ]
  },
  {
   "cell_type": "code",
   "execution_count": 84,
   "id": "eecec3ee",
   "metadata": {},
   "outputs": [
    {
     "data": {
      "text/plain": [
       "array([[6., 9., 3., 6.],\n",
       "       [8., 9., 4., 7.],\n",
       "       [6., 8., 0., 4.]])"
      ]
     },
     "execution_count": 84,
     "metadata": {},
     "output_type": "execute_result"
    }
   ],
   "source": [
    "A[[3,4,1]]"
   ]
  },
  {
   "cell_type": "code",
   "execution_count": 85,
   "id": "79a8ab0a",
   "metadata": {},
   "outputs": [],
   "source": [
    "A = np.round(10*np.random.rand(2,3))"
   ]
  },
  {
   "cell_type": "code",
   "execution_count": 86,
   "id": "0c5056b5",
   "metadata": {},
   "outputs": [
    {
     "data": {
      "text/plain": [
       "array([[ 3.,  6., 10.],\n",
       "       [ 5.,  9., 10.]])"
      ]
     },
     "execution_count": 86,
     "metadata": {},
     "output_type": "execute_result"
    }
   ],
   "source": [
    "A+3"
   ]
  },
  {
   "cell_type": "code",
   "execution_count": 87,
   "id": "4a699d06",
   "metadata": {},
   "outputs": [
    {
     "data": {
      "text/plain": [
       "array([[0., 3., 7.],\n",
       "       [3., 7., 8.]])"
      ]
     },
     "execution_count": 87,
     "metadata": {},
     "output_type": "execute_result"
    }
   ],
   "source": [
    "A+np.arange(2).reshape(2,1)"
   ]
  },
  {
   "cell_type": "code",
   "execution_count": 91,
   "id": "a3ffc0de",
   "metadata": {},
   "outputs": [],
   "source": [
    "B =np.round(10*np.random.rand(2,3))"
   ]
  },
  {
   "cell_type": "code",
   "execution_count": 92,
   "id": "b65fc2b2",
   "metadata": {},
   "outputs": [
    {
     "data": {
      "text/plain": [
       "array([[ 9.,  9.,  8.],\n",
       "       [10.,  1.,  7.]])"
      ]
     },
     "execution_count": 92,
     "metadata": {},
     "output_type": "execute_result"
    }
   ],
   "source": [
    "B"
   ]
  },
  {
   "cell_type": "code",
   "execution_count": 93,
   "id": "8ccf17cd",
   "metadata": {},
   "outputs": [
    {
     "data": {
      "text/plain": [
       "array([[0., 3., 7.],\n",
       "       [2., 6., 7.]])"
      ]
     },
     "execution_count": 93,
     "metadata": {},
     "output_type": "execute_result"
    }
   ],
   "source": [
    "A"
   ]
  },
  {
   "cell_type": "code",
   "execution_count": 94,
   "id": "0bfde1c9",
   "metadata": {},
   "outputs": [],
   "source": [
    "C = np.hstack((A,B))"
   ]
  },
  {
   "cell_type": "code",
   "execution_count": 95,
   "id": "da4a605a",
   "metadata": {},
   "outputs": [
    {
     "data": {
      "text/plain": [
       "array([[ 0.,  3.,  7.,  9.,  9.,  8.],\n",
       "       [ 2.,  6.,  7., 10.,  1.,  7.]])"
      ]
     },
     "execution_count": 95,
     "metadata": {},
     "output_type": "execute_result"
    }
   ],
   "source": [
    "C"
   ]
  },
  {
   "cell_type": "code",
   "execution_count": 96,
   "id": "6432d2fe",
   "metadata": {},
   "outputs": [],
   "source": [
    "A = np.random.permutation(np.arange(10))"
   ]
  },
  {
   "cell_type": "code",
   "execution_count": 97,
   "id": "a20d6439",
   "metadata": {},
   "outputs": [
    {
     "data": {
      "text/plain": [
       "array([5, 3, 4, 6, 1, 8, 9, 0, 7, 2])"
      ]
     },
     "execution_count": 97,
     "metadata": {},
     "output_type": "execute_result"
    }
   ],
   "source": [
    "A"
   ]
  },
  {
   "cell_type": "code",
   "execution_count": 99,
   "id": "4df7dac9",
   "metadata": {},
   "outputs": [],
   "source": [
    "A.sort()"
   ]
  },
  {
   "cell_type": "code",
   "execution_count": 100,
   "id": "9326b224",
   "metadata": {},
   "outputs": [
    {
     "data": {
      "text/plain": [
       "array([0, 1, 2, 3, 4, 5, 6, 7, 8, 9])"
      ]
     },
     "execution_count": 100,
     "metadata": {},
     "output_type": "execute_result"
    }
   ],
   "source": [
    "A"
   ]
  },
  {
   "cell_type": "code",
   "execution_count": 101,
   "id": "1b66314e",
   "metadata": {},
   "outputs": [
    {
     "data": {
      "text/plain": [
       "array([9, 8, 7, 6, 5, 4, 3, 2, 1, 0])"
      ]
     },
     "execution_count": 101,
     "metadata": {},
     "output_type": "execute_result"
    }
   ],
   "source": [
    "A[::-1]"
   ]
  },
  {
   "cell_type": "markdown",
   "id": "10c17ae0",
   "metadata": {},
   "source": [
    "# Numpy Universal Functions"
   ]
  },
  {
   "cell_type": "code",
   "execution_count": 2,
   "id": "99e771de",
   "metadata": {},
   "outputs": [
    {
     "name": "stdout",
     "output_type": "stream",
     "text": [
      "89.8 ms ± 2.65 ms per loop (mean ± std. dev. of 7 runs, 10 loops each)\n",
      "1.38 ms ± 33.2 µs per loop (mean ± std. dev. of 7 runs, 1,000 loops each)\n"
     ]
    }
   ],
   "source": [
    "B = np.random.rand(1000000)\n",
    "%timeit sum(B)\n",
    "%timeit np.sum(B) #B.sum()"
   ]
  },
  {
   "cell_type": "code",
   "execution_count": 3,
   "id": "b5722d8a",
   "metadata": {},
   "outputs": [
    {
     "data": {
      "text/plain": [
       "'1.24.3'"
      ]
     },
     "execution_count": 3,
     "metadata": {},
     "output_type": "execute_result"
    }
   ],
   "source": [
    "np.__version__"
   ]
  },
  {
   "cell_type": "markdown",
   "id": "4f201ac4",
   "metadata": {},
   "source": [
    "# Pandas Library in Python"
   ]
  },
  {
   "cell_type": "code",
   "execution_count": 4,
   "id": "c268e750",
   "metadata": {},
   "outputs": [],
   "source": [
    "import pandas as pd\n",
    "A = pd.Series([2,3,4,5],index=['a','b','c','d'])"
   ]
  },
  {
   "cell_type": "code",
   "execution_count": 7,
   "id": "6932e420",
   "metadata": {},
   "outputs": [
    {
     "data": {
      "text/plain": [
       "array([2, 3, 4, 5], dtype=int64)"
      ]
     },
     "execution_count": 7,
     "metadata": {},
     "output_type": "execute_result"
    }
   ],
   "source": [
    "A.values"
   ]
  },
  {
   "cell_type": "code",
   "execution_count": 8,
   "id": "4ee89996",
   "metadata": {},
   "outputs": [
    {
     "data": {
      "text/plain": [
       "numpy.ndarray"
      ]
     },
     "execution_count": 8,
     "metadata": {},
     "output_type": "execute_result"
    }
   ],
   "source": [
    "type(A.values)"
   ]
  },
  {
   "cell_type": "code",
   "execution_count": 9,
   "id": "04028166",
   "metadata": {},
   "outputs": [
    {
     "data": {
      "text/plain": [
       "pandas.core.series.Series"
      ]
     },
     "execution_count": 9,
     "metadata": {},
     "output_type": "execute_result"
    }
   ],
   "source": [
    "type(A)"
   ]
  },
  {
   "cell_type": "code",
   "execution_count": 10,
   "id": "11a291af",
   "metadata": {},
   "outputs": [
    {
     "data": {
      "text/plain": [
       "Index(['a', 'b', 'c', 'd'], dtype='object')"
      ]
     },
     "execution_count": 10,
     "metadata": {},
     "output_type": "execute_result"
    }
   ],
   "source": [
    "A.index"
   ]
  },
  {
   "cell_type": "code",
   "execution_count": 11,
   "id": "c0d0890f",
   "metadata": {},
   "outputs": [
    {
     "data": {
      "text/plain": [
       "pandas.core.indexes.base.Index"
      ]
     },
     "execution_count": 11,
     "metadata": {},
     "output_type": "execute_result"
    }
   ],
   "source": [
    "type(A.index)"
   ]
  },
  {
   "cell_type": "code",
   "execution_count": 12,
   "id": "8cc577d7",
   "metadata": {},
   "outputs": [
    {
     "data": {
      "text/plain": [
       "2"
      ]
     },
     "execution_count": 12,
     "metadata": {},
     "output_type": "execute_result"
    }
   ],
   "source": [
    "A['a']"
   ]
  },
  {
   "cell_type": "code",
   "execution_count": 13,
   "id": "72d18bc7",
   "metadata": {},
   "outputs": [
    {
     "data": {
      "text/plain": [
       "a    2\n",
       "b    3\n",
       "dtype: int64"
      ]
     },
     "execution_count": 13,
     "metadata": {},
     "output_type": "execute_result"
    }
   ],
   "source": [
    "A['a':'b']"
   ]
  },
  {
   "cell_type": "code",
   "execution_count": 14,
   "id": "94c799b8",
   "metadata": {},
   "outputs": [],
   "source": [
    "studentsName = {'A':\"Srinidhi\",'B':\"Sannidhi\",3:'Manjula'}\n",
    "newStudent = pd.Series(studentsName)"
   ]
  },
  {
   "cell_type": "code",
   "execution_count": 15,
   "id": "5fee723d",
   "metadata": {},
   "outputs": [
    {
     "data": {
      "text/plain": [
       "A    Srinidhi\n",
       "B    Sannidhi\n",
       "3     Manjula\n",
       "dtype: object"
      ]
     },
     "execution_count": 15,
     "metadata": {},
     "output_type": "execute_result"
    }
   ],
   "source": [
    "newStudent"
   ]
  },
  {
   "cell_type": "code",
   "execution_count": 16,
   "id": "046b07e2",
   "metadata": {},
   "outputs": [],
   "source": [
    "gradesdict = {'A':4,'B':3.5,'C':3,'D':2.5}\n",
    "grads = pd.Series(gradesdict)"
   ]
  },
  {
   "cell_type": "code",
   "execution_count": 17,
   "id": "f3ca1d1d",
   "metadata": {},
   "outputs": [
    {
     "data": {
      "text/plain": [
       "array([4. , 3.5, 3. , 2.5])"
      ]
     },
     "execution_count": 17,
     "metadata": {},
     "output_type": "execute_result"
    }
   ],
   "source": [
    "grads.values"
   ]
  },
  {
   "cell_type": "code",
   "execution_count": 18,
   "id": "042aa560",
   "metadata": {},
   "outputs": [
    {
     "data": {
      "text/plain": [
       "A    4.0\n",
       "B    3.5\n",
       "C    3.0\n",
       "D    2.5\n",
       "dtype: float64"
      ]
     },
     "execution_count": 18,
     "metadata": {},
     "output_type": "execute_result"
    }
   ],
   "source": [
    "grads"
   ]
  },
  {
   "cell_type": "code",
   "execution_count": 19,
   "id": "0a50b5b8",
   "metadata": {},
   "outputs": [
    {
     "data": {
      "text/plain": [
       "A    4.0\n",
       "B    3.5\n",
       "dtype: float64"
      ]
     },
     "execution_count": 19,
     "metadata": {},
     "output_type": "execute_result"
    }
   ],
   "source": [
    "grads[0:2]"
   ]
  },
  {
   "cell_type": "code",
   "execution_count": 22,
   "id": "6205d343",
   "metadata": {},
   "outputs": [],
   "source": [
    "D = pd.DataFrame({'Grades':grads,'Sudents Info':newStudent})"
   ]
  },
  {
   "cell_type": "code",
   "execution_count": 23,
   "id": "59fb49ff",
   "metadata": {},
   "outputs": [
    {
     "data": {
      "text/html": [
       "<div>\n",
       "<style scoped>\n",
       "    .dataframe tbody tr th:only-of-type {\n",
       "        vertical-align: middle;\n",
       "    }\n",
       "\n",
       "    .dataframe tbody tr th {\n",
       "        vertical-align: top;\n",
       "    }\n",
       "\n",
       "    .dataframe thead th {\n",
       "        text-align: right;\n",
       "    }\n",
       "</style>\n",
       "<table border=\"1\" class=\"dataframe\">\n",
       "  <thead>\n",
       "    <tr style=\"text-align: right;\">\n",
       "      <th></th>\n",
       "      <th>Grades</th>\n",
       "      <th>Sudents Info</th>\n",
       "    </tr>\n",
       "  </thead>\n",
       "  <tbody>\n",
       "    <tr>\n",
       "      <th>A</th>\n",
       "      <td>4.0</td>\n",
       "      <td>Srinidhi</td>\n",
       "    </tr>\n",
       "    <tr>\n",
       "      <th>B</th>\n",
       "      <td>3.5</td>\n",
       "      <td>Sannidhi</td>\n",
       "    </tr>\n",
       "    <tr>\n",
       "      <th>C</th>\n",
       "      <td>3.0</td>\n",
       "      <td>NaN</td>\n",
       "    </tr>\n",
       "    <tr>\n",
       "      <th>D</th>\n",
       "      <td>2.5</td>\n",
       "      <td>NaN</td>\n",
       "    </tr>\n",
       "    <tr>\n",
       "      <th>3</th>\n",
       "      <td>NaN</td>\n",
       "      <td>Manjula</td>\n",
       "    </tr>\n",
       "  </tbody>\n",
       "</table>\n",
       "</div>"
      ],
      "text/plain": [
       "   Grades Sudents Info\n",
       "A     4.0     Srinidhi\n",
       "B     3.5     Sannidhi\n",
       "C     3.0          NaN\n",
       "D     2.5          NaN\n",
       "3     NaN      Manjula"
      ]
     },
     "execution_count": 23,
     "metadata": {},
     "output_type": "execute_result"
    }
   ],
   "source": [
    "D"
   ]
  },
  {
   "cell_type": "code",
   "execution_count": 24,
   "id": "6aa7c756",
   "metadata": {},
   "outputs": [
    {
     "data": {
      "text/html": [
       "<div>\n",
       "<style scoped>\n",
       "    .dataframe tbody tr th:only-of-type {\n",
       "        vertical-align: middle;\n",
       "    }\n",
       "\n",
       "    .dataframe tbody tr th {\n",
       "        vertical-align: top;\n",
       "    }\n",
       "\n",
       "    .dataframe thead th {\n",
       "        text-align: right;\n",
       "    }\n",
       "</style>\n",
       "<table border=\"1\" class=\"dataframe\">\n",
       "  <thead>\n",
       "    <tr style=\"text-align: right;\">\n",
       "      <th></th>\n",
       "      <th>A</th>\n",
       "      <th>B</th>\n",
       "      <th>C</th>\n",
       "      <th>D</th>\n",
       "      <th>3</th>\n",
       "    </tr>\n",
       "  </thead>\n",
       "  <tbody>\n",
       "    <tr>\n",
       "      <th>Grades</th>\n",
       "      <td>4.0</td>\n",
       "      <td>3.5</td>\n",
       "      <td>3.0</td>\n",
       "      <td>2.5</td>\n",
       "      <td>NaN</td>\n",
       "    </tr>\n",
       "    <tr>\n",
       "      <th>Sudents Info</th>\n",
       "      <td>Srinidhi</td>\n",
       "      <td>Sannidhi</td>\n",
       "      <td>NaN</td>\n",
       "      <td>NaN</td>\n",
       "      <td>Manjula</td>\n",
       "    </tr>\n",
       "  </tbody>\n",
       "</table>\n",
       "</div>"
      ],
      "text/plain": [
       "                     A         B    C    D        3\n",
       "Grades             4.0       3.5  3.0  2.5      NaN\n",
       "Sudents Info  Srinidhi  Sannidhi  NaN  NaN  Manjula"
      ]
     },
     "execution_count": 24,
     "metadata": {},
     "output_type": "execute_result"
    }
   ],
   "source": [
    "D.T"
   ]
  },
  {
   "cell_type": "code",
   "execution_count": null,
   "id": "0a4c05cb",
   "metadata": {},
   "outputs": [],
   "source": []
  }
 ],
 "metadata": {
  "kernelspec": {
   "display_name": "Python 3 (ipykernel)",
   "language": "python",
   "name": "python3"
  },
  "language_info": {
   "codemirror_mode": {
    "name": "ipython",
    "version": 3
   },
   "file_extension": ".py",
   "mimetype": "text/x-python",
   "name": "python",
   "nbconvert_exporter": "python",
   "pygments_lexer": "ipython3",
   "version": "3.11.4"
  }
 },
 "nbformat": 4,
 "nbformat_minor": 5
}
