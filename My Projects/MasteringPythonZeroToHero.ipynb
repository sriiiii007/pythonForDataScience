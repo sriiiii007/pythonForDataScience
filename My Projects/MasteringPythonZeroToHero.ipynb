{
 "cells": [
  {
   "cell_type": "markdown",
   "id": "06d5db4d",
   "metadata": {},
   "source": [
    "# This is Python Tutorial"
   ]
  },
  {
   "cell_type": "markdown",
   "id": "3d49dbf2",
   "metadata": {},
   "source": [
    "This is our first program in Python, it just started here !!"
   ]
  },
  {
   "cell_type": "code",
   "execution_count": null,
   "id": "d71ac19e",
   "metadata": {},
   "outputs": [],
   "source": [
    "print(\"Hello World !!\")"
   ]
  },
  {
   "cell_type": "markdown",
   "id": "c5904854",
   "metadata": {},
   "source": [
    "$a=b+c$"
   ]
  },
  {
   "cell_type": "markdown",
   "id": "14aed6ed",
   "metadata": {},
   "source": [
    "# Variable"
   ]
  },
  {
   "cell_type": "code",
   "execution_count": null,
   "id": "65e8f5e2",
   "metadata": {},
   "outputs": [],
   "source": [
    "x = 3"
   ]
  },
  {
   "cell_type": "code",
   "execution_count": null,
   "id": "811d0e35",
   "metadata": {},
   "outputs": [],
   "source": [
    "%whos"
   ]
  },
  {
   "cell_type": "code",
   "execution_count": null,
   "id": "a77e8bff",
   "metadata": {},
   "outputs": [],
   "source": [
    "print(type(x))"
   ]
  },
  {
   "cell_type": "code",
   "execution_count": null,
   "id": "48fb4e52",
   "metadata": {},
   "outputs": [],
   "source": [
    "x = 5.7"
   ]
  },
  {
   "cell_type": "code",
   "execution_count": null,
   "id": "e18d7191",
   "metadata": {},
   "outputs": [],
   "source": [
    "print(type(x))"
   ]
  },
  {
   "cell_type": "code",
   "execution_count": null,
   "id": "d932d16b",
   "metadata": {},
   "outputs": [],
   "source": [
    "abcd = 556.0"
   ]
  },
  {
   "cell_type": "code",
   "execution_count": null,
   "id": "ac14df5c",
   "metadata": {},
   "outputs": [],
   "source": [
    "%whos"
   ]
  },
  {
   "cell_type": "markdown",
   "id": "c92dd856",
   "metadata": {},
   "source": [
    " # Multiple Assignment"
   ]
  },
  {
   "cell_type": "code",
   "execution_count": null,
   "id": "0ec228ec",
   "metadata": {},
   "outputs": [],
   "source": [
    "a,b,c,d = 2,3,4.1,5.5"
   ]
  },
  {
   "cell_type": "code",
   "execution_count": null,
   "id": "f95142b0",
   "metadata": {},
   "outputs": [],
   "source": [
    "print(a,b,c,d)"
   ]
  },
  {
   "cell_type": "code",
   "execution_count": null,
   "id": "f79131fa",
   "metadata": {},
   "outputs": [],
   "source": [
    "%whos"
   ]
  },
  {
   "cell_type": "code",
   "execution_count": null,
   "id": "9d19bc53",
   "metadata": {},
   "outputs": [],
   "source": [
    "del abcd"
   ]
  },
  {
   "cell_type": "code",
   "execution_count": null,
   "id": "bd4069ec",
   "metadata": {},
   "outputs": [],
   "source": [
    "%whos"
   ]
  },
  {
   "cell_type": "code",
   "execution_count": null,
   "id": "8b6d98f8",
   "metadata": {},
   "outputs": [],
   "source": [
    "c = 2+4j"
   ]
  },
  {
   "cell_type": "code",
   "execution_count": null,
   "id": "bded4299",
   "metadata": {},
   "outputs": [],
   "source": [
    "print(type(c))"
   ]
  },
  {
   "cell_type": "code",
   "execution_count": null,
   "id": "20575c4b",
   "metadata": {},
   "outputs": [],
   "source": [
    "s = \"hello my name is srinidhi\""
   ]
  },
  {
   "cell_type": "code",
   "execution_count": null,
   "id": "b7f4720f",
   "metadata": {},
   "outputs": [],
   "source": [
    "print(type(s))"
   ]
  },
  {
   "cell_type": "markdown",
   "id": "505694a7",
   "metadata": {},
   "source": [
    "# Operators in Python"
   ]
  },
  {
   "cell_type": "code",
   "execution_count": null,
   "id": "2914d573",
   "metadata": {},
   "outputs": [],
   "source": [
    "%whos"
   ]
  },
  {
   "cell_type": "code",
   "execution_count": null,
   "id": "b90331c9",
   "metadata": {},
   "outputs": [],
   "source": [
    "sumOfaAndb = a+b"
   ]
  },
  {
   "cell_type": "code",
   "execution_count": null,
   "id": "1c5c3431",
   "metadata": {},
   "outputs": [],
   "source": [
    "print(sumOfaAndb)"
   ]
  },
  {
   "cell_type": "code",
   "execution_count": null,
   "id": "4246b40f",
   "metadata": {},
   "outputs": [],
   "source": [
    "type(sumOfaAndb)"
   ]
  },
  {
   "cell_type": "code",
   "execution_count": null,
   "id": "9a9637e6",
   "metadata": {},
   "outputs": [],
   "source": [
    "type(a+d)"
   ]
  },
  {
   "cell_type": "code",
   "execution_count": null,
   "id": "9ec1e3cf",
   "metadata": {},
   "outputs": [],
   "source": [
    "v = ((a+d)**3)/4\n",
    "print(v)"
   ]
  },
  {
   "cell_type": "code",
   "execution_count": null,
   "id": "2f44d36c",
   "metadata": {},
   "outputs": [],
   "source": [
    "s1 = \"hello\"\n",
    "s2 = \"world !!\"\n",
    "print(s1+s2)"
   ]
  },
  {
   "cell_type": "code",
   "execution_count": null,
   "id": "70071a0b",
   "metadata": {},
   "outputs": [],
   "source": [
    "10 // 3"
   ]
  },
  {
   "cell_type": "code",
   "execution_count": null,
   "id": "a219bc3c",
   "metadata": {},
   "outputs": [],
   "source": [
    "10 / 3"
   ]
  },
  {
   "cell_type": "code",
   "execution_count": null,
   "id": "5349bffc",
   "metadata": {},
   "outputs": [],
   "source": [
    "_"
   ]
  },
  {
   "cell_type": "code",
   "execution_count": null,
   "id": "98f61aca",
   "metadata": {},
   "outputs": [],
   "source": [
    "startingTimeOfTheCourse = 2.0\n",
    "%whos"
   ]
  },
  {
   "cell_type": "markdown",
   "id": "a76bdfcf",
   "metadata": {},
   "source": [
    "# Boolean Operator"
   ]
  },
  {
   "cell_type": "code",
   "execution_count": null,
   "id": "80bf6b19",
   "metadata": {},
   "outputs": [],
   "source": [
    "a = True\n",
    "b = True\n",
    "c = False"
   ]
  },
  {
   "cell_type": "code",
   "execution_count": null,
   "id": "7e356f8a",
   "metadata": {},
   "outputs": [],
   "source": [
    "%whos"
   ]
  },
  {
   "cell_type": "code",
   "execution_count": null,
   "id": "2bc2db4c",
   "metadata": {},
   "outputs": [],
   "source": [
    "print( a and b)\n",
    "print( b and c)\n",
    "print( c and a)"
   ]
  },
  {
   "cell_type": "code",
   "execution_count": null,
   "id": "ccd4fb74",
   "metadata": {},
   "outputs": [],
   "source": [
    "d = a or c\n",
    "print(d)"
   ]
  },
  {
   "cell_type": "code",
   "execution_count": null,
   "id": "65dbb976",
   "metadata": {},
   "outputs": [],
   "source": [
    "not(d)"
   ]
  },
  {
   "cell_type": "code",
   "execution_count": null,
   "id": "dc5b6475",
   "metadata": {},
   "outputs": [],
   "source": [
    "not((a and b) or (a or d))"
   ]
  },
  {
   "cell_type": "markdown",
   "id": "b568917d",
   "metadata": {},
   "source": [
    "# Comparisons"
   ]
  },
  {
   "cell_type": "code",
   "execution_count": null,
   "id": "cfbdf677",
   "metadata": {},
   "outputs": [],
   "source": [
    "print(2 < 3)"
   ]
  },
  {
   "cell_type": "code",
   "execution_count": null,
   "id": "99a87c2b",
   "metadata": {},
   "outputs": [],
   "source": [
    "c = 3 < 4"
   ]
  },
  {
   "cell_type": "code",
   "execution_count": null,
   "id": "6bc4f0ce",
   "metadata": {},
   "outputs": [],
   "source": [
    "type(c)"
   ]
  },
  {
   "cell_type": "code",
   "execution_count": null,
   "id": "f7c6b13d",
   "metadata": {},
   "outputs": [],
   "source": [
    "print(c)"
   ]
  },
  {
   "cell_type": "code",
   "execution_count": null,
   "id": "303ededb",
   "metadata": {},
   "outputs": [],
   "source": [
    "3 == 3.0"
   ]
  },
  {
   "cell_type": "code",
   "execution_count": null,
   "id": "03547664",
   "metadata": {},
   "outputs": [],
   "source": [
    "x = 4\n",
    "y = 9\n",
    "z = 8.3\n",
    "r = -3"
   ]
  },
  {
   "cell_type": "code",
   "execution_count": null,
   "id": "349380dd",
   "metadata": {},
   "outputs": [],
   "source": [
    "(x<y) and (z<y) or (r==x)"
   ]
  },
  {
   "cell_type": "code",
   "execution_count": null,
   "id": "5eaa7e89",
   "metadata": {},
   "outputs": [],
   "source": [
    "round(5.2)"
   ]
  },
  {
   "cell_type": "code",
   "execution_count": null,
   "id": "f0f3a259",
   "metadata": {},
   "outputs": [],
   "source": [
    "round(5.6)"
   ]
  },
  {
   "cell_type": "code",
   "execution_count": null,
   "id": "85a2cc89",
   "metadata": {},
   "outputs": [],
   "source": [
    "round(5.5)"
   ]
  },
  {
   "cell_type": "markdown",
   "id": "49371e78",
   "metadata": {},
   "source": [
    " # Some functions"
   ]
  },
  {
   "cell_type": "code",
   "execution_count": null,
   "id": "28a1ac7c",
   "metadata": {},
   "outputs": [],
   "source": [
    "print(round(4.345))"
   ]
  },
  {
   "cell_type": "code",
   "execution_count": null,
   "id": "520182be",
   "metadata": {},
   "outputs": [],
   "source": [
    "print(round(4.556789,3))"
   ]
  },
  {
   "cell_type": "code",
   "execution_count": null,
   "id": "338136dd",
   "metadata": {},
   "outputs": [],
   "source": [
    "print(round(4.5567,2))"
   ]
  },
  {
   "cell_type": "code",
   "execution_count": null,
   "id": "cd832473",
   "metadata": {},
   "outputs": [],
   "source": [
    "divmod(27,5)"
   ]
  },
  {
   "cell_type": "code",
   "execution_count": null,
   "id": "2e8083ba",
   "metadata": {},
   "outputs": [],
   "source": [
    "a = divmod(34,9)"
   ]
  },
  {
   "cell_type": "code",
   "execution_count": null,
   "id": "996589b2",
   "metadata": {},
   "outputs": [],
   "source": [
    "type(a)"
   ]
  },
  {
   "cell_type": "code",
   "execution_count": null,
   "id": "f864612c",
   "metadata": {},
   "outputs": [],
   "source": [
    "a[0]"
   ]
  },
  {
   "cell_type": "code",
   "execution_count": null,
   "id": "f518c51d",
   "metadata": {},
   "outputs": [],
   "source": [
    "a[1]"
   ]
  },
  {
   "cell_type": "code",
   "execution_count": null,
   "id": "629cc57b",
   "metadata": {},
   "outputs": [],
   "source": [
    "34 // 7"
   ]
  },
  {
   "cell_type": "code",
   "execution_count": null,
   "id": "76cb89df",
   "metadata": {},
   "outputs": [],
   "source": [
    "34 % 7"
   ]
  },
  {
   "cell_type": "code",
   "execution_count": null,
   "id": "e3516eb4",
   "metadata": {},
   "outputs": [],
   "source": [
    "print(isinstance(1, int))"
   ]
  },
  {
   "cell_type": "code",
   "execution_count": null,
   "id": "e61efb21",
   "metadata": {},
   "outputs": [],
   "source": [
    "print(isinstance((1,2,\"Hello\"),tuple))"
   ]
  },
  {
   "cell_type": "code",
   "execution_count": 3,
   "id": "9351c7aa",
   "metadata": {},
   "outputs": [
    {
     "data": {
      "text/plain": [
       "16"
      ]
     },
     "execution_count": 3,
     "metadata": {},
     "output_type": "execute_result"
    }
   ],
   "source": [
    " pow(2,4)"
   ]
  },
  {
   "cell_type": "code",
   "execution_count": null,
   "id": "6c95e536",
   "metadata": {},
   "outputs": [],
   "source": [
    " pow(2,4,3)"
   ]
  },
  {
   "cell_type": "code",
   "execution_count": null,
   "id": "2b90e8f1",
   "metadata": {},
   "outputs": [],
   "source": [
    "a = input(\"Enter your name- \")"
   ]
  },
  {
   "cell_type": "code",
   "execution_count": null,
   "id": "67fe202a",
   "metadata": {},
   "outputs": [],
   "source": [
    "print(a)"
   ]
  },
  {
   "cell_type": "code",
   "execution_count": null,
   "id": "60969ded",
   "metadata": {},
   "outputs": [],
   "source": [
    "b = float(input(\"Enter a decimal number\"))"
   ]
  },
  {
   "cell_type": "code",
   "execution_count": 4,
   "id": "b755c94b",
   "metadata": {},
   "outputs": [
    {
     "data": {
      "text/plain": [
       "int"
      ]
     },
     "execution_count": 4,
     "metadata": {},
     "output_type": "execute_result"
    }
   ],
   "source": [
    "type(b)"
   ]
  },
  {
   "cell_type": "code",
   "execution_count": null,
   "id": "857de59a",
   "metadata": {},
   "outputs": [],
   "source": [
    "dir(b)"
   ]
  },
  {
   "cell_type": "markdown",
   "id": "740ffd4a",
   "metadata": {},
   "source": [
    "# Control Flow in Python"
   ]
  },
  {
   "cell_type": "code",
   "execution_count": 2,
   "id": "983ac518",
   "metadata": {},
   "outputs": [
    {
     "name": "stdout",
     "output_type": "stream",
     "text": [
      "Enter a number12\n",
      "Enter a number14\n",
      "b is greater than a\n",
      "It's done bro !!\n"
     ]
    }
   ],
   "source": [
    "a = int(input(\"Enter a number \"))\n",
    "b = int(input(\"Enter a number \"))\n",
    "if a < b:\n",
    "    print(\"b is greater than a\")\n",
    "else:\n",
    "    print(\"a is greater than b\")\n",
    "print(\"It's done bro !!\")    "
   ]
  },
  {
   "cell_type": "code",
   "execution_count": 2,
   "id": "2ee8e06f",
   "metadata": {},
   "outputs": [],
   "source": [
    "tuple1 = {\n",
    "    (0,\"Srinidhi\"),(1,\"Sannidhi\"),(2,\"Arpitha\"),(3,\"Raju\")\n",
    "}"
   ]
  },
  {
   "cell_type": "code",
   "execution_count": 20,
   "id": "33257fce",
   "metadata": {},
   "outputs": [
    {
     "name": "stdout",
     "output_type": "stream",
     "text": [
      "3\n"
     ]
    }
   ],
   "source": [
    "for i,j in tuple1:\n",
    "    if j == \"Raju\":\n",
    "        print(i)"
   ]
  },
  {
   "cell_type": "code",
   "execution_count": 3,
   "id": "6cc9d020",
   "metadata": {},
   "outputs": [
    {
     "data": {
      "text/plain": [
       "set"
      ]
     },
     "execution_count": 3,
     "metadata": {},
     "output_type": "execute_result"
    }
   ],
   "source": [
    "type(tuple1)"
   ]
  },
  {
   "cell_type": "code",
   "execution_count": 5,
   "id": "a952d040",
   "metadata": {},
   "outputs": [
    {
     "name": "stdout",
     "output_type": "stream",
     "text": [
      "Equal\n",
      "Not in if\n"
     ]
    }
   ],
   "source": [
    "a = 5\n",
    "b = 5\n",
    "if a == b:\n",
    "    print(\"Equal\")\n",
    "elif a > b:\n",
    "    print(\"A\")\n",
    "else:\n",
    "    print(\"B\")\n",
    "print(\"Not in if\")    "
   ]
  },
  {
   "cell_type": "code",
   "execution_count": 9,
   "id": "878590d0",
   "metadata": {},
   "outputs": [
    {
     "name": "stdout",
     "output_type": "stream",
     "text": [
      "Enter mark : 64\n",
      "Below Avg\n"
     ]
    }
   ],
   "source": [
    "marks = int(input(\"Enter mark : \"))\n",
    "if marks >= 85:\n",
    "    print(\"A\")\n",
    "elif marks < 85 and marks >= 80:\n",
    "    print(\"A-\")\n",
    "elif marks < 80 and marks >= 75:\n",
    "    print(\"B\")\n",
    "elif marks < 75 and marks >= 70:\n",
    "    print(\"B-\")\n",
    "else:\n",
    "    print(\"Below Avg\")"
   ]
  },
  {
   "cell_type": "code",
   "execution_count": 10,
   "id": "7880a1e9",
   "metadata": {},
   "outputs": [
    {
     "name": "stdout",
     "output_type": "stream",
     "text": [
      "Else part\n"
     ]
    }
   ],
   "source": [
    "a = 3\n",
    "if a > 10:\n",
    "    print(\">10\")\n",
    "elif not(a > 10):\n",
    "    print(\"Else part\")"
   ]
  },
  {
   "cell_type": "code",
   "execution_count": 12,
   "id": "9ff7b3a4",
   "metadata": {},
   "outputs": [
    {
     "name": "stdout",
     "output_type": "stream",
     "text": [
      "24\n",
      ">10\n",
      "Inside the top if\n",
      ">20\n",
      "Inside the nested if\n",
      "<= 20\n",
      "Outside the all the block\n"
     ]
    }
   ],
   "source": [
    "a = int(input())\n",
    "if a > 10:\n",
    "    print(\">10\")\n",
    "    print(\"Inside the top if\")\n",
    "    if a > 20:\n",
    "        print(\">20\")\n",
    "        print(\"Inside the nested if\")\n",
    "        if a > 30:\n",
    "            print(\">30\")\n",
    "            print(\"Inside the nested if of nested if\")\n",
    "        else:\n",
    "            print(\"<= 20\")\n",
    "    else:\n",
    "        print(\"<=20\")\n",
    "        print(\"Inisde the else part of the nested if\")\n",
    "        print(\"Outside all ifs\")\n",
    "print(\"Outside the all the block\")"
   ]
  },
  {
   "cell_type": "code",
   "execution_count": 13,
   "id": "12414b3e",
   "metadata": {},
   "outputs": [
    {
     "ename": "SyntaxError",
     "evalue": "invalid syntax (2293034997.py, line 11)",
     "output_type": "error",
     "traceback": [
      "\u001b[1;36m  Cell \u001b[1;32mIn[13], line 11\u001b[1;36m\u001b[0m\n\u001b[1;33m    intPortion =\u001b[0m\n\u001b[1;37m                 ^\u001b[0m\n\u001b[1;31mSyntaxError\u001b[0m\u001b[1;31m:\u001b[0m invalid syntax\n"
     ]
    }
   ],
   "source": [
    "#single line comment\n",
    "\"\"\" Multiple line comment, User will enter a floating point\n",
    "number  your task is to find out the intergerportion before\n",
    "the point in this case its 238.915 and then check whether if that\n",
    "integer portion is even or not\n",
    "\"\"\"\n",
    "\n",
    "x = float(input(\"Enter a real number: \"))\n",
    "y = round(x)\n",
    "if x > 0:\n",
    "    intPortion = \n",
    "else:\n",
    "    "
   ]
  },
  {
   "cell_type": "code",
   "execution_count": 18,
   "id": "33c94c1f",
   "metadata": {},
   "outputs": [
    {
     "name": "stdout",
     "output_type": "stream",
     "text": [
      "7\n"
     ]
    }
   ],
   "source": [
    "y = 7.315\n",
    "x = round(y)\n",
    "print(x)"
   ]
  },
  {
   "cell_type": "markdown",
   "id": "3dbda9cf",
   "metadata": {},
   "source": [
    "# While loops"
   ]
  },
  {
   "cell_type": "code",
   "execution_count": 20,
   "id": "f40a77d6",
   "metadata": {},
   "outputs": [
    {
     "name": "stdout",
     "output_type": "stream",
     "text": [
      "Max iterations 10\n",
      "1\n",
      "2\n",
      "3\n",
      "4\n",
      "5\n",
      "6\n",
      "7\n",
      "8\n",
      "9\n",
      "Done \n"
     ]
    }
   ],
   "source": [
    "n = int(input(\"Max iterations \"))\n",
    "i = 1\n",
    "while i < n:\n",
    "    print(i)\n",
    "    i += 1\n",
    "print(\"Done \")    "
   ]
  },
  {
   "cell_type": "code",
   "execution_count": 22,
   "id": "bcda1dc2",
   "metadata": {},
   "outputs": [
    {
     "name": "stdout",
     "output_type": "stream",
     "text": [
      "5\n",
      "1\n",
      "Square\n",
      "4\n",
      "Square\n",
      "9\n",
      "Square\n",
      "16\n",
      "Square\n"
     ]
    }
   ],
   "source": [
    "n = int(input())\n",
    "i = 1\n",
    "while i < n:\n",
    "    print(i**2)\n",
    "    print(\"Square\")\n",
    "    i += 1"
   ]
  },
  {
   "cell_type": "markdown",
   "id": "99ece197",
   "metadata": {},
   "source": [
    "# Examples"
   ]
  },
  {
   "cell_type": "code",
   "execution_count": 27,
   "id": "b0db180e",
   "metadata": {},
   "outputs": [
    {
     "name": "stdout",
     "output_type": "stream",
     "text": [
      "Max iterations21\n",
      "2\n",
      "4\n",
      "6\n",
      "8\n",
      "10\n",
      "12\n",
      "14\n",
      "16\n",
      "18\n",
      "20\n"
     ]
    }
   ],
   "source": [
    "n = int(input(\"Max iterations\"))\n",
    "i = 1\n",
    "while i < n:\n",
    "    if i%2 == 0:\n",
    "        print(i)\n",
    "    else:\n",
    "        pass\n",
    "    i += 1\n"
   ]
  },
  {
   "cell_type": "markdown",
   "id": "02bf4524",
   "metadata": {},
   "source": [
    "# Loops : break, continue"
   ]
  },
  {
   "cell_type": "code",
   "execution_count": 5,
   "id": "18b7d6ce",
   "metadata": {},
   "outputs": [
    {
     "name": "stdout",
     "output_type": "stream",
     "text": [
      "2\n",
      "3\n",
      "4\n",
      "5\n",
      "6\n",
      "7\n",
      "8\n",
      "9\n",
      "10\n",
      "11\n",
      "12\n",
      "13\n",
      "14\n",
      "15\n",
      "16\n",
      "17\n",
      "break\n",
      "Done\n"
     ]
    }
   ],
   "source": [
    "i = 1\n",
    "while True:\n",
    "    if i%17 == 0:\n",
    "        print(\"break\")\n",
    "        break\n",
    "    else:\n",
    "        i += 1\n",
    "        print(i)\n",
    "        continue\n",
    "    print(\"I am inside the loop\")\n",
    "print(\"Done\")"
   ]
  },
  {
   "cell_type": "markdown",
   "id": "890510b5",
   "metadata": {},
   "source": [
    "# For loops"
   ]
  },
  {
   "cell_type": "code",
   "execution_count": 9,
   "id": "c90ce325",
   "metadata": {},
   "outputs": [
    {
     "name": "stdout",
     "output_type": "stream",
     "text": [
      "1\n",
      "2\n",
      "3\n",
      "4\n",
      "5\n",
      "6\n",
      "7\n",
      "8\n",
      "9\n",
      "10\n",
      "[0, 1, 4, 9, 16, 25, 36, 49, 64, 81]\n"
     ]
    }
   ],
   "source": [
    "l = []\n",
    "for i in range(10):\n",
    "    print(i+1)\n",
    "    l.append(i**2)\n",
    "print(l)"
   ]
  },
  {
   "cell_type": "code",
   "execution_count": 13,
   "id": "31e3beab",
   "metadata": {},
   "outputs": [
    {
     "name": "stdout",
     "output_type": "stream",
     "text": [
      "0\n",
      "2\n",
      "4\n",
      "6\n",
      "8\n",
      "[0, 4, 16, 36, 64]\n"
     ]
    }
   ],
   "source": [
    "l = []\n",
    "for i in range(0,10,2):\n",
    "    print(i)\n",
    "    l.append(i**2)\n",
    "print(l)"
   ]
  },
  {
   "cell_type": "markdown",
   "id": "4901c8c3",
   "metadata": {},
   "source": [
    "# Control flow(else in for loops)"
   ]
  },
  {
   "cell_type": "code",
   "execution_count": 17,
   "id": "f771ed01",
   "metadata": {},
   "outputs": [
    {
     "name": "stdout",
     "output_type": "stream",
     "text": [
      "apple\n",
      "cherry\n",
      "4.9\n",
      "Loop completed iteration\n"
     ]
    }
   ],
   "source": [
    "s = {\"apple\",4.9,\"cherry\"}\n",
    "for x in s:\n",
    "    print(x)\n",
    "else:\n",
    "    print(\"Loop completed iteration\")"
   ]
  },
  {
   "cell_type": "code",
   "execution_count": 1,
   "id": "5d0cd25c",
   "metadata": {},
   "outputs": [
    {
     "name": "stdout",
     "output_type": "stream",
     "text": [
      "1\n",
      "4\n",
      "9\n",
      "16\n",
      "25\n",
      "36\n"
     ]
    }
   ],
   "source": [
    "i = [1,2,3,4,5,6]\n",
    "for j in i:\n",
    "    print(j**2)"
   ]
  },
  {
   "cell_type": "markdown",
   "id": "8b8880d0",
   "metadata": {},
   "source": [
    "# Control Flow(Exploring a dictionary)"
   ]
  },
  {
   "cell_type": "code",
   "execution_count": 2,
   "id": "f0fb2dcf",
   "metadata": {},
   "outputs": [
    {
     "name": "stdout",
     "output_type": "stream",
     "text": [
      "apple 44\n",
      "cherry game\n"
     ]
    }
   ],
   "source": [
    "D = {\"apple\": 44, \"cherry\":\"game\"}\n",
    "for x in D:\n",
    "    print(x,D[x])"
   ]
  },
  {
   "cell_type": "code",
   "execution_count": 3,
   "id": "0b25c02a",
   "metadata": {},
   "outputs": [
    {
     "name": "stdout",
     "output_type": "stream",
     "text": [
      "apple\n",
      "cherry\n"
     ]
    }
   ],
   "source": [
    "D = {\"apple\": 44, \"cherry\":\"game\"}\n",
    "for x in D:\n",
    "    print(x)"
   ]
  },
  {
   "cell_type": "code",
   "execution_count": 25,
   "id": "0ba8ada8",
   "metadata": {},
   "outputs": [
    {
     "name": "stdout",
     "output_type": "stream",
     "text": [
      "[-5, 1, 2, 2, 3, 4, 7, 9]\n"
     ]
    }
   ],
   "source": [
    "\"\"\"Given list of numbers ie [1,2,3,4,-5,6,9,2,3]\n",
    "make another list that contains all the items in \n",
    "sorted order from min to max\"\"\"\n",
    "listOfNum = [1,2,4,-5,7,9,3,2]\n",
    "for OuterIndex in range(len(listOfNum)):\n",
    "    m = listOfNum[OuterIndex]\n",
    "    indx = OuterIndex\n",
    "    c = OuterIndex\n",
    "    for i in range(OuterIndex,len(listOfNum)):\n",
    "        if listOfNum[i] < m:\n",
    "            m = listOfNum[i]\n",
    "            indx = c\n",
    "        c+=1\n",
    "    listOfNum[OuterIndex], listOfNum[indx] = m, listOfNum[OuterIndex]\n",
    "print(l)\n"
   ]
  },
  {
   "cell_type": "markdown",
   "id": "f8edf09f",
   "metadata": {},
   "source": [
    "# Functions in Python "
   ]
  },
  {
   "cell_type": "code",
   "execution_count": 23,
   "id": "7c8968be",
   "metadata": {},
   "outputs": [
    {
     "name": "stdout",
     "output_type": "stream",
     "text": [
      "[0, 1, 2, 3, 4, 5, 6]\n"
     ]
    }
   ],
   "source": [
    "p = range(0,7)\n",
    "print(list(p))"
   ]
  },
  {
   "cell_type": "code",
   "execution_count": 2,
   "id": "20c10a56",
   "metadata": {},
   "outputs": [],
   "source": [
    "def printSuccess():\n",
    "    print(\"I am done\")\n",
    "    print(\"Send me anothertask\")"
   ]
  },
  {
   "cell_type": "code",
   "execution_count": 3,
   "id": "035aa5ed",
   "metadata": {},
   "outputs": [
    {
     "name": "stdout",
     "output_type": "stream",
     "text": [
      "I am done\n",
      "Send me anothertask\n"
     ]
    }
   ],
   "source": [
    "printSuccess()"
   ]
  },
  {
   "cell_type": "code",
   "execution_count": 4,
   "id": "b951c4ba",
   "metadata": {},
   "outputs": [],
   "source": [
    " def printSucessTwo():\n",
    "        \"\"\" This func is doing noting except printing a message.\n",
    "        That message is hello\n",
    "        \"\"\"\n",
    "        print(\"hello\")"
   ]
  },
  {
   "cell_type": "code",
   "execution_count": 11,
   "id": "0ef461b9",
   "metadata": {},
   "outputs": [],
   "source": [
    "printSucessTwo??"
   ]
  },
  {
   "cell_type": "markdown",
   "id": "7b97a3d0",
   "metadata": {},
   "source": [
    "# Shorter Sorting in Python "
   ]
  },
  {
   "cell_type": "code",
   "execution_count": 17,
   "id": "4424c554",
   "metadata": {},
   "outputs": [
    {
     "name": "stdout",
     "output_type": "stream",
     "text": [
      "[-5, 1, 2, 2, 3, 4, 7, 9]\n"
     ]
    }
   ],
   "source": [
    "listOfNum = [1,2,4,-5,7,9,3,2]\n",
    "for i in range(len(listOfNum)):\n",
    "    for j in range(i+1, len(listOfNum)):\n",
    "        if listOfNum[i] > listOfNum[j]:\n",
    "            listOfNum[i], listOfNum[j] = listOfNum[j], listOfNum[i]\n",
    "print(listOfNum)               \n",
    "                   "
   ]
  },
  {
   "cell_type": "code",
   "execution_count": 26,
   "id": "38f41d40",
   "metadata": {},
   "outputs": [],
   "source": [
    "def printMessage(msg):\n",
    "    \"\"\"Prints the message if its a string\"\"\"\n",
    "    if isinstance(msg,str):\n",
    "        print(msg)\n",
    "    else:\n",
    "        print(\"Your input is not a string\")\n",
    "        print(\"Here is your type of message\", type(msg))"
   ]
  },
  {
   "cell_type": "code",
   "execution_count": 27,
   "id": "83712a6e",
   "metadata": {},
   "outputs": [
    {
     "name": "stdout",
     "output_type": "stream",
     "text": [
      "Srinidhi\n"
     ]
    }
   ],
   "source": [
    "printMessage(\"Srinidhi\")"
   ]
  },
  {
   "cell_type": "code",
   "execution_count": 28,
   "id": "c1b60c43",
   "metadata": {},
   "outputs": [
    {
     "name": "stdout",
     "output_type": "stream",
     "text": [
      "Your input is not a string\n",
      "Here is your type of message <class 'int'>\n"
     ]
    }
   ],
   "source": [
    "printMessage(12)"
   ]
  },
  {
   "cell_type": "code",
   "execution_count": 32,
   "id": "da3c05c5",
   "metadata": {},
   "outputs": [],
   "source": [
    "def mypow(a, b):\n",
    "    \"\"\"This function will act as if the builtin pow function \"\"\"\n",
    "    print(a**b)"
   ]
  },
  {
   "cell_type": "code",
   "execution_count": 30,
   "id": "353d034e",
   "metadata": {},
   "outputs": [
    {
     "name": "stdout",
     "output_type": "stream",
     "text": [
      "4\n"
     ]
    }
   ],
   "source": [
    "mypow(2,2)"
   ]
  },
  {
   "cell_type": "code",
   "execution_count": 33,
   "id": "dbd5da72",
   "metadata": {},
   "outputs": [],
   "source": [
    "mypow?"
   ]
  },
  {
   "cell_type": "code",
   "execution_count": 34,
   "id": "ec1ede57",
   "metadata": {},
   "outputs": [],
   "source": [
    "def func(a,b,c):\n",
    "    if isinstance(a,(int,float)) and isinstance(b, (int, float)) and isinstance(c,(int,float)):\n",
    "        print(a,b,c)\n",
    "    else:\n",
    "        print(\"Error\")"
   ]
  },
  {
   "cell_type": "code",
   "execution_count": 35,
   "id": "78ebed03",
   "metadata": {},
   "outputs": [
    {
     "name": "stdout",
     "output_type": "stream",
     "text": [
      "1 2 3\n"
     ]
    }
   ],
   "source": [
    "func(1,2,3)"
   ]
  },
  {
   "cell_type": "code",
   "execution_count": 37,
   "id": "2bcf7bf3",
   "metadata": {},
   "outputs": [
    {
     "name": "stdout",
     "output_type": "stream",
     "text": [
      "Error\n"
     ]
    }
   ],
   "source": [
    "func(\"g\",3,7)"
   ]
  },
  {
   "cell_type": "code",
   "execution_count": 38,
   "id": "9a286b87",
   "metadata": {},
   "outputs": [
    {
     "ename": "TypeError",
     "evalue": "func() missing 1 required positional argument: 'c'",
     "output_type": "error",
     "traceback": [
      "\u001b[1;31m---------------------------------------------------------------------------\u001b[0m",
      "\u001b[1;31mTypeError\u001b[0m                                 Traceback (most recent call last)",
      "Cell \u001b[1;32mIn[38], line 1\u001b[0m\n\u001b[1;32m----> 1\u001b[0m func(\u001b[38;5;241m1\u001b[39m,\u001b[38;5;241m2\u001b[39m)\n",
      "\u001b[1;31mTypeError\u001b[0m: func() missing 1 required positional argument: 'c'"
     ]
    }
   ],
   "source": [
    "func(1,2)"
   ]
  },
  {
   "cell_type": "code",
   "execution_count": 41,
   "id": "b5f6a379",
   "metadata": {},
   "outputs": [],
   "source": [
    " def f(c2, c1, c3):\n",
    "        print(c1, c2, c3)"
   ]
  },
  {
   "cell_type": "code",
   "execution_count": 42,
   "id": "24bdad88",
   "metadata": {},
   "outputs": [
    {
     "name": "stdout",
     "output_type": "stream",
     "text": [
      "A B C\n"
     ]
    }
   ],
   "source": [
    "f(c1 = \"A\", c3 = \"C\", c2 = \"B\")"
   ]
  },
  {
   "cell_type": "code",
   "execution_count": 43,
   "id": "2722f8f4",
   "metadata": {},
   "outputs": [],
   "source": [
    "def f1(a,b,c):\n",
    "    print(\"A is : \", a)\n",
    "    print(\"B is : \", b)\n",
    "    print(\"C is : \", c)"
   ]
  },
  {
   "cell_type": "code",
   "execution_count": 44,
   "id": "e8763a2c",
   "metadata": {},
   "outputs": [
    {
     "name": "stdout",
     "output_type": "stream",
     "text": [
      "A is :  2\n",
      "B is :  game\n",
      "C is :  3\n"
     ]
    }
   ],
   "source": [
    "f1(2,\"game\",3)"
   ]
  },
  {
   "cell_type": "code",
   "execution_count": 45,
   "id": "862aa350",
   "metadata": {},
   "outputs": [
    {
     "name": "stdout",
     "output_type": "stream",
     "text": [
      "A is :  game\n",
      "B is :  6\n",
      "C is :  7\n"
     ]
    }
   ],
   "source": [
    "f1(\"game\", 6, 7)"
   ]
  },
  {
   "cell_type": "markdown",
   "id": "1158614e",
   "metadata": {},
   "source": [
    "# Return Statement"
   ]
  },
  {
   "cell_type": "code",
   "execution_count": 49,
   "id": "0cedab66",
   "metadata": {},
   "outputs": [],
   "source": [
    "def myadd(a, b):\n",
    "    sumValue= a+b\n",
    "    return sumValue"
   ]
  },
  {
   "cell_type": "code",
   "execution_count": 50,
   "id": "a1de20b9",
   "metadata": {},
   "outputs": [
    {
     "data": {
      "text/plain": [
       "5"
      ]
     },
     "execution_count": 50,
     "metadata": {},
     "output_type": "execute_result"
    }
   ],
   "source": [
    "myadd(2,3)"
   ]
  },
  {
   "cell_type": "code",
   "execution_count": 51,
   "id": "d60917ee",
   "metadata": {},
   "outputs": [],
   "source": [
    "def r():\n",
    "    a = 2\n",
    "    b = 3\n",
    "    c =\"Something\"\n",
    "    return a,b,c"
   ]
  },
  {
   "cell_type": "code",
   "execution_count": 54,
   "id": "433c43d1",
   "metadata": {},
   "outputs": [
    {
     "name": "stdout",
     "output_type": "stream",
     "text": [
      "2 3 Something\n"
     ]
    }
   ],
   "source": [
    "x,y,z = r()\n",
    "print(x,y,z)"
   ]
  },
  {
   "cell_type": "code",
   "execution_count": 55,
   "id": "0c5f66b3",
   "metadata": {},
   "outputs": [],
   "source": [
    "def add(*args):\n",
    "    sum = 0\n",
    "    for i in range(len(args)):\n",
    "        sum += args[i]\n",
    "    return sum"
   ]
  },
  {
   "cell_type": "code",
   "execution_count": 57,
   "id": "7c2681a7",
   "metadata": {},
   "outputs": [
    {
     "name": "stdout",
     "output_type": "stream",
     "text": [
      "20\n"
     ]
    }
   ],
   "source": [
    "print(add(4,5,5,6))"
   ]
  },
  {
   "cell_type": "code",
   "execution_count": 58,
   "id": "ed7d52cb",
   "metadata": {},
   "outputs": [],
   "source": [
    "def printAllVarAndVal(**args):\n",
    "    for x in args:\n",
    "        print(\"Variable name is \",x, \"Value of the variable is \",args[x])\n",
    "    "
   ]
  },
  {
   "cell_type": "code",
   "execution_count": 60,
   "id": "4aae92b8",
   "metadata": {},
   "outputs": [
    {
     "name": "stdout",
     "output_type": "stream",
     "text": [
      "Variable name is  a Value of the variable is  1\n",
      "Variable name is  b Value of the variable is  Srinidhi\n",
      "Variable name is  c Value of the variable is  21\n"
     ]
    }
   ],
   "source": [
    "printAllVarAndVal(a=1,b=\"Srinidhi\",c=21)"
   ]
  },
  {
   "cell_type": "code",
   "execution_count": 61,
   "id": "6edf2f35",
   "metadata": {},
   "outputs": [],
   "source": [
    "def gg(s=4):\n",
    "    print(s)"
   ]
  },
  {
   "cell_type": "code",
   "execution_count": 62,
   "id": "bea4c025",
   "metadata": {},
   "outputs": [
    {
     "name": "stdout",
     "output_type": "stream",
     "text": [
      "4\n"
     ]
    }
   ],
   "source": [
    "gg()"
   ]
  },
  {
   "cell_type": "code",
   "execution_count": 63,
   "id": "26ecd705",
   "metadata": {},
   "outputs": [
    {
     "name": "stdout",
     "output_type": "stream",
     "text": [
      "3\n"
     ]
    }
   ],
   "source": [
    "gg(3)"
   ]
  },
  {
   "cell_type": "code",
   "execution_count": 64,
   "id": "31d535be",
   "metadata": {},
   "outputs": [
    {
     "name": "stdout",
     "output_type": "stream",
     "text": [
      "[-9, 2, 3, 4]\n"
     ]
    }
   ],
   "source": [
    "L = [1,2,3,4]\n",
    "L2 = L\n",
    "L2[0] = -9\n",
    "print(L2)"
   ]
  },
  {
   "cell_type": "code",
   "execution_count": 67,
   "id": "c537ecba",
   "metadata": {},
   "outputs": [],
   "source": [
    "def ff(l=[1,2]):\n",
    "    for i in l:\n",
    "        print(i)"
   ]
  },
  {
   "cell_type": "code",
   "execution_count": 68,
   "id": "add08af9",
   "metadata": {},
   "outputs": [
    {
     "name": "stdout",
     "output_type": "stream",
     "text": [
      "1\n",
      "2\n"
     ]
    }
   ],
   "source": [
    "l2 = [12,3,4]\n",
    "ff()"
   ]
  },
  {
   "cell_type": "code",
   "execution_count": 69,
   "id": "0e66dcfe",
   "metadata": {},
   "outputs": [
    {
     "name": "stdout",
     "output_type": "stream",
     "text": [
      "12\n",
      "3\n",
      "4\n"
     ]
    }
   ],
   "source": [
    "ff(l2)"
   ]
  },
  {
   "cell_type": "markdown",
   "id": "c52bc97e",
   "metadata": {},
   "source": [
    "# Modules in Python"
   ]
  },
  {
   "cell_type": "code",
   "execution_count": 6,
   "id": "8e349d1d",
   "metadata": {},
   "outputs": [],
   "source": [
    "import sys\n",
    "sys.path.append('C:/Users/10693867/Downloads/MyFunctions/')"
   ]
  },
  {
   "cell_type": "code",
   "execution_count": 21,
   "id": "62ffa019",
   "metadata": {},
   "outputs": [],
   "source": [
    "import myUniversalFunctions as myfs"
   ]
  },
  {
   "cell_type": "code",
   "execution_count": 73,
   "id": "c63466c3",
   "metadata": {},
   "outputs": [
    {
     "data": {
      "text/plain": [
       "22"
      ]
     },
     "execution_count": 73,
     "metadata": {},
     "output_type": "execute_result"
    }
   ],
   "source": [
    "myfs.addAllNumeric(2,2,3,4,5,6)"
   ]
  },
  {
   "cell_type": "code",
   "execution_count": 74,
   "id": "999b1301",
   "metadata": {},
   "outputs": [
    {
     "data": {
      "text/plain": [
       "'Python Course'"
      ]
     },
     "execution_count": 74,
     "metadata": {},
     "output_type": "execute_result"
    }
   ],
   "source": [
    "myfs.myName"
   ]
  },
  {
   "cell_type": "markdown",
   "id": "56558a52",
   "metadata": {},
   "source": [
    "# Practice problems"
   ]
  },
  {
   "cell_type": "code",
   "execution_count": 13,
   "id": "e8c64bc0",
   "metadata": {},
   "outputs": [],
   "source": [
    "def findMin(l):\n",
    "    m = l[0]\n",
    "    idx = 0\n",
    "    i = 0\n",
    "    for x in l:\n",
    "        if x<m:\n",
    "            m = x\n",
    "            idx = i\n",
    "        else:\n",
    "            pass\n",
    "        i+=1\n",
    "    return(idx,m)"
   ]
  },
  {
   "cell_type": "code",
   "execution_count": 5,
   "id": "bad218f8",
   "metadata": {},
   "outputs": [],
   "source": [
    "a,b = findMin([1,3,5,4,6])"
   ]
  },
  {
   "cell_type": "code",
   "execution_count": 6,
   "id": "b3595491",
   "metadata": {},
   "outputs": [
    {
     "name": "stdout",
     "output_type": "stream",
     "text": [
      "0 1\n"
     ]
    }
   ],
   "source": [
    "print(a,b)"
   ]
  },
  {
   "cell_type": "code",
   "execution_count": 7,
   "id": "1ec80a4b",
   "metadata": {},
   "outputs": [],
   "source": [
    "def findMin(l,start):\n",
    "    m = l[start]\n",
    "    idx = start\n",
    "    for i in range(start,len(l)):\n",
    "        x = l[i]\n",
    "        if x<m:\n",
    "            m = x\n",
    "            idx = i\n",
    "        else:\n",
    "            pass\n",
    "        i+=1\n",
    "    return(idx,m)"
   ]
  },
  {
   "cell_type": "code",
   "execution_count": 8,
   "id": "1b7c8dd8",
   "metadata": {},
   "outputs": [],
   "source": [
    "def swapValues(L,indx1,indx2):\n",
    "    L[indx1],L[indx2] =  L[indx2],L[indx1]\n",
    "    return L"
   ]
  },
  {
   "cell_type": "code",
   "execution_count": 10,
   "id": "8b383ba4",
   "metadata": {},
   "outputs": [
    {
     "name": "stdout",
     "output_type": "stream",
     "text": [
      "[1, 2, 3, 4, 5, 6]\n"
     ]
    }
   ],
   "source": [
    "m = [1,5,3,4,2,6]\n",
    "m1 = swapValues(m,1,4)\n",
    "print(m1)"
   ]
  },
  {
   "cell_type": "code",
   "execution_count": 8,
   "id": "9955a946",
   "metadata": {},
   "outputs": [],
   "source": [
    "from myUniversalFunctions import checkIfNotNumeric\n",
    "def sortList(L):\n",
    "    if not(checkIfNotNumeric(L)):\n",
    "        print(\"Error, no numbers \")\n",
    "        return\n",
    "    else:\n",
    "        c = 0\n",
    "        for x in L:\n",
    "            m, idx = findMin(L,c)\n",
    "            L = swapValues(L,c,idx)\n",
    "            c+=1\n",
    "    return L"
   ]
  },
  {
   "cell_type": "code",
   "execution_count": 12,
   "id": "35473dc5",
   "metadata": {},
   "outputs": [
    {
     "ename": "TypeError",
     "evalue": "sortList() takes 1 positional argument but 6 were given",
     "output_type": "error",
     "traceback": [
      "\u001b[1;31m---------------------------------------------------------------------------\u001b[0m",
      "\u001b[1;31mTypeError\u001b[0m                                 Traceback (most recent call last)",
      "Cell \u001b[1;32mIn[12], line 1\u001b[0m\n\u001b[1;32m----> 1\u001b[0m L2 \u001b[38;5;241m=\u001b[39m sortList(\u001b[38;5;241m2\u001b[39m,\u001b[38;5;241m1\u001b[39m,\u001b[38;5;241m5\u001b[39m,\u001b[38;5;241m3\u001b[39m,\u001b[38;5;241m-\u001b[39m\u001b[38;5;241m8\u001b[39m,\u001b[38;5;241m17\u001b[39m)\n\u001b[0;32m      2\u001b[0m \u001b[38;5;28mprint\u001b[39m(L2)\n",
      "\u001b[1;31mTypeError\u001b[0m: sortList() takes 1 positional argument but 6 were given"
     ]
    }
   ],
   "source": [
    "L2 = sortList(2,1,5,3,-8,17)\n",
    "print(L2)"
   ]
  },
  {
   "cell_type": "code",
   "execution_count": 13,
   "id": "4683ae3e",
   "metadata": {},
   "outputs": [
    {
     "data": {
      "text/plain": [
       "True"
      ]
     },
     "execution_count": 13,
     "metadata": {},
     "output_type": "execute_result"
    }
   ],
   "source": [
    "checkIfNotNumeric(1,2,3)"
   ]
  },
  {
   "cell_type": "code",
   "execution_count": 11,
   "id": "c74c609d",
   "metadata": {},
   "outputs": [
    {
     "name": "stdout",
     "output_type": "stream",
     "text": [
      "True\n"
     ]
    }
   ],
   "source": [
    "import myUniversalFunctions as mysys\n",
    "d = mysys.checkIfNotNumeric(1,2,23,4,5)\n",
    "print(d)"
   ]
  },
  {
   "cell_type": "markdown",
   "id": "b799983f",
   "metadata": {},
   "source": [
    "### Strings in Python"
   ]
  },
  {
   "cell_type": "code",
   "execution_count": 15,
   "id": "1728c6ee",
   "metadata": {},
   "outputs": [
    {
     "name": "stdout",
     "output_type": "stream",
     "text": [
      "<class 'str'>\n"
     ]
    },
    {
     "data": {
      "text/plain": [
       "str"
      ]
     },
     "execution_count": 15,
     "metadata": {},
     "output_type": "execute_result"
    }
   ],
   "source": [
    "s = \"Python\"\n",
    "print(type(s))\n",
    "type(s)"
   ]
  },
  {
   "cell_type": "code",
   "execution_count": 17,
   "id": "bacf4631",
   "metadata": {},
   "outputs": [
    {
     "name": "stdout",
     "output_type": "stream",
     "text": [
      "Python is a good language And its good for data scince\n"
     ]
    }
   ],
   "source": [
    "s = \"Python is a good language\"\n",
    "v = \"And its good for data scince\"\n",
    "q = s+\" \"+v\n",
    "print(q)"
   ]
  },
  {
   "cell_type": "code",
   "execution_count": 24,
   "id": "7877638e",
   "metadata": {},
   "outputs": [
    {
     "name": "stdout",
     "output_type": "stream",
     "text": [
      "The price of this book is : 12\n",
      "The price of this book is : 12\n"
     ]
    }
   ],
   "source": [
    "price = 12\n",
    "s = \"The price of this book is :\"\n",
    "v = s+ \" \"+str(price)\n",
    "print(v)\n",
    "print(s,price)"
   ]
  },
  {
   "cell_type": "code",
   "execution_count": 25,
   "id": "a76e1b06",
   "metadata": {},
   "outputs": [
    {
     "name": "stdout",
     "output_type": "stream",
     "text": [
      "Srinidhi is a good boy\n"
     ]
    }
   ],
   "source": [
    "multiline_string = \"\"\"Srinidhi is a good boy\"\"\"\n",
    "print(multiline_string)"
   ]
  },
  {
   "cell_type": "code",
   "execution_count": 27,
   "id": "24acd5a1",
   "metadata": {},
   "outputs": [
    {
     "name": "stdout",
     "output_type": "stream",
     "text": [
      "d\n"
     ]
    }
   ],
   "source": [
    "print(multiline_string[5])"
   ]
  },
  {
   "cell_type": "code",
   "execution_count": 28,
   "id": "9b2c2e27",
   "metadata": {},
   "outputs": [
    {
     "name": "stdout",
     "output_type": "stream",
     "text": [
      "Srinidh\n"
     ]
    }
   ],
   "source": [
    "print(multiline_string[:7])"
   ]
  },
  {
   "cell_type": "code",
   "execution_count": 29,
   "id": "e4bbb274",
   "metadata": {},
   "outputs": [
    {
     "name": "stdout",
     "output_type": "stream",
     "text": [
      " is a good boy\n"
     ]
    }
   ],
   "source": [
    "print(multiline_string[8:])"
   ]
  },
  {
   "cell_type": "code",
   "execution_count": 30,
   "id": "afd42098",
   "metadata": {},
   "outputs": [
    {
     "name": "stdout",
     "output_type": "stream",
     "text": [
      "yob doog a si ihdinirS\n"
     ]
    }
   ],
   "source": [
    "print(multiline_string[::-1])"
   ]
  },
  {
   "cell_type": "code",
   "execution_count": 31,
   "id": "243bd226",
   "metadata": {},
   "outputs": [
    {
     "name": "stdout",
     "output_type": "stream",
     "text": [
      "o\n"
     ]
    }
   ],
   "source": [
    "print(multiline_string[-2])"
   ]
  },
  {
   "cell_type": "code",
   "execution_count": 32,
   "id": "4d7a89d3",
   "metadata": {},
   "outputs": [
    {
     "name": "stdout",
     "output_type": "stream",
     "text": [
      "good \n"
     ]
    }
   ],
   "source": [
    "print(multiline_string[-8:-3])"
   ]
  },
  {
   "cell_type": "code",
   "execution_count": 34,
   "id": "ffc8f2f9",
   "metadata": {},
   "outputs": [
    {
     "name": "stdout",
     "output_type": "stream",
     "text": [
      "\n"
     ]
    }
   ],
   "source": [
    "print(multiline_string[-3:-8])"
   ]
  },
  {
   "cell_type": "markdown",
   "id": "67575d37",
   "metadata": {},
   "source": [
    "# String Methods"
   ]
  },
  {
   "cell_type": "code",
   "execution_count": 35,
   "id": "0beff44a",
   "metadata": {},
   "outputs": [
    {
     "name": "stdout",
     "output_type": "stream",
     "text": [
      "abd   bdf    hdgf      yhk\n"
     ]
    }
   ],
   "source": [
    "a = \"   abd   bdf    hdgf      yhk\"\n",
    "b = a.strip()\n",
    "print(b)"
   ]
  },
  {
   "cell_type": "code",
   "execution_count": 38,
   "id": "3c8ae794",
   "metadata": {},
   "outputs": [
    {
     "name": "stdout",
     "output_type": "stream",
     "text": [
      "   abc   bdf    hdgf      yhk\n"
     ]
    }
   ],
   "source": [
    "d = a.replace(\"abd\",\"abc\")\n",
    "print(d)"
   ]
  },
  {
   "cell_type": "code",
   "execution_count": 39,
   "id": "1b1729bb",
   "metadata": {},
   "outputs": [
    {
     "data": {
      "text/plain": [
       "['__add__',\n",
       " '__class__',\n",
       " '__contains__',\n",
       " '__delattr__',\n",
       " '__dir__',\n",
       " '__doc__',\n",
       " '__eq__',\n",
       " '__format__',\n",
       " '__ge__',\n",
       " '__getattribute__',\n",
       " '__getitem__',\n",
       " '__getnewargs__',\n",
       " '__getstate__',\n",
       " '__gt__',\n",
       " '__hash__',\n",
       " '__init__',\n",
       " '__init_subclass__',\n",
       " '__iter__',\n",
       " '__le__',\n",
       " '__len__',\n",
       " '__lt__',\n",
       " '__mod__',\n",
       " '__mul__',\n",
       " '__ne__',\n",
       " '__new__',\n",
       " '__reduce__',\n",
       " '__reduce_ex__',\n",
       " '__repr__',\n",
       " '__rmod__',\n",
       " '__rmul__',\n",
       " '__setattr__',\n",
       " '__sizeof__',\n",
       " '__str__',\n",
       " '__subclasshook__',\n",
       " 'capitalize',\n",
       " 'casefold',\n",
       " 'center',\n",
       " 'count',\n",
       " 'encode',\n",
       " 'endswith',\n",
       " 'expandtabs',\n",
       " 'find',\n",
       " 'format',\n",
       " 'format_map',\n",
       " 'index',\n",
       " 'isalnum',\n",
       " 'isalpha',\n",
       " 'isascii',\n",
       " 'isdecimal',\n",
       " 'isdigit',\n",
       " 'isidentifier',\n",
       " 'islower',\n",
       " 'isnumeric',\n",
       " 'isprintable',\n",
       " 'isspace',\n",
       " 'istitle',\n",
       " 'isupper',\n",
       " 'join',\n",
       " 'ljust',\n",
       " 'lower',\n",
       " 'lstrip',\n",
       " 'maketrans',\n",
       " 'partition',\n",
       " 'removeprefix',\n",
       " 'removesuffix',\n",
       " 'replace',\n",
       " 'rfind',\n",
       " 'rindex',\n",
       " 'rjust',\n",
       " 'rpartition',\n",
       " 'rsplit',\n",
       " 'rstrip',\n",
       " 'split',\n",
       " 'splitlines',\n",
       " 'startswith',\n",
       " 'strip',\n",
       " 'swapcase',\n",
       " 'title',\n",
       " 'translate',\n",
       " 'upper',\n",
       " 'zfill']"
      ]
     },
     "execution_count": 39,
     "metadata": {},
     "output_type": "execute_result"
    }
   ],
   "source": [
    "dir(a)"
   ]
  },
  {
   "cell_type": "code",
   "execution_count": 40,
   "id": "d8494e41",
   "metadata": {},
   "outputs": [
    {
     "name": "stdout",
     "output_type": "stream",
     "text": [
      "True\n"
     ]
    }
   ],
   "source": [
    "print(\"at\" in \"Amat\")"
   ]
  },
  {
   "cell_type": "markdown",
   "id": "4691e1d7",
   "metadata": {},
   "source": [
    "# Data Structures in Python"
   ]
  },
  {
   "cell_type": "code",
   "execution_count": 2,
   "id": "584c6a9c",
   "metadata": {},
   "outputs": [],
   "source": [
    "L = [1,2,3,4.9,\"srinidhi\"]\n",
    "T = (1,3,4.9,\"Srinidhi\")\n",
    "S = {1,3,3,4.9,\"Srindihi\"}\n",
    "D = {23:\"twothree\",\"B\":43,'C':\"CCD\"}"
   ]
  },
  {
   "cell_type": "code",
   "execution_count": 43,
   "id": "e9b7d801",
   "metadata": {},
   "outputs": [
    {
     "name": "stdout",
     "output_type": "stream",
     "text": [
      "The type of L is  <class 'list'>\n",
      "The type of T is  <class 'tuple'>\n",
      "The type of S is  <class 'set'>\n",
      "The type of D is  <class 'dict'>\n"
     ]
    }
   ],
   "source": [
    "print(\"The type of L is \",type(L))\n",
    "print(\"The type of T is \",type(T))\n",
    "print(\"The type of S is \",type(S))\n",
    "print(\"The type of D is \",type(D))"
   ]
  },
  {
   "cell_type": "code",
   "execution_count": 44,
   "id": "45b5da2b",
   "metadata": {},
   "outputs": [
    {
     "name": "stdout",
     "output_type": "stream",
     "text": [
      "2\n",
      "3\n",
      "True\n",
      "twothree\n"
     ]
    }
   ],
   "source": [
    "print(L[1])\n",
    "print(T[1])\n",
    "print(3 in S)\n",
    "print(D[23])"
   ]
  },
  {
   "cell_type": "code",
   "execution_count": 52,
   "id": "e062086b",
   "metadata": {},
   "outputs": [
    {
     "name": "stdout",
     "output_type": "stream",
     "text": [
      "{1, 3, 4.9, 'Sannidhi', 'Srindihi'}\n"
     ]
    }
   ],
   "source": [
    "S.add(\"Sannidhi\")\n",
    "print(S)"
   ]
  },
  {
   "cell_type": "code",
   "execution_count": 54,
   "id": "887e045c",
   "metadata": {},
   "outputs": [
    {
     "name": "stdout",
     "output_type": "stream",
     "text": [
      "[1, 2, 3, 4.9, 'srinidhi', 'how', 'are', 3, 'how', 'are', 3]\n"
     ]
    },
    {
     "data": {
      "text/plain": [
       "[1, 2, 3, 4.9, 'srinidhi', 'how', 'are', 3, 'how', 'are', 3]"
      ]
     },
     "execution_count": 54,
     "metadata": {},
     "output_type": "execute_result"
    }
   ],
   "source": [
    "L = L+[\"how\",\"are\",3]\n",
    "print(L)"
   ]
  },
  {
   "cell_type": "code",
   "execution_count": 56,
   "id": "a467d563",
   "metadata": {},
   "outputs": [
    {
     "data": {
      "text/plain": [
       "[1, 2, 3, 4.9, 'srinidhi', 'how', 'are', 3, 'how', 'are', 3, 'Sri']"
      ]
     },
     "execution_count": 56,
     "metadata": {},
     "output_type": "execute_result"
    }
   ],
   "source": [
    "L.append(\"Sri\")\n",
    "L"
   ]
  },
  {
   "cell_type": "code",
   "execution_count": 57,
   "id": "04e84974",
   "metadata": {},
   "outputs": [
    {
     "data": {
      "text/plain": [
       "(1, 3, 4.9, 'Srinidhi', 'a', 'b', 45)"
      ]
     },
     "execution_count": 57,
     "metadata": {},
     "output_type": "execute_result"
    }
   ],
   "source": [
    "T2 = ('a','b',45)\n",
    "T3 = T+T2\n",
    "T3"
   ]
  },
  {
   "cell_type": "code",
   "execution_count": 58,
   "id": "46d29a16",
   "metadata": {},
   "outputs": [
    {
     "data": {
      "text/plain": [
       "{1, 3, 4.9, 56, 'Sannidhi', 'Srindihi'}"
      ]
     },
     "execution_count": 58,
     "metadata": {},
     "output_type": "execute_result"
    }
   ],
   "source": [
    "S.add(56)\n",
    "S"
   ]
  },
  {
   "cell_type": "code",
   "execution_count": 59,
   "id": "6d7d6033",
   "metadata": {},
   "outputs": [
    {
     "data": {
      "text/plain": [
       "{1, 2, 26, 3, 4.9, 56, 'San', 'Sannidhi', 'Srindihi'}"
      ]
     },
     "execution_count": 59,
     "metadata": {},
     "output_type": "execute_result"
    }
   ],
   "source": [
    "S.update({2,26,\"San\"})\n",
    "S"
   ]
  },
  {
   "cell_type": "code",
   "execution_count": 62,
   "id": "8b4c72e5",
   "metadata": {},
   "outputs": [
    {
     "name": "stdout",
     "output_type": "stream",
     "text": [
      "1\n",
      "2\n",
      "3\n",
      "4.9\n",
      "Sannidhi\n",
      "Srindihi\n",
      "San\n",
      "56\n",
      "26\n"
     ]
    }
   ],
   "source": [
    "for i in S:\n",
    "    print(i)"
   ]
  },
  {
   "cell_type": "code",
   "execution_count": 63,
   "id": "ecdbb588",
   "metadata": {},
   "outputs": [
    {
     "data": {
      "text/plain": [
       "{23: 'twothree', 'B': 43, 'C': 'CCD'}"
      ]
     },
     "execution_count": 63,
     "metadata": {},
     "output_type": "execute_result"
    }
   ],
   "source": [
    "D"
   ]
  },
  {
   "cell_type": "code",
   "execution_count": 66,
   "id": "589eb634",
   "metadata": {},
   "outputs": [],
   "source": [
    "D[7] = \"James\""
   ]
  },
  {
   "cell_type": "code",
   "execution_count": 67,
   "id": "b31d0237",
   "metadata": {},
   "outputs": [
    {
     "data": {
      "text/plain": [
       "{23: 'twothree', 'B': 43, 'C': 'CCD', 7: 'James'}"
      ]
     },
     "execution_count": 67,
     "metadata": {},
     "output_type": "execute_result"
    }
   ],
   "source": [
    "D"
   ]
  },
  {
   "cell_type": "code",
   "execution_count": 76,
   "id": "823e9bab",
   "metadata": {},
   "outputs": [
    {
     "data": {
      "text/plain": [
       "{23: 'twothree', 'B': 43, 7: 'James', 'a': 1, 'b': 'Biggies'}"
      ]
     },
     "execution_count": 76,
     "metadata": {},
     "output_type": "execute_result"
    }
   ],
   "source": [
    "D2 = {\"a\":1,\"b\":\"Biggies\"}\n",
    "D.update(D2)\n",
    "D"
   ]
  },
  {
   "cell_type": "code",
   "execution_count": 71,
   "id": "cfe33279",
   "metadata": {},
   "outputs": [],
   "source": [
    "S.remove('San')"
   ]
  },
  {
   "cell_type": "code",
   "execution_count": 72,
   "id": "81b87d21",
   "metadata": {},
   "outputs": [
    {
     "data": {
      "text/plain": [
       "{1, 2, 26, 3, 4.9, 56, 'Sannidhi', 'Srindihi'}"
      ]
     },
     "execution_count": 72,
     "metadata": {},
     "output_type": "execute_result"
    }
   ],
   "source": [
    "S"
   ]
  },
  {
   "cell_type": "code",
   "execution_count": 74,
   "id": "0ef9ba86",
   "metadata": {},
   "outputs": [],
   "source": [
    "del D['C']"
   ]
  },
  {
   "cell_type": "code",
   "execution_count": 75,
   "id": "be8e7c68",
   "metadata": {},
   "outputs": [
    {
     "data": {
      "text/plain": [
       "{23: 'twothree', 'B': 43, 7: 'James'}"
      ]
     },
     "execution_count": 75,
     "metadata": {},
     "output_type": "execute_result"
    }
   ],
   "source": [
    "D"
   ]
  },
  {
   "cell_type": "code",
   "execution_count": 6,
   "id": "f175b0a4",
   "metadata": {},
   "outputs": [
    {
     "name": "stdout",
     "output_type": "stream",
     "text": [
      "['srinidhi', 4.9, 3, 2, 1]\n"
     ]
    }
   ],
   "source": [
    "L.reverse()\n",
    "print(L)"
   ]
  },
  {
   "cell_type": "code",
   "execution_count": 7,
   "id": "012db936",
   "metadata": {},
   "outputs": [
    {
     "name": "stdout",
     "output_type": "stream",
     "text": [
      "{23: 'twothree', 'B': 43, 'C': 'CCD'}\n"
     ]
    }
   ],
   "source": [
    "D.items()\n",
    "print(D)"
   ]
  },
  {
   "cell_type": "markdown",
   "id": "caac1f0f",
   "metadata": {},
   "source": [
    "# Examples on Abstractness of these Data structures"
   ]
  },
  {
   "cell_type": "code",
   "execution_count": 8,
   "id": "dd8d7714",
   "metadata": {},
   "outputs": [],
   "source": [
    "D2 = {'a':L,'b':T,'c':S,'d':D}"
   ]
  },
  {
   "cell_type": "code",
   "execution_count": 9,
   "id": "8903feab",
   "metadata": {},
   "outputs": [
    {
     "name": "stdout",
     "output_type": "stream",
     "text": [
      "{'a': ['srinidhi', 4.9, 3, 2, 1], 'b': (1, 3, 4.9, 'Srinidhi'), 'c': {1, 'Srindihi', 3, 4.9}, 'd': {23: 'twothree', 'B': 43, 'C': 'CCD'}}\n"
     ]
    }
   ],
   "source": [
    "print(D2)"
   ]
  },
  {
   "cell_type": "code",
   "execution_count": 12,
   "id": "73b64dfd",
   "metadata": {},
   "outputs": [
    {
     "name": "stdout",
     "output_type": "stream",
     "text": [
      "2\n"
     ]
    }
   ],
   "source": [
    "print(D2['a'][3])"
   ]
  },
  {
   "cell_type": "code",
   "execution_count": 13,
   "id": "8b6e9b30",
   "metadata": {},
   "outputs": [
    {
     "name": "stdout",
     "output_type": "stream",
     "text": [
      "23 twothree\n",
      "B 43\n",
      "C CCD\n"
     ]
    }
   ],
   "source": [
    "K = D2['d']\n",
    "for x in K :\n",
    "    print(x,K[x])"
   ]
  },
  {
   "cell_type": "code",
   "execution_count": 14,
   "id": "46f6771c",
   "metadata": {},
   "outputs": [],
   "source": [
    "L3 = [L,T,D,\"game\"]"
   ]
  },
  {
   "cell_type": "code",
   "execution_count": 15,
   "id": "c766db20",
   "metadata": {},
   "outputs": [
    {
     "name": "stdout",
     "output_type": "stream",
     "text": [
      "[['srinidhi', 4.9, 3, 2, 1], (1, 3, 4.9, 'Srinidhi'), {23: 'twothree', 'B': 43, 'C': 'CCD'}, 'game']\n"
     ]
    }
   ],
   "source": [
    "print(L3)"
   ]
  },
  {
   "cell_type": "code",
   "execution_count": 16,
   "id": "27702a3e",
   "metadata": {},
   "outputs": [
    {
     "data": {
      "text/plain": [
       "dict"
      ]
     },
     "execution_count": 16,
     "metadata": {},
     "output_type": "execute_result"
    }
   ],
   "source": [
    "type(L3[2])"
   ]
  },
  {
   "cell_type": "code",
   "execution_count": 17,
   "id": "b57b2337",
   "metadata": {},
   "outputs": [
    {
     "name": "stdout",
     "output_type": "stream",
     "text": [
      "[0, 1, 4, 9, 16, 25, 36, 49, 64, 81]\n"
     ]
    }
   ],
   "source": [
    "L3 = [ x**2 for x in range(10)]\n",
    "print(L3)"
   ]
  },
  {
   "cell_type": "code",
   "execution_count": 18,
   "id": "a2f0cd7f",
   "metadata": {},
   "outputs": [
    {
     "data": {
      "text/plain": [
       "True"
      ]
     },
     "execution_count": 18,
     "metadata": {},
     "output_type": "execute_result"
    }
   ],
   "source": [
    "23 in D"
   ]
  },
  {
   "cell_type": "markdown",
   "id": "8069f299",
   "metadata": {},
   "source": [
    "# \"Let say you are a teacher you have different student ID, and so on....\""
   ]
  },
  {
   "cell_type": "code",
   "execution_count": 20,
   "id": "3a8e4671",
   "metadata": {},
   "outputs": [],
   "source": [
    "def getDataFromTeacher():\n",
    "    D = {}\n",
    "    while True:\n",
    "        studentId = input(\"Enter student ID: \")\n",
    "        marksList = input(\"Enter the marks using csv: \")\n",
    "        moreStudents = input(\"Enter no for quitting insertion \")\n",
    "        if studentId in D:\n",
    "            print(studentId, \"already exist\")\n",
    "        else:\n",
    "            D[studentId] = marksList.split(\",\")\n",
    "        if moreStudents.lower() ==\"no\":\n",
    "            return D"
   ]
  },
  {
   "cell_type": "code",
   "execution_count": 21,
   "id": "d9f40f50",
   "metadata": {},
   "outputs": [
    {
     "name": "stdout",
     "output_type": "stream",
     "text": [
      "Enter student ID: 1\n",
      "Enter the marks using csv: 56,45,30\n",
      "Enter no for quitting insertion asdf\n",
      "Enter student ID: 2\n",
      "Enter the marks using csv: 12,45,67\n",
      "Enter no for quitting insertion no\n"
     ]
    }
   ],
   "source": [
    "studentData = getDataFromTeacher()"
   ]
  },
  {
   "cell_type": "code",
   "execution_count": 23,
   "id": "934bb396",
   "metadata": {},
   "outputs": [
    {
     "data": {
      "text/plain": [
       "{'1': ['56', '45', '30'], '2': ['12', '45', '67']}"
      ]
     },
     "execution_count": 23,
     "metadata": {},
     "output_type": "execute_result"
    }
   ],
   "source": [
    "studentData"
   ]
  },
  {
   "cell_type": "code",
   "execution_count": 26,
   "id": "cc2588f5",
   "metadata": {},
   "outputs": [],
   "source": [
    "def getAvgMarks(D):\n",
    "    amd = {}\n",
    "    for x in D:\n",
    "        L = D[x]\n",
    "        s = 0\n",
    "        for marks in L:\n",
    "            s += int(marks)\n",
    "        amd[x] = s/len(L)\n",
    "    return amd"
   ]
  },
  {
   "cell_type": "code",
   "execution_count": 27,
   "id": "8ccab164",
   "metadata": {},
   "outputs": [],
   "source": [
    "avgM = getAvgMarks(studentData)"
   ]
  },
  {
   "cell_type": "code",
   "execution_count": 28,
   "id": "cc4f93c9",
   "metadata": {},
   "outputs": [
    {
     "data": {
      "text/plain": [
       "{'1': 43.666666666666664, '2': 41.333333333333336}"
      ]
     },
     "execution_count": 28,
     "metadata": {},
     "output_type": "execute_result"
    }
   ],
   "source": [
    "avgM"
   ]
  },
  {
   "cell_type": "code",
   "execution_count": 29,
   "id": "fda618c7",
   "metadata": {},
   "outputs": [
    {
     "name": "stdout",
     "output_type": "stream",
     "text": [
      "23\n",
      "B\n",
      "C\n"
     ]
    }
   ],
   "source": [
    "for x in D:\n",
    "    print(x)"
   ]
  },
  {
   "cell_type": "code",
   "execution_count": 31,
   "id": "3f8b7411",
   "metadata": {},
   "outputs": [
    {
     "name": "stdout",
     "output_type": "stream",
     "text": [
      "Student: 1 got avg of 43.666666666666664\n",
      "Student: 2 got avg of 41.333333333333336\n"
     ]
    }
   ],
   "source": [
    "for x in avgM:\n",
    "    print(\"Student:\",x,\"got avg of\",avgM[x])"
   ]
  },
  {
   "cell_type": "code",
   "execution_count": null,
   "id": "84f543ff",
   "metadata": {},
   "outputs": [],
   "source": []
  },
  {
   "cell_type": "code",
   "execution_count": null,
   "id": "f7cef035",
   "metadata": {},
   "outputs": [],
   "source": []
  }
 ],
 "metadata": {
  "kernelspec": {
   "display_name": "Python 3 (ipykernel)",
   "language": "python",
   "name": "python3"
  },
  "language_info": {
   "codemirror_mode": {
    "name": "ipython",
    "version": 3
   },
   "file_extension": ".py",
   "mimetype": "text/x-python",
   "name": "python",
   "nbconvert_exporter": "python",
   "pygments_lexer": "ipython3",
   "version": "3.11.4"
  }
 },
 "nbformat": 4,
 "nbformat_minor": 5
}
