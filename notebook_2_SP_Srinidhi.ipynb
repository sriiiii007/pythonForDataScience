{
 "cells": [
  {
   "cell_type": "markdown",
   "id": "81bb393e-1205-4f78-8c71-a9692e782b3f",
   "metadata": {},
   "source": [
    "### Notebook to Send emails"
   ]
  },
  {
   "cell_type": "code",
   "execution_count": 31,
   "id": "ec9ddfbd-5625-486b-8311-12ff2e0e1bd2",
   "metadata": {},
   "outputs": [],
   "source": [
    "def sendEmail(email_to):\n",
    "    import smtplib\n",
    "    from email.mime.multipart import MIMEMultipart\n",
    "    from email.mime.text import MIMEText\n",
    "    from email.mime.base import MIMEBase\n",
    "    from email import encoders\n",
    "    \n",
    "    # Email account details\n",
    "    email_from = 'srinidhi.ss24@gmail.com'\n",
    "    email_to = email_to\n",
    "    password = 'wivy zcfe twbu wwyr'\n",
    "\n",
    "    # Create message container - the correct MIME type is multipart/alternative.\n",
    "    msg = MIMEMultipart('alternative')\n",
    "    msg['Subject'] = 'Sample Email - Weather Forecast From OpenWeatherMap'\n",
    "    msg['From'] = email_from\n",
    "    msg['To'] = email_to\n",
    "    \n",
    "    #Actual data\n",
    "    first_name = email_to.split('.')\n",
    "    \n",
    "    body = f\"\"\"\n",
    "    <html>\n",
    "      <head></head>\n",
    "      <body>\n",
    "        <p>Hello {first_name[0].title()}, Greetings !!!</p>\n",
    "        <p>This code is to send the mail. </p>\n",
    "        \n",
    "        <p>Best regards,<br>OpenWeatherMap<br>SP Srinidhi</p>\n",
    "      </body>\n",
    "    </html>\n",
    "    \"\"\"\n",
    "    \n",
    "    # Attach the email body\n",
    "    msg.attach(MIMEText(body, 'html')) #plain\n",
    "    \n",
    "    # Attach plots as attachments\n",
    "    for i, plot_filename in enumerate(['bar_plot.png', 'line_plot.png','heatmap.html']):\n",
    "        attachment = open(plot_filename, 'rb')\n",
    "    \n",
    "        # Create a MIMEBase object\n",
    "        part = MIMEBase('application', 'octet-stream')\n",
    "        part.set_payload(attachment.read())\n",
    "        encoders.encode_base64(part)\n",
    "        part.add_header('Content-Disposition', f'attachment; filename= {plot_filename}')\n",
    "        msg.attach(part)\n",
    "    \n",
    "    # Send the email\n",
    "    try:\n",
    "        server = smtplib.SMTP('smtp.gmail.com', 587)\n",
    "        server.starttls()\n",
    "        server.login(email_from, password)\n",
    "        server.sendmail(email_from, email_to, msg.as_string())\n",
    "        server.quit()\n",
    "        print('Email sent successfully!')\n",
    "    except Exception as e:\n",
    "        print(f'Something went wrong... {e}')"
   ]
  },
  {
   "cell_type": "code",
   "execution_count": 30,
   "id": "e4f26f80-4ecf-47d4-a24a-6622a1bf6b12",
   "metadata": {},
   "outputs": [
    {
     "name": "stdin",
     "output_type": "stream",
     "text": [
      "Enter the E-mail ID to send the mail : srinidhi.ss26@gmail.com\n"
     ]
    },
    {
     "name": "stdout",
     "output_type": "stream",
     "text": [
      "Email sent successfully!\n"
     ]
    }
   ],
   "source": [
    "toEmail = input(\"Enter the E-mail ID to send the mail :\")\n",
    "sendEmail(toEmail)"
   ]
  },
  {
   "cell_type": "markdown",
   "id": "0c547d49-aab0-4af8-8bdb-11e3e4669e4b",
   "metadata": {},
   "source": [
    "---------------------------------------------------"
   ]
  },
  {
   "cell_type": "markdown",
   "id": "3b5e132d-5826-4ea0-bb7f-538fede286ea",
   "metadata": {},
   "source": [
    "### Alternative Code for sending email using SSL"
   ]
  },
  {
   "cell_type": "code",
   "execution_count": 17,
   "id": "6b428044-2c2d-4881-8f11-ae4bdaa12768",
   "metadata": {},
   "outputs": [],
   "source": [
    "import os\n",
    "from email.message import EmailMessage\n",
    "import ssl\n",
    "import smtplib\n",
    "from datetime import date\n",
    "\n",
    "date = str(date.today())\n",
    "email_sender = \"srinidhi.ss24@gmail.com\"\n",
    "email_password = \"wivy zcfe twbu wwyr\"\n",
    "email_receiver = \"sannidhi.ss21@gmail.com\"\n",
    "\n",
    "subject = \"Weather Forecast of {}\".format(date)\n",
    "body = \"\"\" Very good morning, SP Sannidhi \"\"\"\n",
    "\n",
    "em = EmailMessage()\n",
    "em['From'] = email_sender\n",
    "em['To'] = email_receiver\n",
    "em['Subject'] = subject\n",
    "em.set_content(body)\n",
    "\n",
    "context = ssl.create_default_context()\n",
    "with smtplib.SMTP_SSL('smtp.gmail.com', 465, context = context) as smtp:\n",
    "    smtp.login(email_sender,email_password)\n",
    "    smtp.sendmail(email_sender,email_receiver,em.as_string())"
   ]
  },
  {
   "cell_type": "markdown",
   "id": "cbf6e006-fc61-44c4-ad00-51d5369afd81",
   "metadata": {},
   "source": [
    "------------------------------------------------------------------------THE END-----------------------------------------------"
   ]
  }
 ],
 "metadata": {
  "kernelspec": {
   "display_name": "Python 3 (ipykernel)",
   "language": "python",
   "name": "python3"
  },
  "language_info": {
   "codemirror_mode": {
    "name": "ipython",
    "version": 3
   },
   "file_extension": ".py",
   "mimetype": "text/x-python",
   "name": "python",
   "nbconvert_exporter": "python",
   "pygments_lexer": "ipython3",
   "version": "3.11.7"
  }
 },
 "nbformat": 4,
 "nbformat_minor": 5
}
