{
 "cells": [
  {
   "cell_type": "markdown",
   "id": "c446e33c-84de-4d8a-a1db-93816d2e1f93",
   "metadata": {},
   "source": [
    "# Integrated code from notebook_1.ipynb and notebook_2.ipynb"
   ]
  },
  {
   "cell_type": "markdown",
   "id": "f27571fc-96c0-47fd-8a7f-ca109f72ccdf",
   "metadata": {},
   "source": [
    "## Below is the code snippet from notebook_1.ipynb"
   ]
  },
  {
   "cell_type": "code",
   "execution_count": 39,
   "id": "be070f6c-61c0-422d-b75c-8bec18124519",
   "metadata": {},
   "outputs": [],
   "source": [
    "def getWeatherData(lat, lon):\n",
    "    import requests\n",
    "    import matplotlib.pyplot as plt\n",
    "    import seaborn as sns\n",
    "    import plotly.graph_objs as go\n",
    "    from datetime import date\n",
    "    \n",
    "    # Necessary assignments to get the data from OpenWeather\n",
    "    key = \"afa505fe43ee43a58be99db22bc5a2f3\"\n",
    "    url = \"https://api.openweathermap.org/data/2.5/weather?lat={}&lon={}&appid={}&units=metric\".format(lat, lon, key)\n",
    "    res = requests.get(url)\n",
    "    data = res.json()\n",
    "    current_dateTime = date.today()\n",
    "    \n",
    "    # Accessing the data from JSON response\n",
    "    location = data['name']\n",
    "    date = current_dateTime\n",
    "    temperature = data['main']['temp']\n",
    "    humidity = data['main']['humidity']\n",
    "    wind_speed = data['wind']['speed']\n",
    "    latitude = data['coord']['lat']\n",
    "    longitude = data['coord']['lon']\n",
    "    description = data['weather'][0]['description']\n",
    "    \n",
    "    # Collecting the text data in a dictionary\n",
    "    weather_data = {\n",
    "        'Location': location,\n",
    "        'Date': date,\n",
    "        'Temperature': temperature,\n",
    "        'Humidity': humidity,\n",
    "        'Wind Speed': wind_speed,\n",
    "        'Latitude': latitude,\n",
    "        'Longitude': longitude,\n",
    "        'Description': description.title()  # Title case the description\n",
    "    }\n",
    "    \n",
    "    # Visualization using Seaborn bar plot\n",
    "    plt.figure(figsize=(8, 6))\n",
    "    sns.barplot(x=['Temperature', 'Humidity', 'Wind Speed'], y=[temperature, humidity, wind_speed])\n",
    "    plt.title(f'Current Weather in {location}')\n",
    "    plt.ylabel('Value')\n",
    "    plt.xlabel('Parameter')\n",
    "    bar_plot_filename = 'bar_plot.png'\n",
    "    plt.savefig(bar_plot_filename)  # Save the bar plot to a file\n",
    "    plt.close()\n",
    "    \n",
    "    # Plotting using Matplotlib\n",
    "    timestamps =  ['2024-7-4', str(date), '2024-7-6', '2024-7-7']\n",
    "    temperatures = ['23.06', str(temperature), '33.06', '28.35']\n",
    "    plt.figure(figsize=(8, 6))\n",
    "    plt.plot(timestamps, temperatures, marker='o', linestyle='-', color='orange', label='Temperature')\n",
    "    plt.xlabel('Time')\n",
    "    plt.ylabel('Temperature (°C)')\n",
    "    plt.title(f'Temperature Variation in {location}')\n",
    "    plt.grid(True)\n",
    "    plt.legend()\n",
    "    line_plot_filename = 'line_plot.png'\n",
    "    plt.savefig(line_plot_filename)  # Save the line plot to a file\n",
    "    plt.close()\n",
    "    \n",
    "    # Creating data for the heatmap using Plotly\n",
    "    parameters = ['Temperature', 'Humidity', 'Wind Speed']\n",
    "    values = [temperature, humidity, wind_speed]\n",
    "    data = [\n",
    "        go.Heatmap(\n",
    "            z=[values],\n",
    "            x=parameters,\n",
    "            y=['Weather Parameters'],\n",
    "            colorscale='Viridis',\n",
    "            zmin=0,\n",
    "            zmax=max(values)\n",
    "        )\n",
    "    ]\n",
    "    layout = go.Layout(\n",
    "        title=f'Current Weather in {location}',\n",
    "        xaxis=dict(title='Weather Parameter'),\n",
    "        yaxis=dict(title=''),\n",
    "        height=300,\n",
    "    )\n",
    "    fig = go.Figure(data=data, layout=layout)\n",
    "    heatmap_filename = 'heatmap.html'\n",
    "    fig.write_html(heatmap_filename)  # Save the heatmap to an HTML file\n",
    "    \n",
    "    # Return all data and filenames\n",
    "    return weather_data, bar_plot_filename, line_plot_filename, heatmap_filename"
   ]
  },
  {
   "cell_type": "markdown",
   "id": "b55d4b27-4011-4d5d-a71a-158cfcff228c",
   "metadata": {},
   "source": [
    "## Below is the code snippet from notebook_2.ipynb"
   ]
  },
  {
   "cell_type": "code",
   "execution_count": 36,
   "id": "f9c97351-523e-4237-ba46-49d735a22b93",
   "metadata": {},
   "outputs": [],
   "source": [
    "def sendEmail(lat,lon, email_to):\n",
    "    import smtplib\n",
    "    from email.mime.multipart import MIMEMultipart\n",
    "    from email.mime.text import MIMEText\n",
    "    from email.mime.base import MIMEBase\n",
    "    from email import encoders\n",
    "    from datetime import datetime \n",
    "\n",
    "    #Call the getWeatherData\n",
    "    weather_data, bar_plot_filename, line_plot_filename, heatmap_filename = getWeatherData(lat, lon)\n",
    "    \n",
    "    # Email account details\n",
    "    email_from = 'srinidhi.ss24@gmail.com'\n",
    "    email_to = email_to\n",
    "    password = 'wivy zcfe twbu wwyr'\n",
    "    \n",
    "    # Create message container - the correct MIME type is multipart/alternative.\n",
    "    msg = MIMEMultipart('alternative')\n",
    "    msg['Subject'] = 'Weather Forecast From OpenWeatherMap for {}'.format(str(weather_data['Date']))\n",
    "    msg['From'] = email_from\n",
    "    msg['To'] = email_to\n",
    "    \n",
    "    #Actual data\n",
    "    first_name = email_to.split('.')\n",
    "    time = datetime.now()\n",
    "    time = time.time()\n",
    "    \n",
    "    # Email body\n",
    "    body = f\"\"\"\n",
    "    <html>\n",
    "      <head></head>\n",
    "      <body>\n",
    "        <p>Hello {first_name[0].title()}, Greetings !!!</p>\n",
    "        <p>Please find below the weather data from Open Weather Map :</p>\n",
    "        <ul>\n",
    "          <li><strong>Location:</strong> {weather_data['Location']}</li>\n",
    "          <li><strong>Time:</strong> {time}</li>\n",
    "          <li><strong>Date:</strong> {weather_data['Date']}</li>\n",
    "          <li><strong>Temperature:</strong> {weather_data['Temperature']} degree Celsius</li>\n",
    "          <li><strong>Humidity:</strong> {weather_data['Humidity']}%</li>\n",
    "          <li><strong>Wind Speed:</strong> {weather_data['Wind Speed']} m/s</li>\n",
    "          <li><strong>Description:</strong> {weather_data['Description'].title()}</li>\n",
    "        </ul>\n",
    "        <p>Best regards,<br>OpenWeatherMap<br>SP Srinidhi</p>\n",
    "      </body>\n",
    "    </html>\n",
    "    \"\"\"\n",
    "    \n",
    "    # Attach the email body\n",
    "    msg.attach(MIMEText(body, 'html')) #plain\n",
    "    \n",
    "    # Attach plots as attachments\n",
    "    for i, plot_filename in enumerate(['bar_plot.png', 'line_plot.png','heatmap.html']):\n",
    "        attachment = open(plot_filename, 'rb')\n",
    "    \n",
    "        # Create a MIMEBase object\n",
    "        part = MIMEBase('application', 'octet-stream')\n",
    "        part.set_payload(attachment.read())\n",
    "        encoders.encode_base64(part)\n",
    "        part.add_header('Content-Disposition', f'attachment; filename= {plot_filename}')\n",
    "        msg.attach(part)\n",
    "    \n",
    "    # Send the email\n",
    "    try:\n",
    "        server = smtplib.SMTP('smtp.gmail.com', 587)\n",
    "        server.starttls()\n",
    "        server.login(email_from, password)\n",
    "        server.sendmail(email_from, email_to, msg.as_string())\n",
    "        server.quit()\n",
    "        print('Email sent successfully!')\n",
    "    except Exception as e:\n",
    "        print(f'Something went wrong... {e}')"
   ]
  },
  {
   "cell_type": "markdown",
   "id": "e9a4b01e-c056-44d0-9fd6-fff0c84c8ed1",
   "metadata": {},
   "source": [
    "## Below is the integrated code"
   ]
  },
  {
   "cell_type": "code",
   "execution_count": 37,
   "id": "b3eabe6d-467a-4f04-a062-35b838d34c89",
   "metadata": {},
   "outputs": [],
   "source": [
    "def getWeatherEmail():\n",
    "    lat = float(input(\"Enter the latitude of location you want to get the Weather Forecast for : \"))\n",
    "    lon = float(input(\"Enter the longitude of location you want to get the Weather Forecast for : \"))\n",
    "    email_to = str(input(\"Enter the Email-ID you want to get the weather forecast for :\"))\n",
    "    sendEmail(lat,lon,email_to)"
   ]
  },
  {
   "cell_type": "code",
   "execution_count": 38,
   "id": "525675ae-5f52-4a34-aa5e-14c272f3630e",
   "metadata": {},
   "outputs": [
    {
     "name": "stdin",
     "output_type": "stream",
     "text": [
      "Enter the latitude of location you want to get the Weather Forecast for :  12.9715\n",
      "Enter the longitude of location you want to get the Weather Forecast for :  77.5945\n",
      "Enter the Email-ID you want to get the weather forecast for : srinidhi.ss26@gmail.com\n"
     ]
    },
    {
     "name": "stdout",
     "output_type": "stream",
     "text": [
      "Email sent successfully!\n"
     ]
    }
   ],
   "source": [
    "getWeatherEmail()"
   ]
  },
  {
   "cell_type": "markdown",
   "id": "ed59cbf7-0d23-4165-9b7d-47223127937a",
   "metadata": {},
   "source": [
    "-------------------------------"
   ]
  },
  {
   "cell_type": "markdown",
   "id": "9e6ad42f-26e7-48f8-a6c1-c191ac2f5155",
   "metadata": {},
   "source": [
    "-------------------------------------------------------------THE END----------------------------------------------------------"
   ]
  }
 ],
 "metadata": {
  "kernelspec": {
   "display_name": "Python 3 (ipykernel)",
   "language": "python",
   "name": "python3"
  },
  "language_info": {
   "codemirror_mode": {
    "name": "ipython",
    "version": 3
   },
   "file_extension": ".py",
   "mimetype": "text/x-python",
   "name": "python",
   "nbconvert_exporter": "python",
   "pygments_lexer": "ipython3",
   "version": "3.11.7"
  }
 },
 "nbformat": 4,
 "nbformat_minor": 5
}
